{
  "nbformat": 4,
  "nbformat_minor": 0,
  "metadata": {
    "colab": {
      "provenance": [],
      "authorship_tag": "ABX9TyPJwccsF3qU/g7wuB334l/f",
      "include_colab_link": true
    },
    "kernelspec": {
      "name": "python3",
      "display_name": "Python 3"
    },
    "language_info": {
      "name": "python"
    }
  },
  "cells": [
    {
      "cell_type": "markdown",
      "metadata": {
        "id": "view-in-github",
        "colab_type": "text"
      },
      "source": [
        "<a href=\"https://colab.research.google.com/github/ocalru/EDP-I-Simulacion-I/blob/main/Estadistica_Intervalos_de_Confianza_.ipynb\" target=\"_parent\"><img src=\"https://colab.research.google.com/assets/colab-badge.svg\" alt=\"Open In Colab\"/></a>"
      ]
    },
    {
      "cell_type": "code",
      "source": [
        "import numpy as np\n",
        "from scipy.stats import norm, t\n",
        "\n",
        "muestra1 = [\n",
        "    0.584039324, 0.628248988, 0.47281894, 0.409997322, 0.344825784,\n",
        "    0.409572724, 0.89518444, 0.204785006, 0.794993364, 0.387758379,\n",
        "    0.951182253, 0.827099523, 0.101835567, 0.596718252, 0.69197521,\n",
        "    0.689214519, 0.559238474, 0.5526478, 0.93295427, 0.319537634,\n",
        "    0.029490351, 0.953561548, 0.064602028, 0.835720906, 0.16668096,\n",
        "    0.498675615, 0.829479165, 0.408120362, 0.594459335, 0.107077848,\n",
        "    0.377982262, 0.296641114, 0.30112375, 0.772489672, 0.309078618,\n",
        "    0.683858113, 0.160823255, 0.602620521, 0.333170294, 0.257773104,\n",
        "    0.358027225, 0.913120324, 0.111885696, 0.760161967, 0.738218556,\n",
        "    0.493211283, 0.72343677, 0.103278597, 0.240621913, 0.165821188,\n",
        "    0.091790336, 0.650231928, 0.117872125, 0.442637575, 0.890936884,\n",
        "    0.185830126, 0.167166384, 0.126108474, 0.699502328, 0.077354338\n",
        "]\n",
        "\n",
        "\n",
        "muestra2 = [\n",
        "    0.370109399, 0.654597867, 0.223719072, 0.287616308, 0.392898818, 0.024742536,\n",
        "    0.679383413, 0.599881117, 0.11745177, 0.611595288, 0.967413458, 0.61710967,\n",
        "    0.473702616, 0.313258618, 0.171455004, 0.457098689, 0.324407107, 0.231719289,\n",
        "    0.065162336, 0.073733927, 0.538729163, 0.181619989, 0.465947838, 0.508606705,\n",
        "    0.536075481, 0.450897437, 0.849430135, 0.513815676, 0.170060485, 0.790651525,\n",
        "    0.02447856, 0.762167552, 0.781979239, 0.867065979, 0.21652339, 0.739147205,\n",
        "    0.747496971, 0.656188039, 0.736371963, 0.71790226, 0.100317149, 0.574336522,\n",
        "    0.700715827, 0.996812255, 0.506231735, 0.526961659, 0.169450086, 0.473477001,\n",
        "    0.441061105, 0.428440667, 0.599516067, 0.237722007, 0.388990682, 0.491768855,\n",
        "    0.126869405, 0.993302393, 0.298368984, 0.420890182, 0.052771278, 0.875422976\n",
        "]\n",
        "# Estadísticos muestrales\n",
        "n1 = len(muestra1)\n",
        "n2 = len(muestra2)\n",
        "x1_bar = np.mean(muestra1) # media muestral\n",
        "x2_bar = np.mean(muestra2)\n",
        "s1 = np.std(muestra1, ddof=1) # calculo de la desviacion estandar muestral, usando la correccion de bassel\n",
        "s2 = np.std(muestra2, ddof=1)\n",
        "\n",
        "# Nivel de confianza\n",
        "confianza = 0.90\n",
        "alpha = 1 - confianza # significancia\n",
        "print(f\"Tamaño de la muestra 1: {n1}\")\n",
        "print(f\"Tamaño de la muestra 2: {n2}\")\n",
        "\n",
        "\n",
        "### --- Intervalo para la media de la población 1 (varianza desconocida) ---\n",
        "\n",
        "t_crit_1 = t.ppf(1 - alpha/2, df=n1-1) # se calcula los valorres críticos de la distribución t de Student con\n",
        "# 𝑛1 - 1 grados de libertad y con  alpha = 0.10\n",
        "\n",
        "\n",
        "ic_media1 = (\n",
        "    x1_bar - t_crit_1 * s1 / np.sqrt(n1),\n",
        "    x1_bar + t_crit_1 * s1 / np.sqrt(n1)\n",
        ")\n",
        "\n",
        "\n"
      ],
      "metadata": {
        "colab": {
          "base_uri": "https://localhost:8080/"
        },
        "id": "YmQKieikDMuQ",
        "outputId": "ce95ce0f-978f-448f-953b-ffbd07e43090"
      },
      "execution_count": 6,
      "outputs": [
        {
          "output_type": "stream",
          "name": "stdout",
          "text": [
            "Tamaño de la muestra 1: 60\n",
            "Tamaño de la muestra 2: 60\n",
            "\n",
            "Intervalo de confianza al 90% para la media de la población 1:\n",
            "    (np.float64(0.4063331705499446), np.float64(0.5268425164833886))\n"
          ]
        }
      ]
    },
    {
      "cell_type": "code",
      "source": [
        "\n",
        "\n",
        "### --- Diferencia de medias ---\n",
        "\n",
        "## CASO 1: Varianzas conocidas (usamos 1/12 como varianza poblacional de U[0,1])\n",
        "sigma1_known = 1/12\n",
        "sigma2_known = 1/12\n",
        "z_crit = norm.ppf(1 - alpha/2)\n",
        "error_caso1 = z_crit * np.sqrt(sigma1_known / n1 + sigma2_known / n2)\n",
        "ic_dif1 = ((x1_bar - x2_bar) - error_caso1, (x1_bar - x2_bar) + error_caso1)\n",
        "\n",
        "## CASO 2: Varianzas desconocidas pero iguales\n",
        "sp2 = ((n1 - 1)*s1**2 + (n2 - 1)*s2**2) / (n1 + n2 - 2)\n",
        "t_crit_2 = t.ppf(1 - alpha/2, df=n1 + n2 - 2)\n",
        "error_caso2 = t_crit_2 * np.sqrt(sp2 * (1/n1 + 1/n2))\n",
        "ic_dif2 = ((x1_bar - x2_bar) - error_caso2, (x1_bar - x2_bar) + error_caso2)\n",
        "\n",
        "## CASO 3: Varianzas desconocidas y diferentes (Welch)\n",
        "se_welch = np.sqrt(s1**2 / n1 + s2**2 / n2)\n",
        "df_welch = (s1**2/n1 + s2**2/n2)**2 / ((s1**2/n1)**2/(n1-1) + (s2**2/n2)**2/(n2-1))\n",
        "t_crit_3 = t.ppf(1 - alpha/2, df=df_welch)\n",
        "error_caso3 = t_crit_3 * se_welch\n",
        "ic_dif3 = ((x1_bar - x2_bar) - error_caso3, (x1_bar - x2_bar) + error_caso3)\n",
        "\n",
        "### --- Mostrar resultados ---\n",
        "print(\"\\n--- RESULTADOS ---\")\n",
        "print(f\"Intervalo de confianza al 90% para la media de la población 1:\")\n",
        "print(f\"    {ic_media1}\")\n",
        "\n",
        "print(f\"\\nIntervalo de confianza al 90% para la diferencia de medias:\")\n",
        "print(f\"  Caso 1 (varianzas conocidas): {ic_dif1}\")\n",
        "print(f\"  Caso 2 (varianzas desconocidas pero iguales): {ic_dif2}\")\n",
        "print(f\"  Caso 3 (varianzas desconocidas y diferentes): {ic_dif3}\")"
      ],
      "metadata": {
        "colab": {
          "base_uri": "https://localhost:8080/"
        },
        "id": "MGGHDa4XD5nP",
        "outputId": "4075937a-7a45-4757-f100-c642329cbc65"
      },
      "execution_count": 7,
      "outputs": [
        {
          "output_type": "stream",
          "name": "stdout",
          "text": [
            "\n",
            "--- RESULTADOS ---\n",
            "Intervalo de confianza al 90% para la media de la población 1:\n",
            "    (np.float64(0.4063331705499446), np.float64(0.5268425164833886))\n",
            "\n",
            "Intervalo de confianza al 90% para la diferencia de medias:\n",
            "  Caso 1 (varianzas conocidas): (np.float64(-0.09203086661259291), np.float64(0.08135192934592622))\n",
            "  Caso 2 (varianzas desconocidas pero iguales): (np.float64(-0.08752306864549107), np.float64(0.07684413137882438))\n",
            "  Caso 3 (varianzas desconocidas y diferentes): (np.float64(-0.08752526654293932), np.float64(0.07684632927627263))\n"
          ]
        }
      ]
    }
  ]
}