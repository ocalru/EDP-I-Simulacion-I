{
  "nbformat": 4,
  "nbformat_minor": 0,
  "metadata": {
    "colab": {
      "provenance": [],
      "authorship_tag": "ABX9TyPcM0RBu6hFq10kQQNiFH/+",
      "include_colab_link": true
    },
    "kernelspec": {
      "name": "python3",
      "display_name": "Python 3"
    },
    "language_info": {
      "name": "python"
    }
  },
  "cells": [
    {
      "cell_type": "markdown",
      "metadata": {
        "id": "view-in-github",
        "colab_type": "text"
      },
      "source": [
        "<a href=\"https://colab.research.google.com/github/ocalru/EDP-I-Simulacion-I/blob/main/Lista_de_ejercicios_Analisis_Matematico_Segundo_Parcial_.ipynb\" target=\"_parent\"><img src=\"https://colab.research.google.com/assets/colab-badge.svg\" alt=\"Open In Colab\"/></a>"
      ]
    },
    {
      "cell_type": "markdown",
      "source": [
        " <p align=\"center\">\n",
        "    <font size=\"10\" color=\"lightblue\"> Ejercicio 1: </font>\n",
        "</p>"
      ],
      "metadata": {
        "id": "vqMznaUepR0F"
      }
    },
    {
      "cell_type": "markdown",
      "source": [
        "\n",
        "\n",
        "\n",
        "Para la  ortogonalidad de $ \\mathbf{u} + \\mathbf{v} $ y $ \\mathbf{u} - \\mathbf{v} $\n",
        "\n",
        "Sean $ \\mathbf{u} $ y $ \\mathbf{v} $ vectores **unitarios y ortogonales**. Queremos demostrar que:\n",
        "\n",
        "$$\n",
        "(\\mathbf{u} + \\mathbf{v}) \\cdot (\\mathbf{u} - \\mathbf{v}) = 0\n",
        "$$\n",
        "\n",
        "Demostración:\n",
        "\n",
        "$$\n",
        "(\\mathbf{u} + \\mathbf{v}) \\cdot (\\mathbf{u} - \\mathbf{v}) = \\mathbf{u} \\cdot \\mathbf{u} - \\mathbf{u} \\cdot \\mathbf{v} + \\mathbf{v} \\cdot \\mathbf{u} - \\mathbf{v} \\cdot \\mathbf{v}\n",
        "$$\n",
        "\n",
        "Sabemos que:\n",
        "\n",
        "- $ \\mathbf{u} \\cdot \\mathbf{u} = 1 $ (por que los vectores $v$ y $u$ son normales)\n",
        "- $ \\mathbf{v} \\cdot \\mathbf{v} = 1 $\n",
        "- $ \\mathbf{u} \\cdot \\mathbf{v} = 0 $ (porque son ortogonales)\n",
        "\n",
        "Entonces:\n",
        "\n",
        "$$\n",
        "(\\mathbf{u} + \\mathbf{v}) \\cdot (\\mathbf{u} - \\mathbf{v}) = 1 - 0 + 0 - 1 = 0\n",
        "$$\n",
        "\n",
        "Entoneces se tiene que: $ \\mathbf{u} + \\mathbf{v} \\perp \\mathbf{u} - \\mathbf{v} $\n",
        "\n",
        "Calculo de las normas:\n",
        "\n",
        "$$\n",
        "\\| \\mathbf{u} + \\mathbf{v} \\|^2 = (\\mathbf{u} + \\mathbf{v}) \\cdot (\\mathbf{u} + \\mathbf{v}) = \\mathbf{u} \\cdot \\mathbf{u} + 2 \\mathbf{u} \\cdot \\mathbf{v} + \\mathbf{v} \\cdot \\mathbf{v} = 1 + 0 + 1 = 2\n",
        "\\Rightarrow \\| \\mathbf{u} + \\mathbf{v} \\| = \\sqrt{2}\n",
        "$$\n",
        "\n",
        "$$\n",
        "\\| \\mathbf{u} - \\mathbf{v} \\| = \\sqrt{2}\n",
        "$$\n",
        "\n",
        "\n"
      ],
      "metadata": {
        "id": "cqqx4y5RpNnw"
      }
    },
    {
      "cell_type": "markdown",
      "source": [
        " <p align=\"center\">\n",
        "    <font size=\"10\" color=\"lightblue\"> Ejercicio 2: </font>\n",
        "</p>"
      ],
      "metadata": {
        "id": "SC_M28UNqylv"
      }
    },
    {
      "cell_type": "markdown",
      "source": [
        "Sea $ \\mathbf{w} := \\mathbf{v} - \\mathbf{u} (\\mathbf{u}^T \\mathbf{v}) $\n",
        "\n",
        "Queremos probar que $ \\mathbf{w} \\perp \\mathbf{u} $, es decir:\n",
        "\n",
        "$$\n",
        "\\mathbf{w} \\cdot \\mathbf{u} = 0\n",
        "$$\n",
        "\n",
        " Demostración:\n",
        "\n",
        "$$\n",
        "\\mathbf{w} \\cdot \\mathbf{u} = (\\mathbf{v} - \\mathbf{u} (\\mathbf{u}^T \\mathbf{v})) \\cdot \\mathbf{u} = \\mathbf{v} \\cdot \\mathbf{u} - (\\mathbf{u}^T \\mathbf{v}) (\\mathbf{u} \\cdot \\mathbf{u})\n",
        "$$\n",
        "\n",
        "Sabemos que $ \\mathbf{u} \\cdot \\mathbf{u} = 1 $, ya que $ u $ es un vector normal, entonces:\n",
        "\n",
        "$$\n",
        "\\mathbf{w} \\cdot \\mathbf{u} = \\mathbf{u} \\cdot \\mathbf{v} - (\\mathbf{u} \\cdot \\mathbf{v})(1) = 0\n",
        "$$\n",
        "\n",
        " $ \\mathbf{w} $ es ortogonal a $ \\mathbf{u} $\n",
        "\n",
        "\n",
        "\n",
        "**Observación:** El vector $ \\mathbf{w} $ es la componente ortogonal de $ \\mathbf{v} $ respecto a $ \\mathbf{u} $."
      ],
      "metadata": {
        "id": "KDRwBLpisVPU"
      }
    },
    {
      "cell_type": "markdown",
      "source": [
        " <p align=\"center\">\n",
        "    <font size=\"10\" color=\"lightblue\"> Ejercicio 3: </font>\n",
        "</p>"
      ],
      "metadata": {
        "id": "_kIIutUvw2CG"
      }
    },
    {
      "cell_type": "markdown",
      "source": [
        "\n",
        "\n",
        "Dado:\n",
        "\n",
        "- $ \\mathbf{w} = \\mathbf{u} + \\mathbf{v} $\n",
        "- $ \\mathbf{z} = \\mathbf{u} - \\mathbf{v} $\n",
        "\n",
        "Queremos probar que:\n",
        "\n",
        "$$\n",
        "\\mathbf{w}^T \\mathbf{w} + \\mathbf{z}^T \\mathbf{z} = 2 \\mathbf{u}^T \\mathbf{u} + 2 \\mathbf{v}^T \\mathbf{v}\n",
        "$$\n",
        "\n",
        "Demostración:\n",
        "\n",
        "$$\n",
        "\\mathbf{w}^T \\mathbf{w} = (\\mathbf{u} + \\mathbf{v})^T (\\mathbf{u} + \\mathbf{v}) = \\mathbf{u}^T \\mathbf{u} + 2 \\mathbf{u}^T \\mathbf{v} + \\mathbf{v}^T \\mathbf{v}\n",
        "$$\n",
        "\n",
        "$$\n",
        "\\mathbf{z}^T \\mathbf{z} = (\\mathbf{u} - \\mathbf{v})^T (\\mathbf{u} - \\mathbf{v}) = \\mathbf{u}^T \\mathbf{u} - 2 \\mathbf{u}^T \\mathbf{v} + \\mathbf{v}^T \\mathbf{v}\n",
        "$$\n",
        "\n",
        "Sumando ambas:\n",
        "\n",
        "$$\n",
        "\\mathbf{w}^T \\mathbf{w} + \\mathbf{z}^T \\mathbf{z} =\n",
        "(\\mathbf{u}^T \\mathbf{u} + 2 \\mathbf{u}^T \\mathbf{v} + \\mathbf{v}^T \\mathbf{v}) +\n",
        "(\\mathbf{u}^T \\mathbf{u} - 2 \\mathbf{u}^T \\mathbf{v} + \\mathbf{v}^T \\mathbf{v})\n",
        "$$\n",
        "\n",
        "$$\n",
        "= 2 \\mathbf{u}^T \\mathbf{u} + 2 \\mathbf{v}^T \\mathbf{v}\n",
        "$$\n",
        "\n",
        "\n",
        "\n"
      ],
      "metadata": {
        "id": "orm6DtMnwuIJ"
      }
    },
    {
      "cell_type": "markdown",
      "source": [
        "\n",
        " <p align=\"center\">\n",
        "    <font size=\"10\" color=\"lightblue\"> Ejercicio 4: </font>\n",
        "</p>\n"
      ],
      "metadata": {
        "id": "gUIHgAA-1h7e"
      }
    },
    {
      "cell_type": "markdown",
      "source": [
        "\n",
        "\n",
        "Supongamos que:\n",
        "\n",
        "$$\n",
        "\\langle x, y \\rangle = \\langle x, z \\rangle \\quad \\text{para todo } x \\in \\mathbb{R}^n\n",
        "$$\n",
        "\n",
        "Entonces:\n",
        "\n",
        "$$\n",
        "\\langle x, y - z \\rangle = \\langle x, y \\rangle - \\langle x, z \\rangle = 0 \\quad \\text{para todo } x \\in \\mathbb{R}^n\n",
        "$$\n",
        "\n",
        "\n",
        "A partir de la propiedad de **linealidad en la segunda variable**:\n",
        "\n",
        "$$\n",
        "\\langle x, y - z \\rangle = \\langle x, y \\rangle - \\langle x, z \\rangle\n",
        "$$\n",
        "\n",
        "Y como por hipótesis $ \\langle x, y \\rangle = \\langle x, z \\rangle $, entonces:\n",
        "\n",
        "$$\n",
        "\\langle x, y - z \\rangle = 0\n",
        "$$\n",
        "\n",
        "Para todo $ x \\in \\mathbb{R}^n $. Así, el único vector ortogonal a todo $ \\mathbb{R}^n $ es el vector nulo:\n",
        "\n",
        "$$\n",
        "y - z = 0 \\Rightarrow y = z\n",
        "$$\n",
        "\n",
        "\n",
        "\n",
        "\n",
        "\n",
        "\n",
        "\n",
        "\n"
      ],
      "metadata": {
        "id": "LryDib1M1WuG"
      }
    },
    {
      "cell_type": "markdown",
      "source": [
        "<p align=\"center\">\n",
        "    <font size=\"10\" color=\"lightblue\"> Ejercicio 5: </font>\n",
        "</p>"
      ],
      "metadata": {
        "id": "_Y7tpayT7-FQ"
      }
    },
    {
      "cell_type": "markdown",
      "source": [
        "\n",
        "\n",
        "Sea $ \\beta $ una base para un subespacio $ W \\subset \\mathbb{R}^n $. Demuestra que\n",
        "\n",
        "$$\n",
        "z \\in W^\\perp \\iff \\langle z, v \\rangle = 0 \\quad \\forall v \\in \\beta.\n",
        "$$\n",
        "\n",
        "\n",
        "Demostración:\n",
        "   \n",
        "Si $ z \\in W^\\perp $, entonces por definición:\n",
        "\n",
        "$$\n",
        "\\langle z, w \\rangle = 0 \\quad \\forall w \\in W.\n",
        "$$\n",
        "\n",
        "En particular, esto se cumple para cada vector de la base $ \\beta $ si:\n",
        "\n",
        "$$\n",
        "\\langle z, v \\rangle = 0 \\quad \\forall v \\in \\beta,\n",
        "$$\n",
        "\n",
        "Entonces, como cualquier $ w \\in W $ se puede escribir como combinación lineal de elementos de $ \\beta $, es decir:\n",
        "\n",
        "$$\n",
        "w = \\sum_i c_i v_i,\n",
        "$$\n",
        "\n",
        "Se tiene:\n",
        "\n",
        "$$\n",
        "\\langle z, w \\rangle = \\left\\langle z, \\sum_i c_i v_i \\right\\rangle = \\sum_i c_i \\langle z, v_i \\rangle = \\sum_i c_i \\cdot 0 = 0.\n",
        "$$\n",
        "\n",
        "Por lo tanto, $ z \\in W^\\perp $.\n",
        "\n",
        "\n",
        "\n"
      ],
      "metadata": {
        "id": "KJ8dtBh_73RG"
      }
    },
    {
      "cell_type": "markdown",
      "source": [
        "<p align=\"center\">\n",
        "    <font size=\"10\" color=\"lightblue\"> Ejercicio 6: </font>\n",
        "</p>"
      ],
      "metadata": {
        "id": "hU3lYkpjA1LZ"
      }
    },
    {
      "cell_type": "markdown",
      "source": [
        "$$\n",
        "\\langle x, y \\rangle = 0 \\quad \\text{para todo } x \\in \\mathbb{R}^n \\Rightarrow y = 0\n",
        "$$\n",
        "\n",
        "**Demostración**:\n",
        "\n",
        "Supongamos que existe un vector $ y \\neq 0 $ tal que $ \\langle x, y \\rangle = 0 $ para todo $ x \\in \\mathbb{R}^n $.\n",
        "\n",
        "En particular, tomemos $ x = y $. Entonces:\n",
        "\n",
        "$$\n",
        "\\langle y, y \\rangle = 0 \\Rightarrow \\|y\\|^2 = 0 \\Rightarrow y = 0\n",
        "$$\n",
        "\n",
        "Por lo tanto, la única forma de que $ \\langle x, y \\rangle = 0 $ para todo $ x $ es que $ y = 0 $.\n",
        "\n"
      ],
      "metadata": {
        "id": "rV6zD4UWAyhx"
      }
    },
    {
      "cell_type": "markdown",
      "source": [
        "<p align=\"center\">\n",
        "    <font size=\"10\" color=\"lightblue\"> Ejercicio 7: </font>\n",
        "</p>"
      ],
      "metadata": {
        "id": "HIlcsniz9D4W"
      }
    },
    {
      "cell_type": "markdown",
      "source": [
        "\n",
        "\n",
        "Sea:\n",
        "\n",
        "$$\n",
        "W = \\{ x \\in \\mathbb{R}^n : \\langle x, y \\rangle = 0 \\}\n",
        "$$\n",
        "\n",
        "Es decir, \\( W \\) es el conjunto de vectores ortogonales a \\( y \\), también conocido como el complemento ortogonal:\n",
        "\n",
        "$$\n",
        "W = (\\text{span}\\{y\\})^\\perp\n",
        "$$\n",
        "\n",
        "Como \\( \\text{span}\\{y\\} \\) tiene dimensión 1 (porque \\( y \\neq 0 \\)), entonces:\n",
        "\n",
        "$$\n",
        "\\dim(W) = n - 1\n",
        "$$\n",
        "\n",
        "Esto se debe al **teorema de dimensión del complemento ortogonal**:\n",
        "\n",
        "$$\n",
        "\\dim(V) + \\dim(V^\\perp) = n\n",
        "$$\n",
        "\n",
        "Aplicado con $ V = \\text{span}\\{y\\} $, se obtiene:\n",
        "\n",
        "$$\n",
        "\\dim(W) = n - 1\n",
        "$$\n"
      ],
      "metadata": {
        "id": "SonCDO0O9AjG"
      }
    },
    {
      "cell_type": "markdown",
      "source": [
        "<p align=\"center\">\n",
        "    <font size=\"10\" color=\"lightblue\"> Ejercicio 8: </font>\n",
        "</p>"
      ],
      "metadata": {
        "id": "rI8NH7jj-WJg"
      }
    },
    {
      "cell_type": "markdown",
      "source": [
        "Sea el subespacio $ W \\subset \\mathbb{R}^3 $ generado por el vector $ w = (1, -1, 0) $. Encuentra una base ortonormal del complemento ortogonal $ W^\\perp $.\n",
        "\n",
        "\n",
        "\n",
        "Un vector $ x = (x_1, x_2, x_3) \\in W^\\perp $ debe cumplir:\n",
        "\n",
        "$$\n",
        "\\langle x, w \\rangle = 0 \\quad \\Rightarrow \\quad x_1(1) + x_2(-1) + x_3(0) = 0\n",
        "$$\n",
        "\n",
        "$$\n",
        "x_1 - x_2 = 0 \\quad \\Rightarrow \\quad x_1 = x_2\n",
        "$$\n",
        "\n",
        "Entonces, los vectores de $ W^\\perp $ tienen la forma:\n",
        "\n",
        "$$\n",
        "x = (a, a, b) = a(1,1,0) + b(0,0,1)\n",
        "$$\n",
        "\n",
        "\n",
        "Tomamos la base generadora:\n",
        "\n",
        "$$\n",
        "\\{ (1,1,0), (0,0,1) \\}\n",
        "$$\n",
        "\n",
        "Ambos son ortogonales y de norma distinta de 1, así que normalizamos:\n",
        "\n",
        "$$\n",
        "u_1 = \\frac{(1,1,0)}{\\|(1,1,0)\\|} = \\frac{1}{\\sqrt{2}}(1,1,0), \\quad\n",
        "u_2 = (0,0,1)\n",
        "$$\n",
        "\n",
        "\n",
        "\n",
        "Una base ortonormal de $ W^\\perp $ es:\n",
        "\n",
        "$$\n",
        "\\left\\{\n",
        "\\left( \\frac{1}{\\sqrt{2}}, \\frac{1}{\\sqrt{2}}, 0 \\right),\n",
        "(0,0,1)\n",
        "\\right\\}\n",
        "$$\n",
        "\n",
        "\n",
        "\n",
        "\n",
        "\n"
      ],
      "metadata": {
        "id": "gpy-ZNZp-Kgw"
      }
    },
    {
      "cell_type": "markdown",
      "source": [
        "<p align=\"center\">\n",
        "    <font size=\"10\" color=\"lightblue\"> Ejercicio 9: </font>\n",
        "</p>"
      ],
      "metadata": {
        "id": "JP7UuMnIFgIt"
      }
    },
    {
      "cell_type": "markdown",
      "source": [
        "\n",
        "\n",
        "Encuentra la proyección ortogonal del vector:\n",
        "\n",
        "$$\n",
        "h(t) = 4 + 3t - 2t^2\n",
        "$$\n",
        "\n",
        "sobre el subespacio\n",
        "\n",
        "$$\n",
        "W = P_1(\\mathbb{R})\n",
        "$$\n",
        "\n",
        "de polinomios de grado $\\leq 1$ del espacio $V$ de polinomios con coeficientes reales, con el producto interno definido por:\n",
        "\n",
        "$$\n",
        "\\langle f, g \\rangle = \\int_0^1 f(t)g(t) \\, dt.\n",
        "$$\n",
        "\n",
        "**Solución:**\n",
        "\n",
        "Sea $W = \\text{span}\\{1, t\\}$, una base de $P_1(\\mathbb{R})$.\n",
        "\n",
        "Buscamos la proyección ortogonal de $h(t)$ sobre $W$, es decir, un polinomio $p(t) = a + bt$ tal que:\n",
        "\n",
        "$$\n",
        "\\langle h - p, 1 \\rangle = 0, \\quad \\langle h - p, t \\rangle = 0.\n",
        "$$\n",
        "\n",
        "Esto equivale a resolver:\n",
        "\n",
        "- $\\displaystyle \\int_0^1 (h(t) - a - bt) \\cdot 1 \\, dt = 0$\n",
        "\n",
        "- $\\displaystyle \\int_0^1 (h(t) - a - bt) \\cdot t \\, dt = 0$\n",
        "\n",
        "\n",
        "\n",
        "Expandiendo  $h(t)$**\n",
        "\n",
        "$$\n",
        "h(t) = 4 + 3t - 2t^2\n",
        "$$\n",
        "\n",
        "Entonces:\n",
        "\n",
        "$$\n",
        "h(t) - a - bt = (4 - a) + (3 - b)t - 2t^2\n",
        "$$\n",
        "\n",
        "\n",
        "\n",
        "**Primera ecuación:**\n",
        "\n",
        "$$\n",
        "\\int_0^1 \\left[(4 - a) + (3 - b)t - 2t^2 \\right] dt = 0\n",
        "$$\n",
        "\n",
        "$$\n",
        "(4 - a)\\int_0^1 dt + (3 - b)\\int_0^1 t\\,dt -2\\int_0^1 t^2 dt = 0\n",
        "$$\n",
        "\n",
        "$$\n",
        "(4 - a)(1) + (3 - b)\\left(\\frac{1}{2}\\right) - 2\\left(\\frac{1}{3}\\right) = 0\n",
        "$$\n",
        "\n",
        "$$\n",
        "(4 - a) + \\frac{3 - b}{2} - \\frac{2}{3} = 0 \\tag{1}\n",
        "$$\n",
        "\n",
        "\n",
        "\n",
        "**Segunda ecuación:**\n",
        "\n",
        "$$\n",
        "\\int_0^1 \\left[(4 - a) + (3 - b)t - 2t^2 \\right] t \\, dt = 0\n",
        "$$\n",
        "\n",
        "$$\n",
        "\\int_0^1 (4 - a)t + (3 - b)t^2 - 2t^3 \\, dt = 0\n",
        "$$\n",
        "\n",
        "$$\n",
        "(4 - a)\\int_0^1 t \\, dt + (3 - b)\\int_0^1 t^2 \\, dt - 2\\int_0^1 t^3 \\, dt = 0\n",
        "$$\n",
        "\n",
        "$$\n",
        "(4 - a)\\left(\\frac{1}{2}\\right) + (3 - b)\\left(\\frac{1}{3}\\right) - 2\\left(\\frac{1}{4}\\right) = 0\n",
        "$$\n",
        "\n",
        "$$\n",
        "\\frac{4 - a}{2} + \\frac{3 - b}{3} - \\frac{1}{2} = 0 \\tag{2}\n",
        "$$\n",
        "\n",
        "\n",
        "Resolviendo el sistema:\n",
        "\n",
        "De la ecuación (1):\n",
        "\n",
        "$$\n",
        "(4 - a) + \\frac{3 - b}{2} - \\frac{2}{3} = 0\n",
        "\\Rightarrow 12(4 - a) + 6(3 - b) - 4 = 0\n",
        "\\Rightarrow 48 - 12a + 18 - 6b - 4 = 0\n",
        "\\Rightarrow -12a - 6b + 62 = 0 \\tag{3}\n",
        "$$\n",
        "\n",
        "De la ecuación (2):\n",
        "\n",
        "$$\n",
        "\\frac{4 - a}{2} + \\frac{3 - b}{3} - \\frac{1}{2} = 0\n",
        "\\Rightarrow 6(4 - a) + 4(3 - b) - 3 = 0\n",
        "\\Rightarrow 24 - 6a + 12 - 4b - 3 = 0\n",
        "\\Rightarrow -6a - 4b + 33 = 0 \\tag{4}\n",
        "$$\n",
        "\n",
        "Multiplicamos $(4)$ por $2$:\n",
        "\n",
        "$$\n",
        "-12a - 8b + 66 = 0 \\tag{5}\n",
        "$$\n",
        "\n",
        "Resta $ (5) - (3) $:\n",
        "\n",
        "$$\n",
        "(-12a - 8b + 66) - (-12a - 6b + 62) = 0\n",
        "\\Rightarrow -2b + 4 = 0 \\Rightarrow b = 2\n",
        "$$\n",
        "\n",
        "Sustituimos $b=2$ en (3):\n",
        "\n",
        "$$\n",
        "-12a - 6(2) + 62 = 0 \\Rightarrow -12a - 12 + 62 = 0 \\Rightarrow -12a = -50 \\Rightarrow a = \\frac{25}{6}\n",
        "$$\n",
        "\n",
        "Se tiene:\n",
        "\n",
        "$$\n",
        "\\boxed{\\text{La proyección ortogonal es } p(t) = \\frac{25}{6} + 2t}\n",
        "$$\n",
        "\n",
        "\n",
        "\n"
      ],
      "metadata": {
        "id": "7KM5rznVFaj3"
      }
    },
    {
      "cell_type": "markdown",
      "source": [
        "<p align=\"center\">\n",
        "    <font size=\"10\" color=\"lightblue\"> Ejercicio 10: </font>\n",
        "</p>"
      ],
      "metadata": {
        "id": "-Amy7PDYIUW6"
      }
    },
    {
      "cell_type": "markdown",
      "source": [
        "\n",
        "\n",
        "Sea $W$ subespacio vectorial de $\\mathbb{R}^n$. Demuestra que la proyección ortogonal  \n",
        "$\\pi : \\mathbb{R}^n \\to W$ satisface\n",
        "\n",
        "$$\n",
        "\\|\\pi(x)\\| \\leq \\|x\\| \\quad \\text{para cada } x \\in \\mathbb{R}^n.\n",
        "$$\n",
        "\n",
        "**Demostración:**\n",
        "\n",
        "Sea $x \\in \\mathbb{R}^n$ y sea $\\pi(x)$ la proyección ortogonal de $x$ sobre $W$. Entonces se puede escribir:\n",
        "\n",
        "$$\n",
        "x = \\pi(x) + z \\quad \\text{con } z \\in W^\\perp.\n",
        "$$\n",
        "\n",
        "Por el teorema de Pitágoras:\n",
        "\n",
        "$$\n",
        "\\|x\\|^2 = \\|\\pi(x)\\|^2 + \\|z\\|^2 \\geq \\|\\pi(x)\\|^2 \\Rightarrow \\|\\pi(x)\\| \\leq \\|x\\|.\n",
        "$$\n",
        "\n",
        "\n",
        "\n",
        "\n",
        "\n"
      ],
      "metadata": {
        "id": "eKzrAIhBIPVX"
      }
    },
    {
      "cell_type": "markdown",
      "source": [
        "<p align=\"center\">\n",
        "    <font size=\"10\" color=\"lightblue\"> Ejercicio 11: </font>\n",
        "</p>"
      ],
      "metadata": {
        "id": "aYLEsqMLLvjH"
      }
    },
    {
      "cell_type": "markdown",
      "source": [
        "\n",
        "\n",
        "\n",
        "Sea $A$ una matriz cuadrada de tamaño $n \\times n$ con entradas reales. Demuestra que\n",
        "\n",
        "$$\n",
        "AA^T = I_n \\quad \\text{si y solo si las filas de } A \\text{ forman una base ortonormal de } \\mathbb{R}^n.\n",
        "$$\n",
        "\n",
        "**Demostración:**\n",
        "\n",
        "**($\\Rightarrow$)** Supongamos $AA^T = I_n$. Sean $a_i$ las filas de $A$. La entrada $(i,j)$ de $AA^T$ es:\n",
        "\n",
        "$$\n",
        "(AA^T)_{ij} = \\langle a_i, a_j \\rangle.\n",
        "$$\n",
        "\n",
        "Dado que $AA^T = I_n$, entonces:\n",
        "\n",
        "- $\\langle a_i, a_j \\rangle = 0$ si $i \\ne j$ (ortogonalidad),\n",
        "- $\\langle a_i, a_i \\rangle = 1$ (norma unitaria).\n",
        "\n",
        "Esto implica que las filas de $A$ forman una base ortonormal.\n",
        "\n",
        "Si las filas de $A$ forman una base ortonormal, entonces:\n",
        "\n",
        "$$\n",
        "\\langle a_i, a_j \\rangle = \\delta_{ij} \\Rightarrow AA^T = I_n.\n",
        "$$\n",
        "\n",
        "\n"
      ],
      "metadata": {
        "id": "s2jR_brxLq48"
      }
    },
    {
      "cell_type": "markdown",
      "source": [
        "<p align=\"center\">\n",
        "    <font size=\"10\" color=\"lightblue\"> Ejercicio 12: </font>\n",
        "</p>"
      ],
      "metadata": {
        "id": "2pPc2eoYNn_B"
      }
    },
    {
      "cell_type": "markdown",
      "source": [
        "Sea $\\beta = \\{v_1, v_2, \\dots, v_n\\}$ una base ortonormal (BON) de $\\mathbb{R}^n$.\n",
        "\n",
        "Queremos demostrar que para todo $x, y \\in \\mathbb{R}^n$, se cumple:\n",
        "\n",
        "$$\n",
        "\\langle x, y \\rangle = \\sum_{i=1}^{n} \\langle x, v_i \\rangle \\langle y, v_i \\rangle\n",
        "$$\n",
        "\n",
        "\n",
        "Expresar los vectores en la base ortonormal:\n",
        "\n",
        "Como $\\beta$ es base ortonormal, cualquier vector $x \\in \\mathbb{R}^n$ puede escribirse como:\n",
        "\n",
        "$$\n",
        "x = \\sum_{i=1}^{n} \\langle x, v_i \\rangle v_i\n",
        "\\quad \\text{y} \\quad\n",
        "y = \\sum_{i=1}^{n} \\langle y, v_i \\rangle v_i\n",
        "$$\n",
        "\n",
        "Producto interno entre $x$ e $y$:\n",
        "\n",
        "Sustituimos las expresiones anteriores en el producto escalar:\n",
        "\n",
        "$$\n",
        "\\langle x, y \\rangle = \\left\\langle \\sum_{i=1}^{n} \\langle x, v_i \\rangle v_i,\\ \\sum_{i=1}^{n} \\langle y, v_i \\rangle v_i \\right\\rangle\n",
        "$$\n",
        "\n",
        "\n",
        "Usando la bilinealidad del producto interno:\n",
        "\n",
        "Distribuimos el producto escalar:\n",
        "\n",
        "$$\n",
        "\\langle x, y \\rangle =  \\sum_{i=1}^{n} \\langle x, v_i \\rangle \\langle y, v_i \\rangle \\langle v_i, v_i \\rangle\n",
        "$$\n",
        "\n",
        "\n",
        "\n",
        "Como el conjunto $ \\{v_i\\} $ de vectores forma una base ortonormal, entonces se cumple:\n",
        "\n",
        "$$\n",
        "\\langle v_i, v_i \\rangle = 1 \\quad \\text{para todo } i,\n",
        "$$\n",
        "\n",
        "\n",
        "\n",
        "\n",
        "Entonces la suma se reduce a:\n",
        "\n",
        "$$\n",
        "\\langle x, y \\rangle = \\sum_{i=1}^{n} \\langle x, v_i \\rangle \\langle y, v_i \\rangle\n",
        "$$\n",
        "\n",
        "\n",
        "\n"
      ],
      "metadata": {
        "id": "Xhx2fd4UNnDj"
      }
    }
  ]
}