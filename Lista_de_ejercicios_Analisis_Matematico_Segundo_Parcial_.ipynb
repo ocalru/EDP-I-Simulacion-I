{
  "nbformat": 4,
  "nbformat_minor": 0,
  "metadata": {
    "colab": {
      "provenance": [],
      "authorship_tag": "ABX9TyONMgxXfy8urPzL8ZngisGS",
      "include_colab_link": true
    },
    "kernelspec": {
      "name": "python3",
      "display_name": "Python 3"
    },
    "language_info": {
      "name": "python"
    }
  },
  "cells": [
    {
      "cell_type": "markdown",
      "metadata": {
        "id": "view-in-github",
        "colab_type": "text"
      },
      "source": [
        "<a href=\"https://colab.research.google.com/github/ocalru/EDP-I-Simulacion-I/blob/main/Lista_de_ejercicios_Analisis_Matematico_Segundo_Parcial_.ipynb\" target=\"_parent\"><img src=\"https://colab.research.google.com/assets/colab-badge.svg\" alt=\"Open In Colab\"/></a>"
      ]
    },
    {
      "cell_type": "markdown",
      "source": [
        " <p align=\"center\">\n",
        "    <font size=\"10\" color=\"lightblue\"> Ejercicio 1: </font>\n",
        "</p>"
      ],
      "metadata": {
        "id": "vqMznaUepR0F"
      }
    },
    {
      "cell_type": "markdown",
      "source": [
        "\n",
        "\n",
        "\n",
        "Para la  ortogonalidad de $ \\mathbf{u} + \\mathbf{v} $ y $ \\mathbf{u} - \\mathbf{v} $\n",
        "\n",
        "Sean $ \\mathbf{u} $ y $ \\mathbf{v} $ vectores **unitarios y ortogonales**. Queremos demostrar que:\n",
        "\n",
        "$$\n",
        "(\\mathbf{u} + \\mathbf{v}) \\cdot (\\mathbf{u} - \\mathbf{v}) = 0\n",
        "$$\n",
        "\n",
        "Demostración:\n",
        "\n",
        "$$\n",
        "(\\mathbf{u} + \\mathbf{v}) \\cdot (\\mathbf{u} - \\mathbf{v}) = \\mathbf{u} \\cdot \\mathbf{u} - \\mathbf{u} \\cdot \\mathbf{v} + \\mathbf{v} \\cdot \\mathbf{u} - \\mathbf{v} \\cdot \\mathbf{v}\n",
        "$$\n",
        "\n",
        "Sabemos que:\n",
        "\n",
        "- $ \\mathbf{u} \\cdot \\mathbf{u} = 1 $ (por que los vectores $v$ y $u$ son normales)\n",
        "- $ \\mathbf{v} \\cdot \\mathbf{v} = 1 $\n",
        "- $ \\mathbf{u} \\cdot \\mathbf{v} = 0 $ (porque son ortogonales)\n",
        "\n",
        "Entonces:\n",
        "\n",
        "$$\n",
        "(\\mathbf{u} + \\mathbf{v}) \\cdot (\\mathbf{u} - \\mathbf{v}) = 1 - 0 + 0 - 1 = 0\n",
        "$$\n",
        "\n",
        "Entoneces se tiene que: $ \\mathbf{u} + \\mathbf{v} \\perp \\mathbf{u} - \\mathbf{v} $\n",
        "\n",
        "Calculo de las normas:\n",
        "\n",
        "$$\n",
        "\\| \\mathbf{u} + \\mathbf{v} \\|^2 = (\\mathbf{u} + \\mathbf{v}) \\cdot (\\mathbf{u} + \\mathbf{v}) = \\mathbf{u} \\cdot \\mathbf{u} + 2 \\mathbf{u} \\cdot \\mathbf{v} + \\mathbf{v} \\cdot \\mathbf{v} = 1 + 0 + 1 = 2\n",
        "\\Rightarrow \\| \\mathbf{u} + \\mathbf{v} \\| = \\sqrt{2}\n",
        "$$\n",
        "\n",
        "$$\n",
        "\\| \\mathbf{u} - \\mathbf{v} \\| = \\sqrt{2}\n",
        "$$\n",
        "\n",
        "\n",
        ""
      ],
      "metadata": {
        "id": "cqqx4y5RpNnw"
      }
    },
    {
      "cell_type": "markdown",
      "source": [
        " <p align=\"center\">\n",
        "    <font size=\"10\" color=\"lightblue\"> Ejercicio 2: </font>\n",
        "</p>"
      ],
      "metadata": {
        "id": "SC_M28UNqylv"
      }
    },
    {
      "cell_type": "markdown",
      "source": [
        "Sea $ \\mathbf{w} := \\mathbf{v} - \\mathbf{u} (\\mathbf{u}^T \\mathbf{v}) $\n",
        "\n",
        "Queremos probar que $ \\mathbf{w} \\perp \\mathbf{u} $, es decir:\n",
        "\n",
        "$$\n",
        "\\mathbf{w} \\cdot \\mathbf{u} = 0\n",
        "$$\n",
        "\n",
        " Demostración:\n",
        "\n",
        "$$\n",
        "\\mathbf{w} \\cdot \\mathbf{u} = (\\mathbf{v} - \\mathbf{u} (\\mathbf{u}^T \\mathbf{v})) \\cdot \\mathbf{u} = \\mathbf{v} \\cdot \\mathbf{u} - (\\mathbf{u}^T \\mathbf{v}) (\\mathbf{u} \\cdot \\mathbf{u})\n",
        "$$\n",
        "\n",
        "Sabemos que $ \\mathbf{u} \\cdot \\mathbf{u} = 1 $, ya que $ u $ es un vector normal, entonces:\n",
        "\n",
        "$$\n",
        "\\mathbf{w} \\cdot \\mathbf{u} = \\mathbf{u} \\cdot \\mathbf{v} - (\\mathbf{u} \\cdot \\mathbf{v})(1) = 0\n",
        "$$\n",
        "\n",
        " $ \\mathbf{w} $ es ortogonal a $ \\mathbf{u} $\n",
        "\n",
        "\n",
        "\n",
        "**Observación:** El vector $ \\mathbf{w} $ es la componente ortogonal de $ \\mathbf{v} $ respecto a $ \\mathbf{u} $."
      ],
      "metadata": {
        "id": "KDRwBLpisVPU"
      }
    },
    {
      "cell_type": "markdown",
      "source": [
        " <p align=\"center\">\n",
        "    <font size=\"10\" color=\"lightblue\"> Ejercicio 3: </font>\n",
        "</p>"
      ],
      "metadata": {
        "id": "_kIIutUvw2CG"
      }
    },
    {
      "cell_type": "markdown",
      "source": [
        "\n",
        "\n",
        "Dado:\n",
        "\n",
        "- $ \\mathbf{w} = \\mathbf{u} + \\mathbf{v} $\n",
        "- $ \\mathbf{z} = \\mathbf{u} - \\mathbf{v} $\n",
        "\n",
        "Queremos probar que:\n",
        "\n",
        "$$\n",
        "\\mathbf{w}^T \\mathbf{w} + \\mathbf{z}^T \\mathbf{z} = 2 \\mathbf{u}^T \\mathbf{u} + 2 \\mathbf{v}^T \\mathbf{v}\n",
        "$$\n",
        "\n",
        "Demostración:\n",
        "\n",
        "$$\n",
        "\\mathbf{w}^T \\mathbf{w} = (\\mathbf{u} + \\mathbf{v})^T (\\mathbf{u} + \\mathbf{v}) = \\mathbf{u}^T \\mathbf{u} + 2 \\mathbf{u}^T \\mathbf{v} + \\mathbf{v}^T \\mathbf{v}\n",
        "$$\n",
        "\n",
        "$$\n",
        "\\mathbf{z}^T \\mathbf{z} = (\\mathbf{u} - \\mathbf{v})^T (\\mathbf{u} - \\mathbf{v}) = \\mathbf{u}^T \\mathbf{u} - 2 \\mathbf{u}^T \\mathbf{v} + \\mathbf{v}^T \\mathbf{v}\n",
        "$$\n",
        "\n",
        "Sumando ambas:\n",
        "\n",
        "$$\n",
        "\\mathbf{w}^T \\mathbf{w} + \\mathbf{z}^T \\mathbf{z} =\n",
        "(\\mathbf{u}^T \\mathbf{u} + 2 \\mathbf{u}^T \\mathbf{v} + \\mathbf{v}^T \\mathbf{v}) +\n",
        "(\\mathbf{u}^T \\mathbf{u} - 2 \\mathbf{u}^T \\mathbf{v} + \\mathbf{v}^T \\mathbf{v})\n",
        "$$\n",
        "\n",
        "$$\n",
        "= 2 \\mathbf{u}^T \\mathbf{u} + 2 \\mathbf{v}^T \\mathbf{v}\n",
        "$$\n",
        "\n",
        "\n",
        "\n"
      ],
      "metadata": {
        "id": "orm6DtMnwuIJ"
      }
    },
    {
      "cell_type": "markdown",
      "source": [
        "\n",
        " <p align=\"center\">\n",
        "    <font size=\"10\" color=\"lightblue\"> Ejercicio 4: </font>\n",
        "</p>\n"
      ],
      "metadata": {
        "id": "gUIHgAA-1h7e"
      }
    },
    {
      "cell_type": "markdown",
      "source": [
        "\n",
        "\n",
        "Supongamos que:\n",
        "\n",
        "$$\n",
        "\\langle x, y \\rangle = \\langle x, z \\rangle \\quad \\text{para todo } x \\in \\mathbb{R}^n\n",
        "$$\n",
        "\n",
        "Entonces:\n",
        "\n",
        "$$\n",
        "\\langle x, y - z \\rangle = \\langle x, y \\rangle - \\langle x, z \\rangle = 0 \\quad \\text{para todo } x \\in \\mathbb{R}^n\n",
        "$$\n",
        "\n",
        "\n",
        "A partir de la propiedad de **linealidad en la segunda variable**:\n",
        "\n",
        "$$\n",
        "\\langle x, y - z \\rangle = \\langle x, y \\rangle - \\langle x, z \\rangle\n",
        "$$\n",
        "\n",
        "Y como por hipótesis $ \\langle x, y \\rangle = \\langle x, z \\rangle $, entonces:\n",
        "\n",
        "$$\n",
        "\\langle x, y - z \\rangle = 0\n",
        "$$\n",
        "\n",
        "Para todo $ x \\in \\mathbb{R}^n $. Así, el único vector ortogonal a todo $ \\mathbb{R}^n $ es el vector nulo:\n",
        "\n",
        "$$\n",
        "y - z = 0 \\Rightarrow y = z\n",
        "$$\n",
        "\n",
        "\n",
        "\n",
        "\n",
        "---\n",
        "\n",
        "## Ejercicio 6\n",
        "\n",
        "\n",
        "\n",
        "## Ejercicio 7\n",
        "\n",
        "Sea:\n",
        "\n",
        "\\[\n",
        "W = \\{ x \\in \\mathbb{R}^n : \\langle x, y \\rangle = 0 \\}\n",
        "\\]\n",
        "\n",
        "Es decir, \\( W \\) es el conjunto de vectores ortogonales a \\( y \\), también conocido como el complemento ortogonal:\n",
        "\n",
        "\\[\n",
        "W = (\\text{span}\\{y\\})^\\perp\n",
        "\\]\n",
        "\n",
        "Como \\( \\text{span}\\{y\\} \\) tiene dimensión 1 (porque \\( y \\neq 0 \\)), entonces:\n",
        "\n",
        "\\[\n",
        "\\dim(W) = n - 1\n",
        "\\]\n",
        "\n",
        "Esto se debe al **teorema de dimensión del complemento ortogonal**:\n",
        "\n",
        "\\[\n",
        "\\dim(V) + \\dim(V^\\perp) = n\n",
        "\\]\n",
        "\n",
        "Aplicado con \\( V = \\text{span}\\{y\\} \\), se obtiene:\n",
        "\n",
        "\\[\n",
        "\\dim(W) = n - 1\n",
        "\\]\n"
      ],
      "metadata": {
        "id": "LryDib1M1WuG"
      }
    },
    {
      "cell_type": "markdown",
      "source": [
        "<p align=\"center\">\n",
        "    <font size=\"10\" color=\"lightblue\"> Ejercicio 5: </font>\n",
        "</p>"
      ],
      "metadata": {
        "id": "_Y7tpayT7-FQ"
      }
    },
    {
      "cell_type": "markdown",
      "source": [
        "\n",
        "\n",
        "Sea $ \\beta $ una base para un subespacio $ W \\subset \\mathbb{R}^n $. Demuestra que\n",
        "\n",
        "$$\n",
        "z \\in W^\\perp \\iff \\langle z, v \\rangle = 0 \\quad \\forall v \\in \\beta.\n",
        "$$\n",
        "\n",
        "\n",
        "Demostración:\n",
        "   \n",
        "Si $ z \\in W^\\perp $, entonces por definición:\n",
        "\n",
        "$$\n",
        "\\langle z, w \\rangle = 0 \\quad \\forall w \\in W.\n",
        "$$\n",
        "\n",
        "En particular, esto se cumple para cada vector de la base $ \\beta $ si:\n",
        "\n",
        "$$\n",
        "\\langle z, v \\rangle = 0 \\quad \\forall v \\in \\beta,\n",
        "$$\n",
        "\n",
        "Entonces, como cualquier $ w \\in W $ se puede escribir como combinación lineal de elementos de $ \\beta $, es decir:\n",
        "\n",
        "$$\n",
        "w = \\sum_i c_i v_i,\n",
        "$$\n",
        "\n",
        "Se tiene:\n",
        "\n",
        "$$\n",
        "\\langle z, w \\rangle = \\left\\langle z, \\sum_i c_i v_i \\right\\rangle = \\sum_i c_i \\langle z, v_i \\rangle = \\sum_i c_i \\cdot 0 = 0.\n",
        "$$\n",
        "\n",
        "Por lo tanto, $ z \\in W^\\perp $.\n",
        "\n",
        "\n",
        "\n"
      ],
      "metadata": {
        "id": "KJ8dtBh_73RG"
      }
    },
    {
      "cell_type": "markdown",
      "source": [
        "<p align=\"center\">\n",
        "    <font size=\"10\" color=\"lightblue\"> Ejercicio 6: </font>\n",
        "</p>"
      ],
      "metadata": {
        "id": "hU3lYkpjA1LZ"
      }
    },
    {
      "cell_type": "markdown",
      "source": [
        "$$\n",
        "\\langle x, y \\rangle = 0 \\quad \\text{para todo } x \\in \\mathbb{R}^n \\Rightarrow y = 0\n",
        "$$\n",
        "\n",
        "**Demostración**:\n",
        "\n",
        "Supongamos que existe un vector $ y \\neq 0 $ tal que $ \\langle x, y \\rangle = 0 $ para todo $ x \\in \\mathbb{R}^n $.\n",
        "\n",
        "En particular, tomemos $ x = y $. Entonces:\n",
        "\n",
        "$$\n",
        "\\langle y, y \\rangle = 0 \\Rightarrow \\|y\\|^2 = 0 \\Rightarrow y = 0\n",
        "$$\n",
        "\n",
        "Por lo tanto, la única forma de que $ \\langle x, y \\rangle = 0 $ para todo $ x $ es que $ y = 0 $.\n",
        "\n"
      ],
      "metadata": {
        "id": "rV6zD4UWAyhx"
      }
    }
  ]
}