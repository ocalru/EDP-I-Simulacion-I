{
  "cells": [
    {
      "cell_type": "markdown",
      "metadata": {
        "id": "view-in-github",
        "colab_type": "text"
      },
      "source": [
        "<a href=\"https://colab.research.google.com/github/ocalru/EDP-I-Simulacion-I/blob/main/Monte_Carlo.ipynb\" target=\"_parent\"><img src=\"https://colab.research.google.com/assets/colab-badge.svg\" alt=\"Open In Colab\"/></a>"
      ]
    },
    {
      "cell_type": "markdown",
      "metadata": {
        "id": "ZkmAih8mPYBi"
      },
      "source": [
        "<p align=\"center\">\n",
        "    <font size=\"10\" color=\"lightblue\">Metodo de Montecarlo</font>\n",
        "</p>"
      ]
    },
    {
      "cell_type": "markdown",
      "metadata": {
        "id": "l33aKqGFPYBt"
      },
      "source": [
        "Se tiene la integral definida $I$ en el intervalo $[a,b]$:\n",
        "\n",
        "$$\n",
        "I = \\int_a^b g(x)\\,dx\n",
        "$$\n",
        "\n",
        "Suponiendo que:\n",
        "\n",
        "- $0 \\leq g(x) \\leq c$\n",
        "\n",
        "- $a \\leq x \\leq b$\n",
        "\n",
        "Como ejemplo, calculemos una integral no soluble por métodos analíticos:\n",
        "\n",
        "$$\n",
        "\\int_0^1 \\sqrt{\\arctan(x)} \\, dx\n",
        "$$\n",
        "\n",
        "Donde:\n",
        "\n",
        "- $ g(x) = \\sqrt{\\arctan(x)} $\n",
        "- $ a = 0 $\n",
        "- $ b = 1 $\n",
        "\n",
        "\n",
        "\n",
        "\n",
        "Primero, definimos y graficamos la función de prueba:"
      ]
    },
    {
      "cell_type": "code",
      "source": [
        "import numpy as np # Se importa la libreria numpy como \"np\"\n",
        "import matplotlib.pyplot as plt # Se importa la libreria matplotlib como \"plt\"\n",
        "import pandas as pd # Se importa la libreria panda como \"pd\"\n",
        "import random # Se importa la libreria random\n",
        "\n",
        "def test_function(x): # Se define la funcion test_function(x) en el parametro  de entrada \"x\", esta funcion es la funcion g(x).\n",
        "\n",
        "# La funcion retorna el valor de np.sqrt(np.arctan(x)), \"sqrt()\" y \"arctan()\" son las funciones raiz cuadrada y arcotangente respectivamente,\n",
        "# sacadas de la libreria numpy\n",
        "\n",
        "    return(np.sqrt(np.arctan(x)))\n",
        "\n",
        "# Se define el arrelgo \"x\" como el intervalo [0,1] que es dividos en 1000 subintervalos, usando la funcion linspace()\n",
        "\n",
        "\n",
        "x_i=np.linspace(0,1,1000) # falta documentar esto\n",
        "plt.grid(True)\n",
        "plt.title('g(x) = √arctan(x)', color='b')\n",
        "plt.plot(x_i, test_function(x_i))\n",
        "plt.show()"
      ],
      "metadata": {
        "colab": {
          "base_uri": "https://localhost:8080/",
          "height": 452
        },
        "id": "saMQ8VxoZ4Qb",
        "outputId": "20642b6c-67de-427f-b8e5-d91ba23e6ffe"
      },
      "execution_count": 6,
      "outputs": [
        {
          "output_type": "display_data",
          "data": {
            "text/plain": [
              "<Figure size 640x480 with 1 Axes>"
            ],
            "image/png": "[encoded data removed]"
          },
          "metadata": {}
        }
      ]
    },
    {
      "cell_type": "markdown",
      "source": [
        "Sea $ n \\in \\mathbb{N} $, con $ n \\geq 2 $, el número de puntos que deseamos distribuir uniformemente en el intervalo cerrado $[a, b] \\subset \\mathbb{R} $, con $ a < b $.\n",
        "\n",
        "Para distribuir estos $ n $ puntos de forma uniforme entre $ a $ y $ b $, se generan $ n - 1 $ subintervalos **iguales**.\n",
        "\n",
        "Por lo tanto la  distancia entre puntos consecutivos es:\n",
        "\n",
        "$$\n",
        "\\Delta x = \\frac{b - a}{n - 1}\n",
        "$$\n",
        "\n",
        "Los puntos distribuidos en el intervalo serán entonces:\n",
        "\n",
        "$$\n",
        "x_0 = a,\\quad x_1 = a + \\Delta x,\\quad x_2 = a + 2\\Delta x,\\quad \\ldots,\\quad x_{n-1} = a + (n - 1)\\Delta x = b\n",
        "$$\n",
        "\n",
        "Es decir, el conjunto de puntos distribuidos uniformemente es:\n",
        "\n",
        "$$\n",
        "\\{x_i\\}_{i = 0}^{n - 1} = \\left\\{ a + i \\cdot \\Delta x \\;\\middle|\\; i = 0, 1, 2, \\dots, n - 1 \\right\\}\n",
        "$$\n",
        "\n",
        "Para este caso:\n",
        "- $ a = 0 $\n",
        "- $ b = 1 $\n",
        "- $ n = 1000 $\n",
        "\n",
        "Entonces:\n",
        "\n",
        "$$\n",
        "\\Delta x = \\frac{1 - 0}{1000 - 1} = \\frac{1}{999} \\approx 0.001001001\n",
        "$$\n",
        "\n",
        "\n",
        "\n",
        "Se tiene la formula para $x_i$:\n",
        "\n",
        "$$\n",
        "x_i = \\frac{i}{999}, \\quad \\text{para } i = 0, 1, 2, \\dots, 999\n",
        "$$\n",
        "\n",
        "Ya que $ a = 0$ y $\\Delta x = \\frac{1}{999}$\n",
        "\n",
        "\n",
        "Calculando los terminos de la sucesion $x_i$:\n",
        "\n",
        "$$\n",
        "\\begin{aligned}\n",
        "x_0 &= \\frac{0}{999} = 0 \\\\\n",
        "x_1 &= \\frac{1}{999} \\approx 0.001001001 \\\\\n",
        "x_2 &= \\frac{2}{999} \\approx 0.002002002\n",
        "\\end{aligned}\n",
        "$$\n",
        "$$\n",
        "\\vdots\n",
        "$$\n",
        "\n",
        "\n",
        "\n",
        "\n",
        "\n",
        "Entocnes se define que el arreglo $x_i$ como:\n",
        "\n",
        "$$\n",
        "x_i = [\n",
        "0.000,\\\n",
        "0.001001001,\\\n",
        "0.002002002, \\ldots ]\n",
        "$$\n"
      ],
      "metadata": {
        "id": "TivkXdnnsPil"
      }
    },
    {
      "cell_type": "markdown",
      "metadata": {
        "id": "2i2Nf9-WPYBv"
      },
      "source": [
        "<p align=\"center\">\n",
        "    <font size=\"5\" color=\"lightblue\">Metodo de Acierto y Error </font>\n",
        "</p>"
      ]
    },
    {
      "cell_type": "markdown",
      "metadata": {
        "id": "8QnJTGtrPYBx"
      },
      "source": [
        "Sea $(x, y)$ un vector aleatorio uniformemente distribuido sobre el rectangulo con base $(b-a)$ y altura $c$ con función densidad de probabilidad :\n",
        "\n",
        "\n",
        "$$U(0,1)$$\n",
        "\n",
        "Implica:\n",
        "\n",
        "$$P(x_1,y_1)=P(x_2,y_2)......=P(x_n,y_n)=\\frac{1}{b-a}$$\n",
        "\n",
        "Se define:\n",
        "\n",
        "$$\\Omega =  [ {(x, y)|{(x, y) \\in c(b-a)}}]$$\n",
        "\n",
        "Esto es todos los puntos $(x,y)$ que esten dentro del rectangulo con base $(b-a)$ y altura $c$.\n",
        "\n",
        "\n",
        "\n",
        "Se define:\n",
        "\n",
        "$$ S =  [ {(x,y)| y \\leq g(x)}]$$\n",
        "\n",
        "\n",
        "Esto es todos los puntos $(x,y)$ que esten debajo de la curva $g(x)$\n",
        "\n",
        "\n",
        "\n",
        "\n",
        "La probabilidad $P$ de que $(x,y)$ caiga bajo la curva $g(x)$ es:\n",
        "\n",
        "$$P = \\frac{S}{ \\Omega} = \\frac{\\int_a^b g(x)dx}{c(b-a)} = \\frac{I}{c(b-a)}$$"
      ]
    },
    {
      "cell_type": "markdown",
      "source": [
        "<p align=\"center\">\n",
        "    <font size=\"5\" color=\"lightblue\">Aproximacion de I </font>\n",
        "</p>"
      ],
      "metadata": {
        "id": "2N056QEeHuIX"
      }
    },
    {
      "cell_type": "markdown",
      "metadata": {
        "id": "No1h5NMvPYBy"
      },
      "source": [
        "Si generamos $n$ vectores aleatorios independientes $(x_1, y_1)$, $(x_2, y_2)$, ..., $(x_n, y_n)$, la probabilida $P$ puede ser estimado por:\n",
        "\n",
        "$$\\hat{p} = \\frac{n_A}{n}$$\n",
        "\n",
        "\n",
        "Donde:\n",
        "\n",
        " - $n_A = $ número de puntos tal que se cumple que:\n",
        "\n",
        "$$y \\leq g(x)$$\n",
        "\n",
        "- $n =$ numero total de puntos generados ( tamaño de muestra)\n",
        "\n",
        "\n",
        "Se define el estimador $\\hat{\\theta_1}$ como la aproximacion del parametro  $ I$ ($ I\\approx \\hat{\\theta_1}$):\n",
        "\n",
        "\n",
        "$$\\hat{\\theta_1} = [c(b-a)]\\hat{p} = c(b-a)\\frac{n_A}{n} $$\n",
        "\n",
        "Tambien:\n",
        "\n",
        "$$μ_\\hat{\\theta_1}= \\mathbb{E}[(\\hat{\\theta_1})]= I$$\n"
      ]
    },
    {
      "cell_type": "code",
      "source": [
        "def integrate(x1,x2,func=test_function,n=100000):\n",
        "    X=np.linspace(x1,x2,1000) # x ∈ [x1,x2]\n",
        "    y1=0 # y ∈ [y1 = 0,y2 = max(func(X))]\n",
        "    y2=max((func(X)))\n",
        "    area=(x2-x1)*(y2-y1)\n",
        "    check=[]\n",
        "    xs=[]\n",
        "    ys=[]\n",
        "    for i in range(n):\n",
        "        x=np.random.uniform(x1,x2,1) # n=1, generara una muestra por cada iteracion\n",
        "        xs.append(x)\n",
        "        y=np.random.uniform(y1,y2,1)\n",
        "        ys.append(y)\n",
        "        if abs(y)>abs(func(x)) or y<0: # |y| >= |g(x)|, el valor para la cordenada y esta por encima de la grafica de g(x) o  y ∉ [y1 = 0,y2 = max(func(X))]\n",
        "            check.append(0) #el punto no se cuenta, se suma un \"0\" al arreglo \"check\"\n",
        "        else:\n",
        "            check.append(1) # |y| <= |g(x)|, el valor esta por debajo de la curva g(x), se cuenta el punto y se suma un \"1\" al arreglo \"check\"\n",
        "    return(np.mean(check)*area,xs,ys,check)\n",
        "\n",
        "\n",
        "\n",
        "\n",
        "X=np.linspace(0,1,1000)\n",
        "plt.plot(X,test_function(X))\n",
        "plt.scatter(df[df['c']==0]['x'],df[df['c']==0]['y'],color='red')\n",
        "plt.scatter(df[df['c']==1]['x'],df[df['c']==1]['y'],color='blue')\n",
        "plt.show()"
      ],
      "metadata": {
        "colab": {
          "base_uri": "https://localhost:8080/",
          "height": 430
        },
        "id": "j6yD4Xa2XtZQ",
        "outputId": "3af029e2-aa7c-42d3-ea9f-8bbad41c23cf"
      },
      "execution_count": 8,
      "outputs": [
        {
          "output_type": "display_data",
          "data": {
            "text/plain": [
              "<Figure size 640x480 with 1 Axes>"
            ],
            "image/png": "[encoded data removed]"
          },
          "metadata": {}
        }
      ]
    }
  ],
  "metadata": {
    "kernelspec": {
      "display_name": "Python 3",
      "language": "python",
      "name": "python3"
    },
    "language_info": {
      "codemirror_mode": {
        "name": "ipython",
        "version": 3
      },
      "file_extension": ".py",
      "mimetype": "text/x-python",
      "name": "python",
      "nbconvert_exporter": "python",
      "pygments_lexer": "ipython3",
      "version": "3.7.3"
    },
    "colab": {
      "provenance": [],
      "include_colab_link": true
    }
  },
  "nbformat": 4,
  "nbformat_minor": 0
}