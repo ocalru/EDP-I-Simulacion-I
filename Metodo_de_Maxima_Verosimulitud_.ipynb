{
  "nbformat": 4,
  "nbformat_minor": 0,
  "metadata": {
    "colab": {
      "provenance": [],
      "authorship_tag": "ABX9TyOTfpUqeXv2Ooi6Gx3xkUkl",
      "include_colab_link": true
    },
    "kernelspec": {
      "name": "python3",
      "display_name": "Python 3"
    },
    "language_info": {
      "name": "python"
    }
  },
  "cells": [
    {
      "cell_type": "markdown",
      "metadata": {
        "id": "view-in-github",
        "colab_type": "text"
      },
      "source": [
        "<a href=\"https://colab.research.google.com/github/ocalru/EDP-I-Simulacion-I/blob/main/Metodo_de_Maxima_Verosimulitud_.ipynb\" target=\"_parent\"><img src=\"https://colab.research.google.com/assets/colab-badge.svg\" alt=\"Open In Colab\"/></a>"
      ]
    },
    {
      "cell_type": "markdown",
      "source": [
        "<p align=\"center\">\n",
        "    <font size=\"10\" color=\"red\">  Estimación por Máxima Verosimilitud para la Normal: </font>\n",
        "</p>"
      ],
      "metadata": {
        "id": "7qLOfX0EXzw_"
      }
    },
    {
      "cell_type": "markdown",
      "source": [
        "\n",
        "\n",
        "Dada una muestra aleatoria:\n",
        "\n",
        "$$\n",
        "X_1, X_2, \\ldots, X_n \\overset{iid}{\\sim} \\mathcal{N}(\\mu, \\sigma^2)\n",
        "$$\n",
        "\n",
        "\n",
        "\n",
        "Función de Verosimilitud:\n",
        "\n",
        "$$\n",
        "L(\\mu, \\sigma^2)\n",
        "= \\prod_{i=1}^n \\frac{1}{\\sqrt{2\\pi\\sigma^2}}\n",
        "\\exp\\!\\left(-\\frac{(x_i - \\mu)^2}{2\\sigma^2}\\right)\n",
        "= \\left( \\frac{1}{\\sqrt{2\\pi\\sigma^2}} \\right)^n\n",
        "\\exp\\!\\left( -\\frac{1}{2\\sigma^2}\\sum_{i=1}^n (x_i - \\mu)^2 \\right)\n",
        "$$\n",
        "\n",
        "Log-Verosimilitud:\n",
        "\n",
        "$$\n",
        "\\ell(\\mu, \\sigma^2)\n",
        "= -\\frac{n}{2} \\ln(2\\pi)\n",
        "- \\frac{n}{2} \\ln(\\sigma^2)\n",
        "- \\frac{1}{2\\sigma^2} \\sum_{i=1}^n (x_i - \\mu)^2\n",
        "$$\n",
        "\n",
        "\n",
        "\n",
        "Estimador para $ \\mu $:\n",
        "\n",
        "$$\n",
        "\\frac{\\partial \\ell}{\\partial \\mu}\n",
        "= \\frac{1}{\\sigma^2} \\sum_{i=1}^n (x_i - \\mu) = 0\n",
        "$$\n",
        "\n",
        "$$\n",
        "\\sum_{i=1}^n (x_i - \\mu) = 0\n",
        "\\Rightarrow\n",
        "\\hat{\\mu} = \\bar{X} = \\frac{1}{n}\\sum_{i=1}^n x_i\n",
        "$$\n",
        "\n",
        "\n",
        "Estimador para $\\sigma^2$:\n",
        "\n",
        "$$\n",
        "\\frac{\\partial \\ell}{\\partial \\sigma^2}\n",
        "= -\\frac{n}{2\\sigma^2} + \\frac{1}{2(\\sigma^2)^2} \\sum_{i=1}^n (x_i - \\mu)^2 = 0\n",
        "$$\n",
        "\n",
        "Multiplicando por $ 2(\\sigma^2)^2 $:\n",
        "\n",
        "$$\n",
        "-n\\sigma^2 + \\sum_{i=1}^n (x_i - \\mu)^2 = 0\n",
        "$$\n",
        "\n",
        "$$\n",
        "\\hat{\\sigma}^2\n",
        "= \\frac{1}{n} \\sum_{i=1}^n (x_i - \\hat{\\mu})^2\n",
        "$$\n",
        "\n",
        "\n",
        "\n",
        "Estimadores MLE:\n",
        "\n",
        "$$\n",
        "\\boxed{\\hat{\\mu} = \\bar{X} = \\frac{1}{n}\\sum_{i=1}^n X_i}\n",
        "$$\n",
        "\n",
        "$$\n",
        "\\boxed{\\hat{\\sigma}^2 = \\frac{1}{n} \\sum_{i=1}^n (X_i - \\bar{X})^2}\n",
        "$$\n",
        "\n",
        "\n"
      ],
      "metadata": {
        "id": "lvapn6d4XODf"
      }
    }
  ]
}