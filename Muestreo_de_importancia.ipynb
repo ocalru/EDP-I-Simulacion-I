{
  "nbformat": 4,
  "nbformat_minor": 0,
  "metadata": {
    "colab": {
      "provenance": [],
      "authorship_tag": "ABX9TyMjnDaObbiufTHXfOFHsYiG",
      "include_colab_link": true
    },
    "kernelspec": {
      "name": "python3",
      "display_name": "Python 3"
    },
    "language_info": {
      "name": "python"
    }
  },
  "cells": [
    {
      "cell_type": "markdown",
      "metadata": {
        "id": "view-in-github",
        "colab_type": "text"
      },
      "source": [
        "<a href=\"https://colab.research.google.com/github/ocalru/EDP-I-Simulacion-I/blob/main/Muestreo_de_importancia.ipynb\" target=\"_parent\"><img src=\"https://colab.research.google.com/assets/colab-badge.svg\" alt=\"Open In Colab\"/></a>"
      ]
    },
    {
      "cell_type": "code",
      "source": [
        "import matplotlib.pyplot as plt\n",
        "import numpy as np\n",
        "import random as rd\n",
        "\n",
        "def f(x):\n",
        "    return np.cos(x * np.pi / 2)\n",
        "\n",
        "def g(x):\n",
        "    return 1 - (np.pi**2) * (x**2) / 8 + (np.pi**4) * (x**4) / 384\n",
        "\n",
        "\n",
        "Z = 1 - (np.pi**2) / 24 + (np.pi**4) / 1920\n",
        "\n",
        "def g1(x):\n",
        "    return g(x) / Z\n",
        "\n",
        "\n",
        "def Funcion(N):\n",
        "    a = []\n",
        "    c = 1 / Z\n",
        "    for i in range(N):\n",
        "        u = rd.random()\n",
        "        w = rd.uniform(0, c)\n",
        "        if w <= g(u):\n",
        "            a.append(u)\n",
        "    return a\n",
        "\n",
        "M = Funcion(1000)\n",
        "\n",
        "def Muestreo_importancia(A):\n",
        "    b = []\n",
        "    u = Funcion(A)\n",
        "    for i in u:\n",
        "        b.append(f(i) / g1(i))\n",
        "    return np.mean(b), np.var(b), np.std(b)\n",
        "r = Muestreo_importancia(10000)\n",
        "\n",
        "print(\n",
        "    f\"Aproximación de la integral usando muestreo de importancia: {r[0]}\"\n",
        "    f\"\\nVarianza por muestreo de importancia: {r[1]}\"\n",
        "    f\"\\nDesviación por muestreo de importancia: {r[2]}\"\n",
        ")\n"
      ],
      "metadata": {
        "colab": {
          "base_uri": "https://localhost:8080/"
        },
        "id": "D6QrI-NE1fH1",
        "outputId": "3c081d2a-9b6c-4880-b176-75fe1e3226ab"
      },
      "execution_count": 17,
      "outputs": [
        {
          "output_type": "stream",
          "name": "stdout",
          "text": [
            "Aproximación de la integral usando muestreo de importancia: 0.6363306345433443\n",
            "Varianza por muestreo de importancia: 0.0003429692952585258\n",
            "Desviación por muestreo de importancia: 0.018519430208797618\n"
          ]
        }
      ]
    },
    {
      "cell_type": "code",
      "source": [
        "def mcc(n, a, b): # se define la funcion mcc(n,a,b) con los parametros n,a,b\n",
        "    Y = []  # Esta lista guardara las muestras de g(x_i) para calcular la media\n",
        "    # Las lista deben estar afuera del ciclos for\n",
        "    for i in range(n): # para i = 0 hasta i = n - 1\n",
        "        x_i = np.random.uniform(a, b) # se genera un numero aleatorio que sigue una distribucion uniforme en [a,b]\n",
        "        y_i = f(x_i) # se evalua el numero aleatorio en la funcion g(x)\n",
        "        Y.append(y_i) # se agrega el valor y_i al arreglo Y\n",
        "    theta_2 = (b - a) * np.mean(Y) # estimacion de la integral I, usando el estimador θ_2\n",
        "    var_theta_2 = (((b-a)**2)/n)*np.var(Y,ddof= 1) # se calcula la varianza muestral del estimador θ_2\n",
        "    des_theta_2 = np.sqrt(var_theta_2) # se calcula la desviacion estandar muestral del estimador θ_2\n",
        "    return theta_2, des_theta_2 ,var_theta_2 # el valor de salida es el valor del estimador θ_2, la varianza muestral del estimador θ_2\n",
        "    # y la desviacion estandar muestral del estimador θ_2\n",
        "\n",
        "\n",
        "r_2 = mcc(10000, 0, 1) # se nombra la varaible \"r\" que guardara el valor que suelta la funcion \"mcc(n,a,b) con n = 10000,a = 0 ,b = 1,\n",
        "# que sera una tupla (theta_2, var_theta_2, des_theta_2 )\n",
        "\n",
        "print(\n",
        "    f\"\\nResultado de la integral aproximada: {r_2[0]:.10f}\" # mostrara el primer elemento del objeto \"r_2\" con 10 cifras significativas, con variable de tipo flotante\n",
        "    f\"\\nEl error estándar de aproximación (desviación estándar) es: {r_2[1]:.10f}\"  # mostrara el segundo elemento del objeto \"\"r_2\"\n",
        "    # con 10 cifras significativas, con variable de tipo flotante\n",
        "    f\"\\nEl error estándar de aproximación al cuadrado (varianza) es: {r_2[2]:.10f}\" # mostrara el tercer elemento del objeto \"r_2\" con 10 cifras significativas,\n",
        "    # con variable de tipo flotante\n",
        ")\n"
      ],
      "metadata": {
        "colab": {
          "base_uri": "https://localhost:8080/"
        },
        "id": "DzjIQ5L4OrGz",
        "outputId": "3f8f4ec4-a460-4eff-d8d7-d4ea8c344180"
      },
      "execution_count": 12,
      "outputs": [
        {
          "output_type": "stream",
          "name": "stdout",
          "text": [
            "\n",
            "Resultado de la integral aproximada: 0.6410671251\n",
            "El error estándar de aproximación (desviación estándar) es: 0.0030702581\n",
            "El error estándar de aproximación al cuadrado (varianza) es: 0.0000094265\n"
          ]
        }
      ]
    },
    {
      "cell_type": "code",
      "source": [
        "print(f\"Porcentaje de reducción de varianza: {((r[2] - r_2[2]) / r[2]) * 100:.2f}%\")\n",
        "#Esto nps muestra que la reduccion de varianza es mucho mejor usando muestreo de importancia que con montecarlo crudo\n",
        "\n"
      ],
      "metadata": {
        "colab": {
          "base_uri": "https://localhost:8080/"
        },
        "id": "4CN2LCU81SWl",
        "outputId": "c018b712-0321-4e46-9589-5538f657b3a9"
      },
      "execution_count": 16,
      "outputs": [
        {
          "output_type": "stream",
          "name": "stdout",
          "text": [
            "Porcentaje de reducción de varianza: 99.94%\n"
          ]
        }
      ]
    }
  ]
}