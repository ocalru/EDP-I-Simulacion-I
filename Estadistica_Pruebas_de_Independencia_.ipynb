{
  "nbformat": 4,
  "nbformat_minor": 0,
  "metadata": {
    "colab": {
      "provenance": [],
      "authorship_tag": "ABX9TyNO0mVm8wu6vIUV1wArwtNg",
      "include_colab_link": true
    },
    "kernelspec": {
      "name": "python3",
      "display_name": "Python 3"
    },
    "language_info": {
      "name": "python"
    }
  },
  "cells": [
    {
      "cell_type": "markdown",
      "metadata": {
        "id": "view-in-github",
        "colab_type": "text"
      },
      "source": [
        "<a href=\"https://colab.research.google.com/github/ocalru/EDP-I-Simulacion-I/blob/main/Estadistica_Pruebas_de_Independencia_.ipynb\" target=\"_parent\"><img src=\"https://colab.research.google.com/assets/colab-badge.svg\" alt=\"Open In Colab\"/></a>"
      ]
    },
    {
      "cell_type": "markdown",
      "source": [
        "<p align=\"center\">\n",
        "    <font size=\"10\" color=\"red\"> Ejercicio 1: </font>\n",
        "</p>"
      ],
      "metadata": {
        "id": "e0QfRlCRntSu"
      }
    },
    {
      "cell_type": "code",
      "source": [
        "import numpy as np\n",
        "from scipy.stats import chi2_contingency\n",
        "\n",
        "# Crear la tabla de contingencia\n",
        "#         Y1  Y2  Y3\n",
        "#   X1   [50, 40, 47]\n",
        "#   X2   [17, 35, 43]\n",
        "\n",
        "observed = np.array([\n",
        "    [50, 40, 47],\n",
        "    [17, 35, 43]\n",
        "])\n",
        "\n",
        "# Aplicar la prueba chi-cuadrado de independencia\n",
        "chi2_stat, p_value, dof, expected = chi2_contingency(observed)\n",
        "\n",
        "# Mostrar los resultados\n",
        "print(\"Estadístico chi-cuadrado:\", chi2_stat)\n",
        "print(\"Valor p:\", p_value)\n",
        "\n",
        "\n",
        "# Interpretación simple\n",
        "if p_value < 0.05:\n",
        "    print(\"Se rechaza la hipótesis nula: hay evidencia de dependencia entre X y Y.\")\n",
        "else:\n",
        "    print(\"No se rechaza la hipótesis nula: no hay evidencia suficiente de dependencia entre X y Y.\")\n"
      ],
      "metadata": {
        "colab": {
          "base_uri": "https://localhost:8080/"
        },
        "id": "hYccu8A5mc38",
        "outputId": "01255c06-3e11-40dc-db4a-8da7f5cd7f9f"
      },
      "execution_count": 2,
      "outputs": [
        {
          "output_type": "stream",
          "name": "stdout",
          "text": [
            "Estadístico chi-cuadrado: 9.47181867586131\n",
            "Valor p: 0.00877446624789735\n",
            "Se rechaza la hipótesis nula: hay evidencia de dependencia entre X y Y.\n"
          ]
        }
      ]
    },
    {
      "cell_type": "markdown",
      "source": [
        "<p align=\"center\">\n",
        "    <font size=\"10\" color=\"red\"> Ejercicio 2: </font>\n",
        "</p>"
      ],
      "metadata": {
        "id": "c0SsdgYwnt48"
      }
    },
    {
      "cell_type": "code",
      "source": [
        "import numpy as np\n",
        "from scipy.stats import chi2_contingency\n",
        "\n",
        "# Tabla de contingencia:\n",
        "#         Hombres  Mujeres\n",
        "#   A      18       32\n",
        "#   B      25       15\n",
        "#   C      15       10\n",
        "#   D      12       12\n",
        "\n",
        "observed = np.array([\n",
        "    [18, 32],\n",
        "    [25, 15],\n",
        "    [15, 10],\n",
        "    [12, 12]\n",
        "])\n",
        "\n",
        "# Prueba chi-cuadrado de independencia\n",
        "chi2_stat, p_value, dof, expected = chi2_contingency(observed)\n",
        "\n",
        "# Mostrar resultados\n",
        "print(\"Estadístico chi-cuadrado:\", chi2_stat)\n",
        "print(\"Valor p:\", p_value)\n",
        "\n",
        "# Interpretación\n",
        "alpha = 0.05\n",
        "if p_value < alpha:\n",
        "    print(\"Se rechaza la hipótesis nula: hay dependencia entre las variables.\")\n",
        "else:\n",
        "    print(\"No se rechaza la hipótesis nula: no hay evidencia suficiente de dependencia entre las variables.\")\n"
      ],
      "metadata": {
        "id": "fu1LU3WAnx9E"
      },
      "execution_count": null,
      "outputs": []
    }
  ]
}