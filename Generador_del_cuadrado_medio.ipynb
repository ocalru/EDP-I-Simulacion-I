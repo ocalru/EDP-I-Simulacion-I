{
  "nbformat": 4,
  "nbformat_minor": 0,
  "metadata": {
    "colab": {
      "provenance": [],
      "authorship_tag": "ABX9TyPR9WPCrg7VWTHeLcJLWU0P",
      "include_colab_link": true
    },
    "kernelspec": {
      "name": "python3",
      "display_name": "Python 3"
    },
    "language_info": {
      "name": "python"
    }
  },
  "cells": [
    {
      "cell_type": "markdown",
      "metadata": {
        "id": "view-in-github",
        "colab_type": "text"
      },
      "source": [
        "<a href=\"https://colab.research.google.com/github/ocalru/EDP-I-Simulacion-I/blob/main/Generador_del_cuadrado_medio.ipynb\" target=\"_parent\"><img src=\"https://colab.research.google.com/assets/colab-badge.svg\" alt=\"Open In Colab\"/></a>"
      ]
    },
    {
      "cell_type": "markdown",
      "source": [
        "Se tiene la formula general para el generador cuadrado medio :\n",
        "\n",
        "$$ x_{i+1} = (x_i)^2$$\n",
        "\n",
        "Donde:\n",
        "\n",
        "- $x_{i+1} = $ cuadrado del numero $x_{i}$\n",
        "\n",
        "- $x_{i} =  i-esimo$ numero aleatorio de $d$ digitos\n",
        "\n",
        "Del numero $x_{i+1}$ se extraen los $d$ digitos centrales\n",
        "\n",
        "Para $ i = 0$ se tiene:\n",
        "\n",
        "$$ x_{1} = (x_0)^2$$\n",
        "\n",
        "- $x_0 =$ semilla del generador cuadrado medio\n",
        "\n",
        "- $x_1 =$ cuadrado de la semilla $x_0$\n",
        "\n",
        "- La semilla $x_0$ tiene que tener $d$ digitos\n",
        "\n",
        "\n",
        "Se define el ciclo del generador cuadrado $C_m$ , como:\n",
        "\n",
        "$$C_m = \\min \\left\\{ k > 0 \\mid x_k = x_0 \\right\\}$$\n",
        "\n",
        "Donde:\n",
        "\n",
        "- $m = $ semilla del generador\n",
        "\n",
        "- $k = $ valor minimo antes que el $k-esimo$ numero aleatorio  sea igual a la semilla ($x_0 = x_k$). Esto implicaria que se repite el ciclo del generador cuadrado.\n",
        "\n",
        "- $m$ de preferencia que sea un numero par, para que la toma de los numeros centrales sea simetrica.\n",
        "\n",
        "- si $d → ∞$ el ciclo del generador  es mas amplio.\n",
        "\n",
        "\n"
      ],
      "metadata": {
        "id": "I90o4xKUnjxs"
      }
    },
    {
      "cell_type": "code",
      "source": [
        "from tabulate import tabulate # se importa la libreria tabulate\n",
        "\n",
        "\n",
        "def cuadrado_medio(x_0, n): # se define la funcion \"cuadrado medio()\"\" con los parametros:\n",
        "\n",
        "  # x_0 = semilla del generador, x_0 debe tener \"d\"\n",
        "  # n = numero de iteraciones / cantidad de numeros aleatorios generados\n",
        "\n",
        "    d = 4  # Número de dígitos que se extraen del cuadrado\n",
        "    numeros = [] # se crea el arreglo vacio \"numeros\"\n",
        "\n",
        "\n",
        " # el ciclo FOR se ejecuta \"n\" veces\n",
        "\n",
        "    for i in range(n):  # la variable i toma valores de uno en uno  en el intervalo [0,n-1],\n",
        "# se ejecuta el codigo debajo para i-iteraciones  , i = {0 , 1 , 2 , ....... n-1}\n",
        "\n",
        "\n",
        "        cuadrado = str(x_0 ** 2).zfill(2 * d)  # se define la variable \"cuadrado()\" la cual:\n",
        "\n",
        "        #Eleva al cuadrado la semilla x_0\n",
        "        #La funcion str() convierte el resultado numerico (x_0 ** 2) a una cadena\n",
        "        # c = numero de digitos en la cadena\n",
        "        # Si c < 2 * d, entonces se rellena el resto de la cadena con 0's a la izquierda (zfill(2 * d))\n",
        "\n",
        "\n",
        "        centro = cuadrado[len(cuadrado)//2 - d//2 : len(cuadrado)//2 + d//2]  # se define la variable \"centro()\" la cual:\n",
        "\n",
        "        # toma el indice  del valor central de la variable \"cuadrado()\" (len(cuadrado)//2)\n",
        "        # resta y suma el valor de la mitad del tamaño de numero de digitos de la semilla x_0 (d),\n",
        "        # (len(cuadrado)//2 + d//2,len(cuadrado)//2 - d//2 )\n",
        "\n",
        "\n",
        "        #falta agregar ejemplos de como funciona la variable \"centro()\"\n",
        "\n",
        "\n",
        "\n",
        "        x_0 = int(centro) # la funcion INT() convierte la variable \"centro()\" a un numero entero\n",
        "\n",
        "        numeros.append([i + 1, x_0])  # Agrega el vector 1x2 [i + 1, x_0] a la lista \"numeros\", para i = 0, como valor inicial.\n",
        "\n",
        "\n",
        "    print(tabulate(numeros, headers=[\"Iteración\", \"x_0\"], tablefmt=\"grid\"))"
      ],
      "metadata": {
        "id": "FGWnZhlcRpJB"
      },
      "execution_count": 1,
      "outputs": []
    },
    {
      "cell_type": "code",
      "source": [
        "#Ejemplo de uso para:\n",
        "\n",
        "# x_0 = 4569 (semillla del generador)\n",
        "# n = 20 ( se generan 20 numeros aleatorios)\n",
        "\n",
        "x_0 = 4569\n",
        "n = 20\n",
        "cuadrado_medio(x_0, n) # se define la funcion cuadrado_medio(x_0 = 4569 , n = 20)"
      ],
      "metadata": {
        "colab": {
          "base_uri": "https://localhost:8080/"
        },
        "id": "wAGt24qbS6oG",
        "outputId": "14030eb7-6578-479d-c9fb-50f4e622bfda"
      },
      "execution_count": null,
      "outputs": [
        {
          "output_type": "stream",
          "name": "stdout",
          "text": [
            "+-------------+-------+\n",
            "|   Iteración |   x_0 |\n",
            "+=============+=======+\n",
            "|           1 |  8757 |\n",
            "+-------------+-------+\n",
            "|           2 |  6850 |\n",
            "+-------------+-------+\n",
            "|           3 |  9225 |\n",
            "+-------------+-------+\n",
            "|           4 |  1006 |\n",
            "+-------------+-------+\n",
            "|           5 |   120 |\n",
            "+-------------+-------+\n",
            "|           6 |   144 |\n",
            "+-------------+-------+\n",
            "|           7 |   207 |\n",
            "+-------------+-------+\n",
            "|           8 |   428 |\n",
            "+-------------+-------+\n",
            "|           9 |  1831 |\n",
            "+-------------+-------+\n",
            "|          10 |  3525 |\n",
            "+-------------+-------+\n",
            "|          11 |  4256 |\n",
            "+-------------+-------+\n",
            "|          12 |  1135 |\n",
            "+-------------+-------+\n",
            "|          13 |  2882 |\n",
            "+-------------+-------+\n",
            "|          14 |  3059 |\n",
            "+-------------+-------+\n",
            "|          15 |  3574 |\n",
            "+-------------+-------+\n",
            "|          16 |  7734 |\n",
            "+-------------+-------+\n",
            "|          17 |  8147 |\n",
            "+-------------+-------+\n",
            "|          18 |  3736 |\n",
            "+-------------+-------+\n",
            "|          19 |  9576 |\n",
            "+-------------+-------+\n",
            "|          20 |  6997 |\n",
            "+-------------+-------+\n"
          ]
        }
      ]
    }
  ]
}