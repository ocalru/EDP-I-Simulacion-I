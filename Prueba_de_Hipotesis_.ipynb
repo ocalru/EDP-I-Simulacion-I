{
  "nbformat": 4,
  "nbformat_minor": 0,
  "metadata": {
    "colab": {
      "provenance": [],
      "authorship_tag": "ABX9TyP6lCnqZz45N6R0lMaERpuR",
      "include_colab_link": true
    },
    "kernelspec": {
      "name": "python3",
      "display_name": "Python 3"
    },
    "language_info": {
      "name": "python"
    }
  },
  "cells": [
    {
      "cell_type": "markdown",
      "metadata": {
        "id": "view-in-github",
        "colab_type": "text"
      },
      "source": [
        "<a href=\"https://colab.research.google.com/github/ocalru/EDP-I-Simulacion-I/blob/main/Prueba_de_Hipotesis_.ipynb\" target=\"_parent\"><img src=\"https://colab.research.google.com/assets/colab-badge.svg\" alt=\"Open In Colab\"/></a>"
      ]
    },
    {
      "cell_type": "markdown",
      "source": [
        "*  Ejercicio 1\n",
        "\n",
        "Hugger Polls afirma que un agente realiza una media de $\\mu = 53$ encuestas por semana.\n",
        "\n",
        "Se introdujo una nueva forma de encuesta y se tomó una muestra de:\n",
        "\n",
        "$$\n",
        "53, 57, 50, 55, 58, 54, 60, 52, 59, 62, 60, 60, 51, 59, 56\n",
        "$$\n",
        "\n",
        "**Nivel de significancia:** $\\alpha = 0.05$\n",
        "\n",
        "### Hipótesis\n",
        "\n",
        "- $H_0: \\mu \\le 53$\n",
        "- $H_1: \\mu > 53$"
      ],
      "metadata": {
        "id": "HDiNZj0KTCDP"
      }
    },
    {
      "cell_type": "code",
      "source": [
        "import numpy as np\n",
        "from scipy import stats\n",
        "\n",
        "# Datos\n",
        "datos1 = np.array([53, 57, 50, 55, 58, 54, 60, 52, 59, 62, 60, 60, 51, 59, 56])\n",
        "\n",
        "# Prueba t\n",
        "t_stat1, p_val1 = stats.ttest_1samp(datos1, 53)\n",
        "\n",
        "# Como es prueba unilateral (mayor), p-valor/2 y verificamos si t_stat > 0\n",
        "if t_stat1 > 0:\n",
        "    p_val1 /= 2\n",
        "else:\n",
        "    p_val1 = 1 - (p_val1/2)\n",
        "\n",
        "print(f\"Estadístico t: {t_stat1:.4f}\")\n",
        "print(f\"p-valor: {p_val1:.6f}\")\n",
        "if p_val1 < 0.05:\n",
        "    print(\" Rechazamos H0. La media es mayor que 53.\")\n",
        "else:\n",
        "    print(\" No rechazamos H0.\")"
      ],
      "metadata": {
        "colab": {
          "base_uri": "https://localhost:8080/"
        },
        "id": "aIg1LiGHTHxi",
        "outputId": "667597c4-60ab-439b-e74c-0406949356a3"
      },
      "execution_count": null,
      "outputs": [
        {
          "output_type": "stream",
          "name": "stdout",
          "text": [
            "Estadístico t: 3.5229\n",
            "p-valor: 0.001689\n",
            " Rechazamos H0. La media es mayor que 53.\n"
          ]
        }
      ]
    },
    {
      "cell_type": "markdown",
      "source": [
        "*  Ejercicio 2\n",
        "\n",
        "Fabricante de llantas afirma $\\mu = 60{,}000$, $\\sigma = 5{,}000$\n",
        "\n",
        "Se toma una muestra de $n = 48$ con $\\bar{x} = 59{,}500$\n",
        "\n",
        "**Nivel de significancia:** $\\alpha = 0.05$\n",
        "\n",
        "### Hipótesis\n",
        "- $H_0: \\mu = 60{,}000$\n",
        "- $H_1: \\mu \\neq 60{,}000$"
      ],
      "metadata": {
        "id": "Fmc6mAQ5TVU6"
      }
    },
    {
      "cell_type": "code",
      "source": [
        "import math\n",
        "\n",
        "# Datos\n",
        "mu0_2 = 60000\n",
        "sigma_2 = 5000\n",
        "n_2 = 48\n",
        "xbar_2 = 59500\n",
        "\n",
        "# Prueba z\n",
        "z_2 = (xbar_2 - mu0_2) / (sigma_2 / math.sqrt(n_2))\n",
        "p_val_2 = 2 * (1 - stats.norm.cdf(abs(z_2)))\n",
        "\n",
        "print(f\"Estadístico z: {z_2:.4f}\")\n",
        "print(f\"p-valor: {p_val_2:.6f}\")\n",
        "if p_val_2 < 0.05:\n",
        "    print(\" Rechazamos H0.\")\n",
        "else:\n",
        "    print(\" No rechazamos H0.\")"
      ],
      "metadata": {
        "colab": {
          "base_uri": "https://localhost:8080/"
        },
        "id": "xSDiZZUATcii",
        "outputId": "5c023bff-66fe-433e-90b4-645ae9588370"
      },
      "execution_count": null,
      "outputs": [
        {
          "output_type": "stream",
          "name": "stdout",
          "text": [
            "Estadístico z: -0.6928\n",
            "p-valor: 0.488422\n",
            " No rechazamos H0.\n"
          ]
        }
      ]
    },
    {
      "cell_type": "markdown",
      "source": [
        "*  Ejercicio 4\n",
        "\n",
        "Diámetros de piezas metálicas:\n",
        "\n",
        "$$\n",
        "10.8, 11.5, 10.4, 10.9, 10.5, 11.2\n",
        "$$\n",
        "\n",
        "Se afirma que $\\mu = 10$.\n",
        "\n",
        "**Nivel de significancia:** $\\alpha = 0.01$\n",
        "\n",
        "### Hipótesis\n",
        "- $H_0: \\mu = 10$\n",
        "- $H_1: \\mu \\neq 10$"
      ],
      "metadata": {
        "id": "3wvlpe5TTlMK"
      }
    },
    {
      "cell_type": "code",
      "source": [
        "# Datos\n",
        "datos4 = np.array([10.8, 11.5, 10.4, 10.9, 10.5, 11.2])\n",
        "\n",
        "# Prueba t\n",
        "t_stat4, p_val4 = stats.ttest_1samp(datos4, 10)\n",
        "\n",
        "print(f\"Estadístico t: {t_stat4:.4f}\")\n",
        "print(f\"p-valor: {p_val4:.6f}\")\n",
        "if p_val4 < 0.01:\n",
        "    print(\"✅ Rechazamos H0. El diámetro NO es 10 mm.\")\n",
        "else:\n",
        "    print(\" No rechazamos H0.\")"
      ],
      "metadata": {
        "id": "2ZSxtRotTuyD"
      },
      "execution_count": null,
      "outputs": []
    },
    {
      "cell_type": "markdown",
      "source": [
        "* Ejercicio 5\n",
        "\n",
        "Personas de 18 años deberían promediar $\\mu = 73.2$, $\\sigma = 8.6$.\n",
        "\n",
        "Muestra de $n = 45$ con $\\bar{x} = 76.7$.\n",
        "\n",
        "**Nivel de significancia:** $\\alpha = 0.01$\n",
        "\n",
        "### Hipótesis\n",
        "- $H_0: \\mu \\le 73.2$\n",
        "- $H_1: \\mu > 73.2$"
      ],
      "metadata": {
        "id": "xhFBIVaIUGtK"
      }
    },
    {
      "cell_type": "code",
      "source": [
        "# Datos\n",
        "mu0_5 = 73.2\n",
        "sigma_5 = 8.6\n",
        "n_5 = 45\n",
        "xbar_5 = 76.7\n",
        "\n",
        "# Prueba z unilateral derecha\n",
        "z_5 = (xbar_5 - mu0_5) / (sigma_5 / math.sqrt(n_5))\n",
        "p_val_5 = 1 - stats.norm.cdf(z_5)\n",
        "\n",
        "print(f\"Estadístico z: {z_5:.4f}\")\n",
        "print(f\"p-valor: {p_val_5:.6f}\")\n",
        "if p_val_5 < 0.01:\n",
        "    print(\" Rechazamos H0. La media poblacional es mayor.\")\n",
        "else:\n",
        "    print(\" No rechazamos H0.\")"
      ],
      "metadata": {
        "colab": {
          "base_uri": "https://localhost:8080/"
        },
        "id": "VN8tm2zlULVa",
        "outputId": "3a2a2361-a6c5-4101-e91e-93166b583b1b"
      },
      "execution_count": null,
      "outputs": [
        {
          "output_type": "stream",
          "name": "stdout",
          "text": [
            "Estadístico z: 2.7301\n",
            "p-valor: 0.003166\n",
            " Rechazamos H0. La media poblacional es mayor.\n"
          ]
        }
      ]
    },
    {
      "cell_type": "markdown",
      "source": [
        "* Ejercicio 6\n",
        "\n",
        "Tiempos de operación en minutos:\n",
        "\n",
        "$$\n",
        "4.8, 5.6, 5.3, 5.2, 4.9, 4.6, 5.4, 5.9, 5.7, 5.9, 4.6\n",
        "$$\n",
        "\n",
        "**Nivel de significancia:** $\\alpha = 0.01$\n",
        "\n",
        "### Hipótesis\n",
        "- $H_0: \\mu = 5$\n",
        "- $H_1: \\mu \\neq 5$"
      ],
      "metadata": {
        "id": "6iKfMS6zUQzj"
      }
    },
    {
      "cell_type": "code",
      "source": [
        "# Datos\n",
        "datos6 = np.array([4.8, 5.6, 5.3, 5.2, 4.9, 4.6, 5.4, 5.9, 5.7, 5.9, 4.6])\n",
        "\n",
        "# Prueba t\n",
        "t_stat6, p_val6 = stats.ttest_1samp(datos6, 5)\n",
        "\n",
        "print(f\"Estadístico t: {t_stat6:.4f}\")\n",
        "print(f\"p-valor: {p_val6:.6f}\")\n",
        "if p_val6 < 0.01:\n",
        "    print(\" Rechazamos H0.\")\n",
        "else:\n",
        "    print(\" No rechazamos H0.\")"
      ],
      "metadata": {
        "id": "ELKro0mwUUYq"
      },
      "execution_count": null,
      "outputs": []
    }
  ]
}