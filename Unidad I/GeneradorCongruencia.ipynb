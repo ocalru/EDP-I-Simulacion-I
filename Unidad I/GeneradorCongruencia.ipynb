{
  "cells": [
    {
      "cell_type": "markdown",
      "source": [
        "Se tiene la formula general para el generador congruencial lineal (LCG):\n",
        "\n",
        "$$ x_{i+1} = (a*x_i+b) \\text{ mod m} $$\n",
        "\n",
        "Donde:\n",
        "\n",
        "- $x_{i+1} =$ el numero aleatorio generado en la $(i+1)-esima$ iteracion.\n",
        "\n",
        "- $x_i = $el numero aleatorio generado en la $i-esima$ iteracion\n",
        "\n",
        "- $ a = $ Constante multiplicativa\n",
        "\n",
        "- $ b = $ Constante aditiva\n",
        "\n",
        "- $ m = $ modulo\n",
        "\n",
        "\n",
        "- $ i = {0 , 1 , 2 , ..... n-1} $ (variable de ciclo)\n",
        "\n",
        "- $ n = $ numero de iteraciones.\n",
        "\n",
        "- $ a, b, m, x_0 , n  ∈ \\mathbb{Z} $.\n",
        "\n",
        "\n"
      ],
      "metadata": {
        "id": "SkINsQHxefhr"
      }
    },
    {
      "cell_type": "markdown",
      "source": [
        "Definimos el **ciclo** del generador congruencial lineal como $ C $, donde:\n",
        "\n",
        "$$\n",
        "C = \\min \\{ k \\in \\mathbb{N} \\mid x_k = x_0 \\}\n",
        "$$\n",
        "Donde:\n",
        "\n",
        "- $x_0 = $ semilla del generador\n",
        "\n",
        "- $k = $ valor minimo antes que el $k-esimo$ numero aleatorio  sea igual a la semilla ($x_0 = x_k$). Esto implicaria que se repite el ciclo del generador.\n",
        "\n",
        "Es decir, $ C $ es el menor entero positivo tal que la secuencia generada comienza a repetirse.  \n",
        "\n",
        "Si el generador tiene **máximo periodo**, entonces:\n",
        "\n",
        "$$\n",
        "C = m\n",
        "$$\n",
        "\n",
        "Lo que implica que la secuencia de numeros aleatorios ( $x_i$) recorre todos los valores en el conjunto:\n",
        "\n",
        "$$\n",
        " \\{0, 1, 2, \\dots, m-1\\}\n",
        "$$\n",
        "\n",
        "antes de repetirse.\n",
        "\n",
        "\n",
        "- Si $\\gcd(a, m) = 1$ entonces se cumple que $C = m$\n",
        "\n",
        "- Si $ \\gcd(a, m) > 1 $ ($ a $ y $ m $ no son coprimos) entonces  la secuencia generada por el LCG solo recorrerá un subconjunto de:\n",
        "\n",
        " $$ \\{0, 1, 2, \\dots, m-1\\} $$\n",
        "\n",
        " y el periodo será un divisor de $ m $."
      ],
      "metadata": {
        "id": "8KoEIDg60OJR"
      }
    },
    {
      "cell_type": "code",
      "execution_count": 12,
      "metadata": {
        "id": "Um0uP5UqsuqP"
      },
      "outputs": [],
      "source": [
        "import tabulate # Se importa la libreria tabulate, este libreria sirve para hacer tablas en python"
      ]
    },
    {
      "cell_type": "code",
      "execution_count": 13,
      "metadata": {
        "id": "dbesaZP0suqQ"
      },
      "outputs": [],
      "source": [
        "def generador(a,b,m,x0): # se define la funcion \"generador\" con los parametros \"a\", \"b\", \"m\", \"x0\"\n",
        "\n",
        "# a = Constante multiplicativa\n",
        "\n",
        "# b = Constante aditiva\n",
        "\n",
        "# m = Módulo (determina el rango de los números generados)\n",
        "\n",
        "# x_0 = Semilla inicial (primer número de la secuencia)\n",
        "\n",
        "# x_1 = numero aleatorio generado\n",
        "\n",
        "\n",
        "\n",
        "\n",
        "    x1=(a*x0+b) %m # se define la variable \"x_1\" como x_1 = (a*x0+b) %m , \"%\" es la division entera entre los valores a*x0+b y m.\n",
        "\n",
        "    return x1 # devuelve el valor \"x_1\"\n"
      ]
    },
    {
      "cell_type": "markdown",
      "source": [
        "<p align=\"center\">\n",
        "    <font size=\"10\" color=\"lightblue\">MOD / \"%\" </font>\n",
        "</p>"
      ],
      "metadata": {
        "id": "U2f67s2wgtyX"
      }
    },
    {
      "cell_type": "markdown",
      "source": [
        "\n",
        "\n",
        "El simbolo \"%\" en le codigo de python devuelve el residuo de la division entera entre dos valores.\n",
        "\n",
        "Por ejemplo para el generador congruencial lineal (LCG):\n",
        "\n",
        "$$ x_1 = (a*x0+b) \\text{ mod m} $$\n",
        "\n",
        "Donde:\n",
        "\n",
        "$a=5$\n",
        "\n",
        "$b=3$\n",
        "\n",
        "$m=7$\n",
        "\n",
        "$x_0=2$\n",
        "\n",
        "\n",
        "\n",
        "Susitutyendo $ a, b, m, x0: $\n",
        "\n",
        "$$ x_1 = (5*2+3) \\text{mod 7} $$\n",
        "\n",
        "$$ x_1 = (10+3) \\text{mod 7}$$\n",
        "\n",
        "$$ x_1 = (13) \\text{mod 7}$$\n",
        "\n",
        "Para calcular $ x_1 = (13) \\text{mod 7}$ se realiza la divison entera entre $13$ y $7$:\n",
        "\n",
        "$$ 7*1 = 7 $$\n",
        "\n",
        "$$ 13 - 7 = 6 $$\n",
        "\n",
        "Entonces:\n",
        "\n",
        "La division entera entre:\n",
        "\n",
        " $$\\text{ (13 y  7) es 1 }$$\n",
        "\n",
        "con:\n",
        "\n",
        "$$ residuo = 6 $$\n",
        "\n",
        "Por lo que:\n",
        "\n",
        "$$ x_1 = 6$$\n"
      ],
      "metadata": {
        "id": "06tJu-EKqHqO"
      }
    },
    {
      "cell_type": "code",
      "execution_count": 14,
      "metadata": {
        "collapsed": true,
        "id": "dzr12MQtsuqR"
      },
      "outputs": [],
      "source": [
        " # Se definen los valores del generador congruencial lineal (LCG) \"a\", \"b\", \"m\", \"x_0\"\n",
        "a=5\n",
        "b=7\n",
        "m=64\n",
        "x0=1\n",
        "\n",
        "n=10 # n = numero de iteraciones\n",
        "\n",
        "muestra=[] # Se define el arreglo vacio \"muestra\"\n",
        "datos=[] # Se define el arreglo vacio \"datos\"\n",
        "\n",
        "# El ciclo FOR se ejecuta \"n\" veces\n",
        "\n",
        "for i in range(n): # La variable i toma valores de uno en uno  en el intervalo [0,n-1],\n",
        "\n",
        "# Se ejecuta el codigo debajo para i-iteraciones  , i = 0 , 1 , 2 , ....... n-1\n",
        "\n",
        "    nuevo=generador(a,b,m,x0) # Se define la variable \"nuevo\" definido como:  nuevo = generador(a,b,m,x0)\n",
        "\n",
        "\n",
        "    muestra.append([i,nuevo]) # Se agrega al arreglo vacio \"muestra\" el vector 1x2 [i,nuevo]\n",
        "\n",
        "    datos.append([i,nuevo/64]) # Se agrega al arreglo vacio \"datos\" el vector 1x2 [i,nuevo/64]\n",
        "\n",
        "    x0=nuevo # Se actualiza la variable x_0 al valor actual de la variable \"nuevo\"\n",
        "\n"
      ]
    },
    {
      "cell_type": "markdown",
      "source": [
        "Haciendo dos iteraciones ( $i = 0,1$ ) para el ciclo FOR:\n",
        "\n",
        "\n",
        "\n",
        "Se toma la formula general del generador congruencial lineal (LCG):\n",
        "$$ x_{i+1} = (a*x_i+b) \\text{ mod m} $$\n",
        "\n",
        "Donde:\n",
        "\n",
        "\n",
        "$a=5$\n",
        "\n",
        "$b=7$\n",
        "\n",
        "$m=64$\n",
        "\n",
        "$x_i = 1$\n",
        "\n",
        "\n",
        "\n",
        "\n",
        "Para $i = 0$ se tiene la formula:\n",
        "\n",
        "$$ x_1 = (a*x_0+b) \\text{ mod m} $$\n",
        "\n",
        "$x_0 = x_i = 1$ para $i = 0$\n",
        "\n",
        "Susitutyendo $ a, b, m, x_0: $\n",
        "\n",
        "$$ x_1 = ((5*1)+7) \\text{mod 64} $$\n",
        "\n",
        "$$ x_1 = (5+7) \\text{mod 64}$$\n",
        "\n",
        "$$ x_1 = (12) \\text{mod 64}$$\n",
        "\n",
        "Se tiene el numero aleatorio:\n",
        "\n",
        "$$x_1 = 12$$\n",
        "\n",
        "Para $i = 1$ se tiene:\n",
        "\n",
        "$$ x_2 = (a*x_1+b) \\text{ mod m} $$\n",
        "\n",
        "Donde:\n",
        "\n",
        "$a=5$\n",
        "\n",
        "$b=7$\n",
        "\n",
        "$m=64$\n",
        "\n",
        "$x_1 = 12$\n",
        "\n",
        "Susitutyendo $ a, b, m, x_0: $\n",
        "\n",
        "$$ x_2 = ((5*12)+7) \\text{mod 64} $$\n",
        "\n",
        "$$ x_2 = (60+7) \\text{mod 64}$$\n",
        "\n",
        "$$ x_2 = (67) \\text{mod 64}$$\n",
        "\n",
        "Se tiene el numero aleatorio:\n",
        "\n",
        "$$x_2 = 3$$\n",
        "\n"
      ],
      "metadata": {
        "id": "5-pAIpyB89qR"
      }
    },
    {
      "cell_type": "code",
      "source": [
        "encabezados=[\"i\", \"x_i+1\"] # se define el arreglo encabezados con los elementos \"i\" , \"x_i+1\"\n",
        "\n",
        "print(tabulate.tabulate(muestra, headers=encabezados,tablefmt=\"psql\",numalign=\"center\"))  # Se usa la funcion tabulate con los parametros:\n",
        "\n",
        "# data = muestra (muestra tiene la estructura de un vector de 1x2 ([i,nuevo])\n",
        "\n",
        "# headers = encabezados = [\"i\", \"x_i+1\"], los titulos de la tabla, que deben de coincide con la dimension de \"data\" en esta caso es un vector tambien\n",
        "# de 1x2\n",
        "\n",
        "# tablefmt = psql , formato de los bordes la tabla\n",
        "\n",
        "# numalign = center, el cual centrara los numeros en la tabla\n",
        "\n"
      ],
      "metadata": {
        "id": "wS9eTM-k72UA",
        "outputId": "fe312254-07f1-40c2-ed2e-99348119d4cf",
        "colab": {
          "base_uri": "https://localhost:8080/"
        }
      },
      "execution_count": 15,
      "outputs": [
        {
          "output_type": "stream",
          "name": "stdout",
          "text": [
            "+-----+---------+\n",
            "|  i  |  x_i+1  |\n",
            "|-----+---------|\n",
            "|  0  |   12    |\n",
            "|  1  |    3    |\n",
            "|  2  |   22    |\n",
            "|  3  |   53    |\n",
            "|  4  |   16    |\n",
            "|  5  |   23    |\n",
            "|  6  |   58    |\n",
            "|  7  |   41    |\n",
            "|  8  |   20    |\n",
            "|  9  |   43    |\n",
            "+-----+---------+\n"
          ]
        }
      ]
    },
    {
      "cell_type": "markdown",
      "source": [
        "Se tiene que el conjunto  de numeros aleatorios generados $[x_i] $siempre seran enteros positivos:\n",
        "\n",
        "$$ x_i \\in \\mathbb{Z}^+, \\quad i = 1, 2, \\dots, n-1 $$\n",
        "\n",
        "Para convertir este generador, tal que los numeros aleatorios esten en el intervalo $[0,1]$, se divide el conjunto generado de numeros aleatorios $[x_1,x_2, ..... , x_{n-1}]$ entre el modulo $m$.\n",
        "\n",
        "Ejemplo:\n",
        "\n",
        "Se tiene el conjunto de numeros aleatorios generados para $i= 0,1$:\n",
        "$$ A= (12, 3)$$\n",
        "\n",
        "Al dividirlos por $ m = 64$, se nombra el conjunto $A_1$ al conjunto resultado de tal division:\n",
        "\n",
        "$$ A_1 = (0.1875, 0.046875)$$\n",
        "\n",
        "Se tiene que:\n",
        "\n",
        "$$ A_1 ∈ [0,1] $$\n",
        "\n",
        "\n"
      ],
      "metadata": {
        "id": "KEE2aAo2QaUp"
      }
    },
    {
      "cell_type": "code",
      "source": [
        "encabezados_1=[\"i\", \"x_i+1\"] # se define el arreglo encabezados con los elementos \"i\" , \"x_i+1\"\n",
        "\n",
        "print(tabulate.tabulate(datos, headers=encabezados_1,tablefmt=\"psql\",numalign=\"center\")) # Se usa la funcion tabulate con los parametros:\n",
        "\n",
        "# data = datos (datos tiene la estructura de un vector de 1x2 ([i,nuevo/64])\n",
        "\n",
        "# headers = encabezados = [\"i\", \"x_i+1\"], los titulos de la tabla, que deben de coincide con la dimension de \"datos\" en esta caso es un vector tambien\n",
        "# de 1x2\n",
        "\n",
        "# tablefmt = psql , formato de los bordes la tabla\n",
        "\n",
        "# numalign = center, el cual centrara los numeros en la tabla"
      ],
      "metadata": {
        "id": "W1I3jHanbzsx",
        "outputId": "9c0fb562-a987-4dc9-daf6-93df3f7b059c",
        "colab": {
          "base_uri": "https://localhost:8080/"
        }
      },
      "execution_count": 16,
      "outputs": [
        {
          "output_type": "stream",
          "name": "stdout",
          "text": [
            "+-----+----------+\n",
            "|  i  |  x_i+1   |\n",
            "|-----+----------|\n",
            "|  0  |  0.1875  |\n",
            "|  1  | 0.046875 |\n",
            "|  2  | 0.34375  |\n",
            "|  3  | 0.828125 |\n",
            "|  4  |   0.25   |\n",
            "|  5  | 0.359375 |\n",
            "|  6  | 0.90625  |\n",
            "|  7  | 0.640625 |\n",
            "|  8  |  0.3125  |\n",
            "|  9  | 0.671875 |\n",
            "+-----+----------+\n"
          ]
        }
      ]
    }
  ],
  "metadata": {
    "kernelspec": {
      "display_name": "Python 3",
      "language": "python",
      "name": "python3"
    },
    "language_info": {
      "codemirror_mode": {
        "name": "ipython",
        "version": 3
      },
      "file_extension": ".py",
      "mimetype": "text/x-python",
      "name": "python",
      "nbconvert_exporter": "python",
      "pygments_lexer": "ipython3",
      "version": "3.8.3"
    },
    "colab": {
      "provenance": []
    }
  },
  "nbformat": 4,
  "nbformat_minor": 0
}