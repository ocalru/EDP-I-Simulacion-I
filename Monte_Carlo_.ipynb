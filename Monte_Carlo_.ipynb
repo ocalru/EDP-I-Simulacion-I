{
  "nbformat": 4,
  "nbformat_minor": 0,
  "metadata": {
    "colab": {
      "provenance": [],
      "authorship_tag": "ABX9TyOPaEu4Vm3UoBSME8L5k8Ar",
      "include_colab_link": true
    },
    "kernelspec": {
      "name": "python3",
      "display_name": "Python 3"
    },
    "language_info": {
      "name": "python"
    }
  },
  "cells": [
    {
      "cell_type": "markdown",
      "metadata": {
        "id": "view-in-github",
        "colab_type": "text"
      },
      "source": [
        "<a href=\"https://colab.research.google.com/github/ocalru/EDP-I-Simulacion-I/blob/main/Monte_Carlo_.ipynb\" target=\"_parent\"><img src=\"https://colab.research.google.com/assets/colab-badge.svg\" alt=\"Open In Colab\"/></a>"
      ]
    },
    {
      "cell_type": "markdown",
      "source": [
        "Estimación de Integrales con Monte Carlo Crudo:\n",
        "\n",
        "Este cuaderno estima la siguiente integral definida mediante el **método de Monte Carlo Crudo**:\n",
        "\n",
        "$$\n",
        "I = \\int_0^1 \\sqrt{\\arctan(x)} \\, dx\n",
        "$$\n",
        "\n",
        "\n",
        "\n",
        "Aproximar el valor de la integral usando simulación aleatoria:\n",
        "\n",
        "$$\n",
        "\\hat{I}_N = (b - a) \\cdot \\frac{1}{N} \\sum_{i=1}^N f(x_i)\n",
        "$$\n",
        "\n",
        "donde:\n",
        "\n",
        "- $ f(x) = \\sqrt{\\arctan(x)} $\n",
        "- $ x_i \\sim U(a, b) $ son muestras uniformes independientes\n",
        "- $ N $ es el número de muestras\n",
        "\n",
        "\n",
        "Este método usa la propiedad del valor esperado:\n",
        "\n",
        "$$\n",
        "\\mathbb{E}[f(X)] = \\frac{1}{b-a} \\int_a^b f(x) \\, dx\n",
        "\\Rightarrow \\int_a^b f(x) \\, dx = (b-a) \\cdot \\mathbb{E}[f(X)]\n",
        "$$\n",
        "\n",
        "Por lo tanto, la integral se puede estimar como:\n",
        "\n",
        "$$\n",
        "\\hat{I}_N = (b - a) \\cdot \\overline{f(x)} = (b - a) \\cdot \\frac{1}{N} \\sum_{i=1}^N f(x_i)\n",
        "$$\n",
        "\n",
        "Error Estándar:\n",
        "\n",
        "El **error estándar** de esta estimación es:\n",
        "\n",
        "$$\n",
        "\\text{Error estándar} = \\frac{(b - a) \\cdot \\sigma_f}{\\sqrt{N}}\n",
        "$$\n",
        "\n",
        "donde $ \\sigma_f $ es la desviación estándar muestral de los valores $ f(x_i) $.\n",
        "\n"
      ],
      "metadata": {
        "id": "2byTTPNDID1f"
      }
    },
    {
      "cell_type": "code",
      "execution_count": null,
      "metadata": {
        "id": "4JdqlQm_qECk"
      },
      "outputs": [],
      "source": [
        "# Monte Carlo Crudo - Estimación de integral\n",
        "import numpy as np\n",
        "import matplotlib.pyplot as plt\n",
        "\n",
        "# Definir la función f(x) = sqrt(arctan(x))\n",
        "def f(x):\n",
        "    return np.sqrt(np.arctan(x))\n",
        "\n",
        "# Intervalo de integración [a, b]\n",
        "a = 0\n",
        "b = 1\n",
        "\n",
        "# Número de muestras\n",
        "N = 100000\n",
        "\n",
        "# Generar N puntos uniformemente distribuidos entre [a, b]\n",
        "x_random = np.random.uniform(a, b, N)\n",
        "\n",
        "# Evaluar f(x) en esos puntos\n",
        "fx = f(x_random)\n",
        "\n",
        "# Estimar la integral por media muestral\n",
        "integral_estimada = (b - a) * np.mean(fx)\n",
        "\n",
        "# Calcular error estándar de la estimación\n",
        "error = (b - a) * np.std(fx) / np.sqrt(N)\n",
        "\n",
        "# Imprimir resultados\n",
        "print(f\"Estimación de la integral: {integral_estimada}\")\n",
        "print(f\"Error estándar: {error}\")\n"
      ]
    }
  ]
}