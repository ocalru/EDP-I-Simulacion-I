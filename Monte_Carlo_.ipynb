{
  "cells": [
    {
      "cell_type": "markdown",
      "metadata": {
        "id": "view-in-github",
        "colab_type": "text"
      },
      "source": [
        "<a href=\"https://colab.research.google.com/github/ocalru/EDP-I-Simulacion-I/blob/main/Monte_Carlo_.ipynb\" target=\"_parent\"><img src=\"https://colab.research.google.com/assets/colab-badge.svg\" alt=\"Open In Colab\"/></a>"
      ]
    },
    {
      "cell_type": "markdown",
      "metadata": {
        "id": "ZkmAih8mPYBi"
      },
      "source": [
        "<p align=\"center\">\n",
        "    <font size=\"10\" color=\"lightblue\" >Metodo de Montecarlo Acierto y Error</font>\n",
        "</p>"
      ]
    },
    {
      "cell_type": "markdown",
      "metadata": {
        "id": "l33aKqGFPYBt"
      },
      "source": [
        "Se tiene la integral definida $I$ en el intervalo $[a,b]$:\n",
        "\n",
        "$$\n",
        "I = \\int_a^b g(x)\\,dx\n",
        "$$\n",
        "\n",
        "Suponiendo que:\n",
        "\n",
        "- $0 \\leq g(x) \\leq c$\n",
        "\n",
        "- $a \\leq x \\leq b$\n",
        "\n",
        "Como ejemplo, calculemos una integral no soluble por métodos analíticos:\n",
        "\n",
        "$$\n",
        "\\int_0^1 \\sqrt{\\arctan(x)} \\, dx\n",
        "$$\n",
        "\n",
        "Donde:\n",
        "\n",
        "- $ g(x) = \\sqrt{\\arctan(x)} $\n",
        "- $ a = 0 $\n",
        "- $ b = 1 $\n",
        "\n",
        "\n",
        "\n",
        "\n",
        "Primero, definimos y graficamos la función de prueba:"
      ]
    },
    {
      "cell_type": "code",
      "source": [
        "import numpy as np # Se importa la libreria numpy como \"np\"\n",
        "import matplotlib.pyplot as plt # Se importa la libreria matplotlib como \"plt\"\n",
        "import pandas as pd # Se importa la libreria panda como \"pd\"\n",
        "import random as rd # Se importa la libreria random como \"rd\"\n",
        "import time # se importa la libreria time\n",
        "\n",
        "def g(x): # Se define la funcion test_function(x) en el parametro  de entrada \"x\", esta funcion es la funcion g(x).\n",
        "\n",
        "# La funcion retorna el valor de np.sqrt(np.arctan(x)), \"sqrt()\" y \"arctan()\" son las funciones raiz cuadrada y arcotangente respectivamente,\n",
        "# sacadas de la libreria numpy\n",
        "\n",
        "    return(np.sqrt(np.arctan(x)))\n"
      ],
      "metadata": {
        "id": "saMQ8VxoZ4Qb"
      },
      "execution_count": 2,
      "outputs": []
    },
    {
      "cell_type": "markdown",
      "source": [
        "Sea $ n \\in \\mathbb{N} $, con $ n \\geq 2 $, el número de puntos que deseamos distribuir uniformemente en el intervalo cerrado $[a, b] \\subset \\mathbb{R} $, con $ a < b $.\n",
        "\n",
        "Para distribuir estos $ n $ puntos de forma uniforme entre $ a $ y $ b $, se generan $ n - 1 $ subintervalos **iguales**.\n",
        "\n",
        "Por lo tanto la  distancia entre puntos consecutivos es:\n",
        "\n",
        "$$\n",
        "\\Delta x = \\frac{b - a}{n - 1}\n",
        "$$\n",
        "\n",
        "Los puntos distribuidos en el intervalo serán entonces:\n",
        "\n",
        "$$\n",
        "x_0 = a,\\quad x_1 = a + \\Delta x,\\quad x_2 = a + 2\\Delta x,\\quad \\ldots,\\quad x_{n-1} = a + (n - 1)\\Delta x = b\n",
        "$$\n",
        "\n",
        "Es decir, el conjunto de puntos distribuidos uniformemente es:\n",
        "\n",
        "$$\n",
        "\\{x_i\\}_{i = 0}^{n - 1} = \\left\\{ a + i \\cdot \\Delta x \\;\\middle|\\; i = 0, 1, 2, \\dots, n - 1 \\right\\}\n",
        "$$\n",
        "\n",
        "Para este caso:\n",
        "- $ a = 0 $\n",
        "- $ b = 1 $\n",
        "- $ n = 1000 $\n",
        "\n",
        "Entonces:\n",
        "\n",
        "$$\n",
        "\\Delta x = \\frac{1 - 0}{1000 - 1} = \\frac{1}{999} \\approx 0.001001001\n",
        "$$\n",
        "\n",
        "\n",
        "\n",
        "Se tiene la formula para $x_i$:\n",
        "\n",
        "$$\n",
        "x_i = \\frac{i}{999}, \\quad \\text{para } i = 0, 1, 2, \\dots, 999\n",
        "$$\n",
        "\n",
        "Ya que $ a = 0$ y $\\Delta x = \\frac{1}{999}$\n",
        "\n",
        "\n",
        "Calculando los terminos de la sucesion $x_i$:\n",
        "\n",
        "$$\n",
        "\\begin{aligned}\n",
        "x_0 &= \\frac{0}{999} = 0 \\\\\n",
        "x_1 &= \\frac{1}{999} \\approx 0.001001001 \\\\\n",
        "x_2 &= \\frac{2}{999} \\approx 0.002002002\n",
        "\\end{aligned}\n",
        "$$\n",
        "$$\n",
        "\\vdots\n",
        "$$\n",
        "\n",
        "\n",
        "\n",
        "\n",
        "\n",
        "Entonces se define el arreglo $x_i$ como:\n",
        "\n",
        "$$\n",
        "x_i = [\n",
        "0.000,\\\n",
        "0.001001001,\\\n",
        "0.002002002, \\ldots ]\n",
        "$$\n"
      ],
      "metadata": {
        "id": "Jvk_8dOILSo4"
      }
    },
    {
      "cell_type": "code",
      "source": [
        "x_i=np.linspace(0,1,1000) # Para definir el eje de las ordenadas ( eje X) en la grafica se tiene que eje X = x_i = [0,1] dividiendo el intervalo [0,1] en 1000 subintervalos.\n",
        "y_i = g(x_i) # Se define el eje de las abcisas ( eje Y ) en la grafica se tiene que eje Y = y_i = [0, max(g(x_i))]\n",
        "plt.title('g(x) = √arctan(x)', color='red') # el titulo de la imagen sera \"g(x) = √arctan(x) de color rojo\n",
        "plt.plot(x_i, g(x_i), color = \"black\")# Mostrar los arreglos x_i y g_i, formando la grafica en su conjunto, la grafica del conunto x_i, g_i sera en color negro"
      ],
      "metadata": {
        "colab": {
          "base_uri": "https://localhost:8080/",
          "height": 469
        },
        "id": "hU5-Lm_Dp1ri",
        "outputId": "04e4d3b6-4cad-4c7c-f573-33d8b3808763"
      },
      "execution_count": 3,
      "outputs": [
        {
          "output_type": "execute_result",
          "data": {
            "text/plain": [
              "[<matplotlib.lines.Line2D at 0x78cc45651550>]"
            ]
          },
          "metadata": {},
          "execution_count": 3
        },
        {
          "output_type": "display_data",
          "data": {
            "text/plain": [
              "<Figure size 640x480 with 1 Axes>"
            ],
            "image/png": "[encoded data removed]"
          },
          "metadata": {}
        }
      ]
    },
    {
      "cell_type": "markdown",
      "source": [
        "<p align=\"center\">\n",
        "    <font size=\"5\" color=\"lightblue\">Metodo de Acierto y Error </font>\n",
        "</p>"
      ],
      "metadata": {
        "id": "dvTUrAE4qUCy"
      }
    },
    {
      "cell_type": "markdown",
      "source": [
        "\n",
        "\n",
        "Sea $ (X,Y)$ un vector aleatorio distribuido uniformemente sobre el rectángulo  \n",
        "\n",
        "$$\n",
        "R = [a,b] \\times [0,c],\n",
        "$$\n",
        "\n",
        "es decir, con base $(b-a)$ y altura $c$.\n",
        "\n",
        "\n",
        "La función de densidad conjunta de $ (X,Y)$ es:\n",
        "\n",
        "$$\n",
        "f_{X,Y}(x,y) =\n",
        "\\begin{cases}\n",
        "\\dfrac{1}{c(b-a)}, & a \\leq x \\leq b,\\ 0 \\leq y \\leq c, \\\\[10pt]\n",
        "0, & \\text{en otro caso}.\n",
        "\\end{cases}\n",
        "$$\n",
        "\n",
        "Esto significa que cada punto del rectángulo tiene la misma probabilidad de ocurrir.\n",
        "\n",
        "\n",
        "Definimos:\n",
        "\n",
        "$$\n",
        "S = \\{(x,y) \\in R \\mid y \\leq g(x)\\}.\n",
        "$$\n",
        "\n",
        "Es decir, todos los puntos que caen debajo de la curva $ g(x)$.\n",
        "\n",
        "\n",
        "\n",
        "La probabilidad de que $ (X,Y)$ caiga en $S$ es:\n",
        "\n",
        "$$\n",
        "p = \\mathbb{P}\\big((X,Y)\\in S\\big)\n",
        "= \\iint_S f_{X,Y}(x,y)\\,dx\\,dy.\n",
        "$$\n",
        "\n",
        "Sustituyendo la densidad uniforme:\n",
        "\n",
        "$$\n",
        "p = \\frac{1}{c(b-a)} \\int_a^b \\int_0^{g(x)} dy\\,dx\n",
        "= \\frac{1}{c(b-a)} \\int_a^b g(x)\\,dx.\n",
        "$$\n",
        "\n",
        "Se definio:\n",
        "\n",
        "$$\n",
        "I = \\int_a^b g(x)\\,dx.\n",
        "$$\n",
        "\n",
        "Entonces:\n",
        "\n",
        "$$\n",
        "p = \\frac{I}{c(b-a)}\n",
        "\\quad \\Longleftrightarrow \\quad\n",
        "I = c(b-a)p.\n",
        "$$\n",
        "\n",
        "\n",
        "\n",
        "Si generamos $n$ vectores aleatorios independientes $(x_1, y_1)$, $(x_2, y_2)$, ..., $(x_n, y_n)$, la probabilidad $p$ puede ser estimado por:\n",
        "\n",
        "$$\\hat{p} = \\frac{n_A}{n}$$\n",
        "\n",
        "\n",
        "Donde:\n",
        "\n",
        " - $n_A = $ número de puntos tal que se cumple que:\n",
        "\n",
        "$$y \\leq g(x)$$\n",
        "\n",
        "- $n =$ numero total de puntos generados ( tamaño de muestra)\n",
        "\n",
        "\n",
        "Se define el estimador $\\hat{\\theta_1}$ como la aproximacion del parametro  $ I$ ($ I\\approx \\hat{\\theta_1}$):\n",
        "\n",
        "\n",
        "$$\\hat{\\theta_1} = [c(b-a)]\\hat{p} = c(b-a)\\frac{n_A}{n} $$\n",
        "\n",
        "Para que $ \\hat{\\theta_1} $ sea un estimador insesgado:\n",
        "\n",
        "$$μ_\\hat{\\theta_1}= \\mathbb{E}[(\\hat{\\theta_1})]= I$$\n"
      ],
      "metadata": {
        "id": "75sPJ8iIqYYq"
      }
    },
    {
      "cell_type": "markdown",
      "source": [
        "<p align=\"center\">\n",
        "    <font size=\"10\" color=\"lightblue\" > Varianza del estimador Monte Carlo por Acierto y Error</font>\n",
        "</p>"
      ],
      "metadata": {
        "id": "PBsWigaxYI1m"
      }
    },
    {
      "cell_type": "markdown",
      "source": [
        "Se tiene el estimador:\n",
        "\n",
        "$$\n",
        "\\hat{\\theta}_1 = c(b-a)\\hat{p},\n",
        "$$\n",
        "\n",
        "Donde  $ \\hat{p} = \\frac{n_a}{n}$\n",
        "\n",
        "\n",
        "Sea la variable aleatoria\n",
        "\n",
        "$$\n",
        "X_i =\n",
        "\\begin{cases}\n",
        "1, & \\text{si el punto cae debajo de la curva } g(x) \\; \\text{(acierto)} \\\\\n",
        "0, & \\text{si el punto cae arriba de la curva } g(x) \\; \\text{(error)}\n",
        "\\end{cases}\n",
        "$$\n",
        "\n",
        "Con:  \n",
        "\n",
        "$$\n",
        "P(X_i = 1) = p,\n",
        "\\quad\n",
        "P(X_i = 0) = 1-p.\n",
        "$$\n",
        "\n",
        "Entonces cada $ X_i \\sim \\text{Bernoulli}(p)$.\n",
        "\n",
        "Se tiene que $n_A$\n",
        "\n",
        "$$\n",
        "n_A = \\sum_{i=1}^n X_i\n",
        "$$\n",
        "\n",
        "Como cada variable aleatoria  $ X_i $ sigue una distribucion binomial. Entonnces $n_a$ sigue una distribución binomial:\n",
        "\n",
        "$$\n",
        "n_A \\sim \\text{Binomial}(n,p).\n",
        "$$\n",
        "\n",
        "\n",
        "<p align=\"center\">\n",
        "    <font size=\"6\" color=\"lightblue\" > Propiedad de la varianza con constantes </font>\n",
        "</p>\n",
        "Si multiplicamos un estimador por una constante $ k$, la varianza escala al cuadrado:\n",
        "\n",
        "$$\n",
        "\\mathrm{Var}(kX) = k^2 \\, \\mathrm{Var}(X).\n",
        "$$\n",
        "\n",
        "Por lo tanto:\n",
        "\n",
        "$$\n",
        "\\mathrm{Var}(\\hat{\\theta}_1) = \\big(c(b-a)\\big)^2 \\, \\mathrm{Var}(\\hat{p})..... (1)\n",
        "$$\n",
        "\n",
        "\n",
        "Recordemos que:\n",
        "\n",
        "$$\n",
        "\\hat{p} = \\frac{n_A}{n}\n",
        "$$\n",
        "\n",
        "Entonces:\n",
        "\n",
        "$$\n",
        "\\mathrm{Var}(\\hat{p})\n",
        "= \\mathrm{Var}\\left(\\frac{n_A}{n}\\right)\n",
        "= \\frac{1}{n^2}\\,\\mathrm{Var}(n_A)......(2)\n",
        "$$\n",
        "\n",
        "\n",
        "\n",
        "Como $n_A \\sim \\text{Binomial}(n,p)$:\n",
        "\n",
        "$$\n",
        "\\mathrm{Var}(n_A) = n \\, p \\,(1-p).....(3)\n",
        "$$\n",
        "\n",
        "Sustituyendo $(2)$ en $(3)$:\n",
        "\n",
        "$$\n",
        "\\mathrm{Var}(\\hat{p})\n",
        "= \\frac{1}{n^2}\\, \\big(n p (1-p)\\big)\n",
        "= \\frac{p(1-p)}{n}.....(4)\n",
        "$$\n",
        "\n",
        "Sustituyendo $(4)$ en $(1)$:\n",
        "\n",
        "$$\n",
        "\\mathrm{Var}(\\hat{\\theta}_1)\n",
        "= \\big(c(b-a)\\big)^2 \\cdot \\frac{p(1-p)}{n}.\n",
        "$$\n",
        "\n",
        "\n",
        "\n",
        "El valor de $ p$ es:\n",
        "\n",
        "$$\n",
        "p = \\frac{I}{c(b-a)},\n",
        "$$\n",
        "\n",
        "\n",
        "Sustituyendo:\n",
        "\n",
        "$$\n",
        "\\mathrm{Var}(\\hat{\\theta}_1)\n",
        "= \\frac{(c(b-a))^2}{n} \\cdot \\frac{I}{c(b-a)} \\Bigg(1 - \\frac{I}{c(b-a)}\\Bigg).\n",
        "$$\n",
        "\n",
        "Simplificando:\n",
        "\n",
        "$$\n",
        "\\boxed {\\mathrm{Var}(\\hat{\\theta}_1) = \\frac{I \\big(c(b-a) - I\\big)}{n}}.\n",
        "$$\n",
        "\n",
        "Nota:\n",
        "- Tanto el valor de $n$ vaya aumentando $ ( n → ∞ ) $ la varianza ira disminuyendo.\n"
      ],
      "metadata": {
        "id": "GkLJbtTfYMod"
      }
    },
    {
      "cell_type": "code",
      "source": [
        "def mc(a,b,c,n):\n",
        "  aciertos = 0 # la variable \"aciertos\" cuenta la cantidad de puntos que esta debajo de la curva g(x) = arctan (x) (n_A = aciertos)\n",
        "  for i in range (n): # desde i = 0 hasta i = 10000 - 1 se aplicaran las instrucciones:\n",
        "    x = np.random.uniform(a,b) # se generara un numero aleatorio entre a = 0 y b = 1 que sigan una distribucion uniforme\n",
        "    y = np.random.uniform(a,b) # se generara un numero aleatorio entre a = 0 y b = 1 que sigan una distribucion uniforme\n",
        "    if y <= g(x): # Si el punto generado esta debajo o sobre de la grafica g(x) = arctan (x):\n",
        "      aciertos += 1 # se sumara 1 al arreglo \"aciertos\"\n",
        "  I = c*(b-a)*(aciertos/n) # arpoximacion de la integral I usando el estimador insesgado θ_1\n",
        "  var_theta_1 = (I*((c*(b-a)) - I))/n # varianza del estiamdor θ_1\n",
        "  des_theta_1 = np.sqrt(var_theta_1) # desviacion estandar del estimador\n",
        "  # para hacer una multiplicacion, se debe usar asteriscos en cada termino de la multiplicacion\n",
        "  return I, des_theta_1, var_theta_1\n",
        "r_1 = mc(0,1,1,1000) # se define r_1 como la variable que guardara la tupla del resultado de evaluar la funcion mc(a,b,c,n) con a = 0, b = 1, c = 1, n = 1000\n",
        "# al ser mc(a,b,c,n) una funcion que devuelve 3 valores var_theta_1, des_theta_1, se le asigna un index a cada valor empezando desde 0 hasta v-valores de salida\n",
        "# En este caso v = 3 ( 3 valore de salida), se usa r[v] para mostrar estos valores de salida\n",
        "print(f\"El valor aproximado de la integral es: {float(r_1[0]):.10f} \\n El valor del error de aproximacion de aproximacion es ( desviacion estandar): {float(r_1[1]):.10f} \\nEl valor del error al cuadrado (Varianza) : {float(r_1[2]):.10f}\")\n",
        "#Va a mostrara los valores de la tupla r usando r[v] donde v es el numero de valores de r\n",
        "# Notas:\n",
        "# La funcion scatter() sirve para graficar un solo punto\n",
        "# No dejar espacio dentro de las comillas\n",
        "# ( plot() sirve para graficar ejes de graficas)"
      ],
      "metadata": {
        "colab": {
          "base_uri": "https://localhost:8080/"
        },
        "id": "ZsqfKpLxp6t5",
        "outputId": "1b3a434c-b492-4ce9-e42e-9ccc727ee064"
      },
      "execution_count": 49,
      "outputs": [
        {
          "output_type": "stream",
          "name": "stdout",
          "text": [
            "El valor aproximado de la integral es: 0.6210000000 \n",
            " El valor del error de aproximacion de aproximacion es ( desviacion estandar): 0.0153414145 \n",
            "El valor del error al cuadrado (Varianza) : 0.0002353590\n"
          ]
        }
      ]
    },
    {
      "cell_type": "code",
      "source": [
        "def estado_transitorio(n,a,b,c): # se define la funcion \"evo()\" con parametro de entrada N, esto para ver la evolucion del valor de I respceto a el numero de iteraciones\n",
        "  lista = [] # se crea el arreglo lista\n",
        "  aciertos = 0 # numero de punto tal que se cumple que y <= g(x)\n",
        "  for i in range (n): # desde i = 0 hasta i = n - 1 se aplicaran las instrucciones:\n",
        "    x =np.random.uniform(a,b)# se generara un numero aleatorio entre a y b que sigue una distribucion uniforme\n",
        "    y =np.random.uniform(a,b) # se generara un numero aleatorio entre a, b que sigue una distribucion uniforme\n",
        "    if y <= g(x): # Si el punto generado esta debajo o sobre de la grafica g(x) = arctan (x):\n",
        "      aciertos += 1  # se sumara 1 al arreglo \"aciertos\"\n",
        "    teta_1 = c*(b-a)*aciertos/(i+1) # por cada iteracion i, se dividira al numero de aciertos actual por i + 1, donde i = 0 hasta i = N - 1\n",
        "    # esto se hace para ver como evoluciona la aproximacion de motecarlo en cada iteracion i\n",
        "    lista.append(teta_1) # se agregara cada valor de I al arreglo \"lista\"\n",
        "  return(lista) # el resultado de la funcion es el arreglo \"lista\"\n"
      ],
      "metadata": {
        "id": "HhsZzNCqsDPR",
        "collapsed": true
      },
      "execution_count": 5,
      "outputs": []
    },
    {
      "cell_type": "code",
      "source": [
        "L = estado_transitorio(6000,0,1,1) # se define la funcion \"estado_transitorio()\" con a = 0, b = 1, c = 1, este resultado sera un arreglo con los valores de la integral I\n",
        "plt.plot(L[2000:]) # la funcion plot mostrara una grafica con el eje X = [0,N = 6000] , Y = L = estado_transitorio(6000,0,1,1)\n",
        "# tomando los datos del arreglo \"L\" empezando desde L[i = 20000] ( tomara los datos apartir del dato 2000 en adelante )\n",
        "plt.xlabel ( \" Numero de iteracion\") # titulo del eje x\n",
        "plt.ylabel ( \" Valor de la integral \") # titulo del eje y\n",
        "plt.title ( \" Metodo de Montecarlo para g(x) = √ arctan(x) \") # titulo de la imagen\n"
      ],
      "metadata": {
        "colab": {
          "base_uri": "https://localhost:8080/",
          "height": 489
        },
        "id": "E7UR_g8Ssq0B",
        "outputId": "e7210327-929b-4741-a3dd-ceacae245e76"
      },
      "execution_count": 6,
      "outputs": [
        {
          "output_type": "execute_result",
          "data": {
            "text/plain": [
              "Text(0.5, 1.0, ' Metodo de Montecarlo para g(x) = √ arctan(x) ')"
            ]
          },
          "metadata": {},
          "execution_count": 6
        },
        {
          "output_type": "display_data",
          "data": {
            "text/plain": [
              "<Figure size 640x480 with 1 Axes>"
            ],
            "image/png": "[encoded data removed]"
          },
          "metadata": {}
        }
      ]
    },
    {
      "cell_type": "code",
      "source": [
        "def MC_aciertoerror(n,a,b,c):\n",
        "  startime = time.perf_counter() # se inicia un cronometro universal medido en segundos usando perf_counter\n",
        "  for i in range (n): # para i = 0 , hasta i = n - 1\n",
        "    e = mc(a,b,c,n) # se hace una evaluacion de la funcion mc(a,b,c,n)\n",
        "  endtime = time.perf_counter() # al terminar cada evaluacin del ciclo for, se detine el cronometro usando perf_counter\n",
        "  duration = endtime - startime #  la variable duration guardara el tiempo de ejecucion de la funcion MC_aciertoerror(n,a,b,c) restando endtime - startime\n",
        "  return duration # devuelve la funcion duration como parametro de salida\n",
        "\n",
        ""
      ],
      "metadata": {
        "id": "OVHXEJQEoM0Q"
      },
      "execution_count": 33,
      "outputs": []
    },
    {
      "cell_type": "code",
      "source": [
        "t_1 = MC_aciertoerror(1000,0,1,1) # la variable r sera el valor de salida de la funcion MC_aciertoerror(n,a,b,c) para n = 1000, a = 0, b = 1, c = 1, que es el tiempo de ejecucion\n",
        "print(f\"El tiempo de ejecucion de Monte Carlo de Acierto y Error para 1000 iteraciones es: {r:.10f}\") # mostrar la variable r con 10 digitos de visualiacion y que sea de tipo flotante"
      ],
      "metadata": {
        "colab": {
          "base_uri": "https://localhost:8080/"
        },
        "id": "fATAmTLqpb1P",
        "outputId": "73c28be6-7f49-4a0a-c5f0-785e6abe0c48"
      },
      "execution_count": 38,
      "outputs": [
        {
          "output_type": "stream",
          "name": "stdout",
          "text": [
            "El tiempo de ejecucion de Monte Carlo de Acierto y Error para 1000 iteraciones es: 9.6636298440\n"
          ]
        }
      ]
    },
    {
      "cell_type": "markdown",
      "source": [
        "<p align=\"center\">\n",
        "    <font size=\"10\" color=\"lightblue\" >Metodo de Montecarlo Crudo</font>\n",
        "</p>"
      ],
      "metadata": {
        "id": "m_Ls8IX7YPZC"
      }
    },
    {
      "cell_type": "markdown",
      "source": [
        "\n",
        "Se tiene la integral:\n",
        "\n",
        "$$\n",
        "I = \\int_0^1 \\sqrt{\\arctan(x)} \\, dx\n",
        "$$\n",
        "\n"
      ],
      "metadata": {
        "id": "6Y9U3GMbYTCZ"
      }
    },
    {
      "cell_type": "code",
      "source": [
        "import numpy as np\n",
        "import matplotlib.pyplot as plt\n",
        "import time\n",
        "\n",
        "\n",
        "# Definir la función f(x) = sqrt(arctan(x))\n",
        "def g(x):\n",
        "    return np.sqrt(np.arctan(x))"
      ],
      "metadata": {
        "id": "JaGracCQYWhB"
      },
      "execution_count": 8,
      "outputs": []
    },
    {
      "cell_type": "markdown",
      "source": [
        "\n",
        "\n",
        "Queremos calcular la integral:\n",
        "\n",
        "$$\n",
        "I = \\int_a^b g(x)\\, dx\n",
        "$$\n",
        "\n",
        "Sea $ X \\sim U(a,b)$, su densidad es:\n",
        "\n",
        "$$\n",
        "f_X(x) =\n",
        "\\begin{cases}\n",
        "\\dfrac{1}{b-a}, & a \\le x \\le b, \\\\\n",
        "0, & \\text{en otro caso}.\n",
        "\\end{cases}\n",
        "$$\n",
        "\n",
        "La esperanza de $ g(X)$ se define como:\n",
        "\n",
        "$$\n",
        "\\mathbb{E}[g(X)] = \\int_{-\\infty}^{\\infty} g(x) f_X(x)\\, dx.\n",
        "$$\n",
        "\n",
        "\n",
        "\n",
        "$$\n",
        "\\mathbb{E}[g(X)] = \\int_a^b g(x)\\, \\frac{1}{b-a}\\, dx.\n",
        "$$\n",
        "\n",
        "Sacamos el factor constante $\\tfrac{1}{b-a}$:\n",
        "\n",
        "$$\n",
        "\\mathbb{E}[g(X)] = \\frac{1}{b-a} \\int_a^b g(x)\\, dx.\n",
        "$$\n",
        "\n",
        "\n",
        "\n",
        "Despejamos la integral:\n",
        "\n",
        "$$\n",
        "\\int_a^b g(x)\\, dx = (b-a)\\,\\mathbb{E}[g(X)].\n",
        "$$\n",
        "\n",
        "\n",
        "\n",
        "No podemos calcular $\\mathbb{E}[g(X)]$ directamente, pero por la **Ley de los Grandes Números**:\n",
        "\n",
        "$$\n",
        "\\frac{1}{n} \\sum_{i=1}^n g(X_i) \\;\\;\\longrightarrow\\;\\; \\mathbb{E}[g(X)], \\quad \\text{cuando } n \\to \\infty.\n",
        "$$\n",
        "\n",
        "donde $X_1, X_2, \\dots, X_n \\sim U(a,b)$ son independientes.\n",
        "\n",
        "Por lo tanto:\n",
        "\n",
        "$$\n",
        "\\mathbb{E}[g(X)] \\;\\;\\approx\\;\\; \\frac{1}{n} \\sum_{i=1}^n g(X_i).\n",
        "$$\n",
        "\n",
        "\n",
        "\n",
        "Reemplazamos la esperanza por su aproximación:\n",
        "\n",
        "$$\n",
        "I = \\int_a^b g(x)\\, dx \\;\\;\\approx\\;\\; (b-a)\\cdot \\frac{1}{n}\\sum_{i=1}^n g(X_i).\n",
        "$$\n",
        "\n",
        "\n",
        "\n",
        "Finalmente, obtenemos el estimador:\n",
        "\n",
        "$$\n",
        "\\boxed {\n",
        "  \\theta_2 = (b-a)\\frac{1}{n}\\sum_{i=1}^n g(X_i)}\n",
        "$$\n",
        "\n",
        "\n",
        "\n",
        "Para que $ \\theta_2 $ sea un estimador insesgado:\n",
        "\n",
        "$$μ_{\\theta_2}= \\mathbb{E}[\\theta_2]= I$$"
      ],
      "metadata": {
        "id": "jF-MPGAsYX7C"
      }
    },
    {
      "cell_type": "markdown",
      "source": [
        "<p align=\"center\">\n",
        "    <font size=\"10\" color=\"lightblue\" > Varianza del estimador Monte Carlo Crudo </font>\n",
        "</p>"
      ],
      "metadata": {
        "id": "vUTYtu32nzvb"
      }
    },
    {
      "cell_type": "markdown",
      "source": [
        "\n",
        "Sea\n",
        "$$\n",
        "\\theta_2 = (b-a)\\,\\frac{1}{n}\\sum_{i=1}^n g(X_i)\n",
        "$$\n",
        "\n",
        "Queremos calcular:\n",
        "\n",
        "$$\n",
        "\\mathrm{Var}(\\theta_2).\n",
        "$$\n",
        "\n",
        "\n",
        "\n",
        "Por definición:\n",
        "\n",
        "$$\n",
        "\\mathrm{Var}(Z) = \\mathbb{E}[Z^2] - \\big(\\mathbb{E}[Z]\\big)^2.\n",
        "$$\n",
        "\n",
        "Entonces:\n",
        "\n",
        "$$\n",
        "\\mathrm{Var}(\\theta_2) = \\mathbb{E}[\\theta_2^2] - \\big(\\mathbb{E}[\\theta_2]\\big)^2.\n",
        "$$\n",
        "\n",
        "Omitiendo los calculos hechos para la varianza del estimador $\\theta_2$, se tiene que:\n",
        "\n",
        "$$\n",
        "\\boxed { \\mathrm{Var}(\\theta_2)\n",
        "= \\frac{(b-a)^2}{n}\\left(\\int_0^1 g(x)^2\\,dx - \\left(\\int_0^1 g(x)\\,dx\\right)^2\\right).}\n",
        "$$\n"
      ],
      "metadata": {
        "id": "B8bwGSMmn1IT"
      }
    },
    {
      "cell_type": "code",
      "source": [
        "def mcc(n, a, b): # se define la funcion aproximacion(N,a,b) con los parametros a, b, N\n",
        "    Y = []  # Esta lista guardara las muestras de g(x_i) para calcular la media\n",
        "    # Las lista deben estar afuera del ciclos for\n",
        "    for i in range(n): # para i = 0 hasta i = n - 1\n",
        "        x_i = np.random.uniform(a, b) # se genera un numero aleatorio que sigue una distribucion uniforme en [a,b]\n",
        "        y_i = g(x_i) # se evalua el numero aleatorio en la funcion g(x)\n",
        "        Y.append(y_i) # se agrega el valor y_i al arreglo Y\n",
        "    teta_2 = (b - a) * np.mean(Y) # estimacion de la integral I, usando el estimador θ_2\n",
        "    var_theta_2 = (((b-a)**2)/n)*(0.4388245731 - (teta_2)**2) # se calcula la varianza del estimador θ_2\n",
        "    des_theta_2 = np.sqrt(var_theta_2) # se calcula la desviacion estandar del estimador θ_2\n",
        "    return teta_2, des_theta_2 ,var_theta_2 # el valor de salida es el valor del estimador θ_2, la varianza del estimador θ_2 y la desviacion estandar del estimador θ_2\n",
        "\n",
        "\n",
        "r_2 = mcc(10000, 0, 1) # se nombra la varaible \"r\" que guardara el valor que suelta la funcion \"aproximaciones(N,a,b) con N = 1000,a = 0 ,b = 1, que sera una tupla (teta_2, var_theta_2, des_theta_2 )\n",
        "\n",
        "print(\n",
        "    f\"\\nResultado de la integral aproximada: {r_2[0]:.10f}\" # mostrara el primer elemento del objeto \"\"r\" con 10 cifras significativas, con variable de tipo flotante\n",
        "    f\"\\nEl error estándar de aproximación (desviación estándar) es: {r_2[1]:.10f}\"  # mostrara el segundo elemento del objeto \"\"r\" con 10 cifras significativas, con variable de tipo flotante\n",
        "    f\"\\nEl error estándar de aproximación al cuadrado (varianza) es: {r_2[2]:.10f}\" # mostrara el tercer elemento del objeto \"\"r\" con 10 cifras significativas, con variable de tipo flotante\n",
        ")\n",
        "\n"
      ],
      "metadata": {
        "colab": {
          "base_uri": "https://localhost:8080/"
        },
        "id": "4UULWz7Tn7Ef",
        "outputId": "1de5fe5a-0abe-48ce-8caf-e1e74a5fafba"
      },
      "execution_count": 52,
      "outputs": [
        {
          "output_type": "stream",
          "name": "stdout",
          "text": [
            "\n",
            "Resultado de la integral aproximada: 0.6311018287\n",
            "El error estándar de aproximación (desviación estándar) es: 0.0020133319\n",
            "El error estándar de aproximación al cuadrado (varianza) es: 0.0000040535\n"
          ]
        }
      ]
    },
    {
      "cell_type": "code",
      "source": [
        "def estado_transitorio(n,a,b): # se define la funcion estado_transitorio()\n",
        "  L = []\n",
        "  for i in range (n): # desde i = 1 hasta i = n - 1\n",
        "   resultado = mcc(i+1, a, b) # en la variable r se alamacena el resultado de de aplicar la funcion mcc(n,a,b) con n = i + 1 (con i = 0,1,... n) a = 0, b = 1, al ser el resultado\n",
        "   # una tupla (teta_2, var_teta_2, std_teta_2), la variable resultado sera una serie de tuplas de 3 componentes\n",
        "   e = resultado[0]  # seleccionamos el primer valor de la tupla (teta_2, var_teta_2, std_teta_2)\n",
        "   L.append(e) # lo añadimos a la lista e\n",
        "  mean_Y = np.mean(L) # se calcula la media de los valores de L\n",
        "  plt.plot(L[200:]) # la funcion plot mostrara la grafica de la funcion, tomando X = [200,n] (se tomaran los datos apartir de la iteracion 200 en adelante),\n",
        "  # Y =  L[200:] el valor de las aproximaciones de I = L[200:] ,apartir de i = 200\n",
        "  mean_I = np.mean(L) # Se calcula la media de las evaluaciones\n",
        "  plt.xlabel ( \" Numero de iteracion\") # titulo del eje x\n",
        "  plt.ylabel ( \" Valor de la integral \") # titulo del eje y\n",
        "  plt.title ( \" Metodo de Montecarlo para g(x) = √ arctan(x) \") # titulo de la imagen\n",
        "  plt.axhline(mean_I, color=\"red\", linestyle=\"-\", label=\"Media de la variable I\") # mostrara una linea vertical roja, de color rojo, con nombre \"Media de la variable I\", estilo \"-\",\n",
        "  # que es el valor de la variable mean_I = np.mean(L) que es la media de la variable I\n",
        "  plt.legend() # se usa este comando para motrar la leyenda\n",
        "  plt.show() # se usa este comando para mostrar la grafica\n",
        "\n",
        "\n",
        "estado_transitorio(1000,0,1) # se define la funcion \"estado_transitorio(n)\" para n = 1000"
      ],
      "metadata": {
        "colab": {
          "base_uri": "https://localhost:8080/",
          "height": 507
        },
        "id": "J_DQStJ_n-gN",
        "outputId": "d34e0f51-a9ae-4087-b2e6-0a6babae0ce5"
      },
      "execution_count": 10,
      "outputs": [
        {
          "output_type": "stream",
          "name": "stderr",
          "text": [
            "/tmp/ipython-input-1006494681.py:10: RuntimeWarning: invalid value encountered in sqrt\n",
            "  std_teta_2 = np.sqrt(var_teta_2) # se calcula la desviacion estandar del estimador θ_2\n"
          ]
        },
        {
          "output_type": "display_data",
          "data": {
            "text/plain": [
              "<Figure size 640x480 with 1 Axes>"
            ],
            "image/png": "[encoded data removed]"
          },
          "metadata": {}
        }
      ]
    },
    {
      "cell_type": "code",
      "source": [
        "def MC_crudo(n,a,b):\n",
        "  startime = time.perf_counter() # se inicia un cronometro universal medido en segundos usando perf_counter\n",
        "  for i in range (n):# para i = 0 , hasta i = n - 1\n",
        "    e = mcc(n,a,b)# se hace una evaluacion de la funcion mc(a,b,c,n)\n",
        "  endtime = time.perf_counter() # al terminar cada evaluacin del ciclo for, se detine el cronometro usando perf_counter\n",
        "  duration = endtime - startime#  la variable duration guardara el tiempo de ejecucion de la funcion MC_aciertoerror(n,a,b,c) restando endtime - startime\n",
        "  return duration# devuelve la funcion duration como parametro de salida\n",
        "\n",
        "\n",
        "t_2 = MC_crudo(1000,0,1)\n",
        "print(f\"El tiempo de ejecucion es: {t:.10f}\")\n"
      ],
      "metadata": {
        "colab": {
          "base_uri": "https://localhost:8080/"
        },
        "id": "kcJR1uWXp5dW",
        "outputId": "49de4162-3174-4b3c-b1f9-d0833616b098"
      },
      "execution_count": 36,
      "outputs": [
        {
          "output_type": "stream",
          "name": "stdout",
          "text": [
            "El tiempo de ejecucion es: 5.2482612490\n"
          ]
        }
      ]
    },
    {
      "cell_type": "markdown",
      "source": [
        "<p align=\"center\">\n",
        "    <font size=\"10\" color=\"lightblue\" > Eficiencia Crudo vs Acierto y Error  </font>\n",
        "</p>"
      ],
      "metadata": {
        "id": "HxnisudEwQ7y"
      }
    },
    {
      "cell_type": "markdown",
      "source": [
        "Para aproximar la integral: $$\n",
        "\\int_0^1 \\sqrt{\\arctan(x)} \\, dx\n",
        "$$\n",
        "\n",
        "Se calcularon los estimadores:  \n",
        "\n",
        "- $ \\theta_1$: estimador de acierto y error.  \n",
        "- $\\theta_2$: estimador crudo.  \n",
        "\n",
        "Ambos son insesgados:\n",
        "$$\n",
        "E[\\theta_1] = E[\\theta_2] = I.\n",
        "$$\n",
        "\n",
        "La diferencia está en su **varianza** y en el **tiempo de cómputo por simulación**.\n",
        "\n",
        "\n",
        "<p align=\"center\">\n",
        "    <font size=\"6\" color=\"lightblue\" > Criterio general de eficiencia </font>\n",
        "</p>\n",
        "\n",
        "La eficiencia en Monte Carlo se mide como:\n",
        "$$\n",
        "\\mathcal{E}(1 \\text{ vs } 2) = \\frac{\\text{Costo del método 1}}{\\text{Costo del método 2}}.\n",
        "$$\n",
        "\n",
        "Donde el **costo** se entiende como el producto entre:\n",
        "- La **varianza del estimador** (precisión).  \n",
        "- El **tiempo de cómputo por simulación** (costo en tiempo).  \n",
        "\n",
        "\n",
        "Si cada simulación del método $ i$ tarda $t_i$ y el estimador tiene varianza $ \\mathrm{Var}(\\theta_i) $ en la iteracion $i$, el **error por unidad de tiempo** se mide como:\n",
        "\n",
        "$$\n",
        "\\text{Error por unidad de tiempo} \\;\\;\\sim\\;\\; t_i \\cdot \\mathrm{Var}(\\theta_i).\n",
        "$$\n",
        "\n",
        "Se tiene que:\n",
        "\n",
        "\n",
        "- $t_1$: es el **tiempo total** que tarda el método 1 en generar todas las iteraciones.  \n",
        "  Formalmente:\n",
        "  $$\n",
        "  t_1 = \\sum_{i=1}^n t_{1,i},\n",
        "  $$\n",
        "  donde $t_{1,i}$ es el tiempo de la iteración $i$ en el método 1.\n",
        "\n",
        "- $t_2$: es el **tiempo total** que tarda el método 2 en generar todas las iteraciones:\n",
        "  $$\n",
        "  t_2 = \\sum_{i=1}^n t_{2,i}.\n",
        "  $$\n",
        "\n",
        "- $\\mathrm{Var}(\\theta_1)$: es la **suma de las varianzas individuales** en cada iteración del método 1:  \n",
        "  $$\n",
        "  \\mathrm{Var}(\\theta_1) = \\sum_{i=1}^n \\mathrm{Var}(\\theta_{1,i}).\n",
        "  $$\n",
        "\n",
        "- $\\mathrm{Var}(\\theta_2)$: es la **suma de las varianzas individuales** en cada iteración del método 2:  \n",
        "  $$\n",
        "  \\mathrm{Var}(\\theta_2) = \\sum_{i=1}^n \\mathrm{Var}(\\theta_{2,i}).\n",
        "  $$\n",
        "\n",
        "\n",
        "\n",
        "Entonces se deefine la eficiencia relativa entre dos estimadores de Monte Carlo:\n",
        "\n",
        "$$\n",
        "\\mathcal{E} = \\frac{t_1 \\, \\mathrm{Var}(\\theta_1)}{t_2 \\, \\mathrm{Var}(\\theta_2)}.\n",
        "$$\n",
        "\n",
        "- El numerador $t_1 \\, \\mathrm{Var}(\\theta_1)$ mide el **costo en tiempo y dispersión** del método 1.  \n",
        "- El denominador $t_2 \\, \\mathrm{Var}(\\theta_2)$ mide lo mismo pero para el método 2.  \n",
        "\n",
        "Entonces:\n",
        "\n",
        "- Si $\\mathcal{E} < 1$, el método 1 es más eficiente.  \n",
        "- Si $\\mathcal{E} > 1$, el método 2 es más eficiente.  \n",
        "\n",
        "\n",
        "\n"
      ],
      "metadata": {
        "id": "8po3OCzP4V6G"
      }
    },
    {
      "cell_type": "code",
      "source": [
        "def eficiencia(var_1,var_2, t_1,t_2):\n",
        "  e = (var_2*t_2)/(var_1*t_1) # Formula de la eficiencia para dos metodos\n",
        "\n",
        "  return print(\"El Monte Carlo Acierto y Error es mas eficiente que Monte Carlo Crudo\") if e > 1 else print(\"Monte Carlo Crudo es mas eficinete que Monte Carlo Acierto y Error\"\n",
        "  f\"\\nEl valor de la eficiencia es: {e}\")\n",
        "\n",
        "var_1 = r_1[2] # se define la variable \"var_1\" que guardara el valor tercer valor de la tupla r_1, que es la desviacion estandar del estimador θ_1\n",
        "var_2 = r_2[2] # se define la variable \"var_2\" que guardara el valor tercer valor de la tupla r_2, que es la desviacion estandar del estimador θ_2\n",
        "\n",
        "eficiencia(var_1,var_2,t_1,t_2) # se evaluara la funcion eficiencia(var_1,var_2,t_1,t_2) con var_1 = r_1[2], var_2 = r_2[2], t_1 = t_1, t_2 = t_2\n"
      ],
      "metadata": {
        "colab": {
          "base_uri": "https://localhost:8080/"
        },
        "id": "iZzDwn9zwZUR",
        "outputId": "c6478ab3-3fc6-4331-f67d-153f70c3c62e"
      },
      "execution_count": 58,
      "outputs": [
        {
          "output_type": "stream",
          "name": "stdout",
          "text": [
            "Monte Carlo Crudo es mas eficinete que Monte Carlo Acierto y Error\n",
            "El valor de la eficiencia es: 0.013352895284889239\n"
          ]
        }
      ]
    }
  ],
  "metadata": {
    "kernelspec": {
      "display_name": "Python 3",
      "language": "python",
      "name": "python3"
    },
    "language_info": {
      "codemirror_mode": {
        "name": "ipython",
        "version": 3
      },
      "file_extension": ".py",
      "mimetype": "text/x-python",
      "name": "python",
      "nbconvert_exporter": "python",
      "pygments_lexer": "ipython3",
      "version": "3.7.3"
    },
    "colab": {
      "provenance": [],
      "include_colab_link": true
    }
  },
  "nbformat": 4,
  "nbformat_minor": 0
}