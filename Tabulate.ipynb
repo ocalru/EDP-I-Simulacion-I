{
  "nbformat": 4,
  "nbformat_minor": 0,
  "metadata": {
    "colab": {
      "provenance": [],
      "authorship_tag": "ABX9TyNWpImuXBtPYMEsqjH1YSV/",
      "include_colab_link": true
    },
    "kernelspec": {
      "name": "python3",
      "display_name": "Python 3"
    },
    "language_info": {
      "name": "python"
    }
  },
  "cells": [
    {
      "cell_type": "markdown",
      "metadata": {
        "id": "view-in-github",
        "colab_type": "text"
      },
      "source": [
        "<a href=\"https://colab.research.google.com/github/ocalru/EDP-I-Simulacion-I/blob/main/Tabulate.ipynb\" target=\"_parent\"><img src=\"https://colab.research.google.com/assets/colab-badge.svg\" alt=\"Open In Colab\"/></a>"
      ]
    },
    {
      "cell_type": "code",
      "source": [
        "from tabulate import *\n",
        "\n",
        "# Data for the table\n",
        "data = [{\"Product\": \"A\", \"Quantity\": None, \"Price\": 23},\n",
        "        {\"Product\": \"B\", \"Quantity\": 20, \"Price\": None},\n",
        "        {\"Product\": \"C\",\"Quantity\":  15,\"Price\":  10},\n",
        "        {\"Product\": \"D\",\"Quantity\":  None,\"Price\":  None}]\n",
        "\n",
        "table = tabulate(data,headers = \"keys\", tablefmt=\"pipe\",colalign=(\"left\", \"center\", \"right\"),missingval = \"N/A\")\n",
        "\n",
        "# Printing the table\n",
        "print(table)"
      ],
      "metadata": {
        "colab": {
          "base_uri": "https://localhost:8080/"
        },
        "id": "-xOlw68KX7ZS",
        "outputId": "1dd6fedd-c274-4724-d63c-7c9e8a9e6c90"
      },
      "execution_count": null,
      "outputs": [
        {
          "output_type": "stream",
          "name": "stdout",
          "text": [
            "| Product   |  Quantity  |   Price |\n",
            "|:----------|:----------:|--------:|\n",
            "| A         |    N/A     |      23 |\n",
            "| B         |     20     |     N/A |\n",
            "| C         |     15     |      10 |\n",
            "| D         |    N/A     |     N/A |\n"
          ]
        }
      ]
    },
    {
      "cell_type": "markdown",
      "source": [
        "Se usa la funcion:\n",
        "\n",
        "tabulate(data, headers=(), tablefmt=\"simple\" numalign=\"default\", stralign=\"default\", floatfmt=\"g\", missingval=\"\", showindex=\"default\")\n",
        "\n",
        "\n",
        "- Data (obligatorio): Es la estructura de datos que contiene la información de la tabla. Puede ser una lista de listas, un diccionario, un DataFrame de Pandas, etc.\n",
        "\n",
        "\n",
        "\n",
        "- Headers (opcional): Define los nombres de las columnas. Puede ser una lista de strings o \"keys\" si tabular_data es un diccionario.\n",
        "\n",
        "Ejemplo: headers=[\"ID\", \"Nombre\", \"Edad\"].\n",
        "\n",
        "\n",
        "\n",
        "\n",
        "\n",
        "- tablefmt (opcional, por defecto \"simple\"): Especifica el formato de la tabla.\n",
        "\n",
        "Ejemplos de formatos:\n",
        "\n",
        "\"psql\" → estilo de tablas de PostgreSQL.\n",
        "\n",
        "\"plain\" → sin bordes ni líneas.\n",
        "\n",
        "\"grid\" → líneas de cuadrícula alrededor de las celdas.\n",
        "\n",
        "\"pipe\" → estilo Markdown.\n",
        "\n",
        "\"html\" → salida en formato HTML.\n",
        "\n",
        "\n",
        "\n",
        "\n",
        "\n",
        "\n",
        "\n",
        "- numalign (opcional, por defecto \"default\"): Alinea los números en las celdas.\n",
        "\n",
        "Opciones:\n",
        "\n",
        "\"left\" → alinea a la izquierda.\n",
        "\n",
        "\"center\" → centra el contenido.\n",
        "\n",
        "\"right\" → alinea a la derecha (recomendado para números).\n",
        "\n",
        "\n",
        "\n",
        "- Stralign (opcional, por defecto \"default\"): Alineación del texto en las celdas (similar a numalign pero para strings).\n",
        "\n",
        "\n",
        "- Floatfmt (opcional, por defecto \"g\"): Especifica el formato de los números decimales.\n",
        "\n",
        "Ejemplo: floatfmt=\".2f\" (para mostrar solo 2 decimales).\n",
        "\n",
        "- Missingval (opcional, por defecto \"\"): Especifica qué mostrar en los valores faltantes (None).\n",
        "\n",
        "Ejemplo: missingval=\"N/A\".\n",
        "\n",
        "- showindex (opcional, por defecto \"default\"): Controla si se muestra un índice en la primera columna.\n",
        "\n",
        "Valores posibles:\n",
        "\n",
        "True → agrega índice automático (0, 1, 2...).\n",
        "\n",
        "False → no muestra índice.\n",
        "\n",
        "\"always\" → siempre muestra índice.\n",
        "\n",
        "\"default\" → solo muestra índice si tabular_data es un diccionario."
      ],
      "metadata": {
        "id": "O7pFQweQp8Kx"
      }
    },
    {
      "cell_type": "code",
      "source": [
        "import tabulate\n",
        "import random\n",
        "\n",
        "sample = []\n",
        "n = 10\n",
        "\n",
        "for i in range(n):\n",
        "    sample.append([i , random.random()])\n",
        "\n",
        "encabezados = [\"i\", \"x_i\"]\n",
        "\n",
        "print(tabulate.tabulate(sample, headers=encabezados, tablefmt=\"psql\", numalign=\"center\"))"
      ],
      "metadata": {
        "colab": {
          "base_uri": "https://localhost:8080/"
        },
        "id": "Mk9FSBSHaayg",
        "outputId": "cdfae9da-1a39-43f6-e763-26a1015565e6"
      },
      "execution_count": 4,
      "outputs": [
        {
          "output_type": "stream",
          "name": "stdout",
          "text": [
            "+-----+----------+\n",
            "|  i  |   x_i    |\n",
            "|-----+----------|\n",
            "|  0  | 0.747628 |\n",
            "|  1  | 0.293039 |\n",
            "|  2  | 0.176571 |\n",
            "|  3  | 0.277708 |\n",
            "|  4  | 0.618149 |\n",
            "|  5  | 0.291948 |\n",
            "|  6  | 0.374893 |\n",
            "|  7  | 0.388579 |\n",
            "|  8  | 0.310697 |\n",
            "|  9  | 0.712926 |\n",
            "+-----+----------+\n"
          ]
        }
      ]
    }
  ]
}