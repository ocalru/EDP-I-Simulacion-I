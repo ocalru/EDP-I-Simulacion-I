{
  "nbformat": 4,
  "nbformat_minor": 0,
  "metadata": {
    "colab": {
      "provenance": [],
      "authorship_tag": "ABX9TyPUTWVdnjKy0GjkuL2pdABq",
      "include_colab_link": true
    },
    "kernelspec": {
      "name": "python3",
      "display_name": "Python 3"
    },
    "language_info": {
      "name": "python"
    }
  },
  "cells": [
    {
      "cell_type": "markdown",
      "metadata": {
        "id": "view-in-github",
        "colab_type": "text"
      },
      "source": [
        "<a href=\"https://colab.research.google.com/github/ocalru/EDP-I-Simulacion-I/blob/main/Variables_Antiteticas.ipynb\" target=\"_parent\"><img src=\"https://colab.research.google.com/assets/colab-badge.svg\" alt=\"Open In Colab\"/></a>"
      ]
    },
    {
      "cell_type": "markdown",
      "source": [
        "<p align=\"center\">\n",
        "    <font size=\"10\" color=\"lightblue\" >Metodo de Montecarlo Crudo</font>\n",
        "</p>"
      ],
      "metadata": {
        "id": "XKlCndF8Aszp"
      }
    },
    {
      "cell_type": "markdown",
      "source": [
        "Se tiene la integral definida $I$ en el intervalo $[a,b]$:\n",
        "\n",
        "$$\n",
        "I = \\int_a^b g(x)\\,dx\n",
        "$$\n",
        "\n",
        "Suponiendo que:\n",
        "\n",
        "- $0 \\leq g(x) \\leq c$\n",
        "\n",
        "- $a \\leq x \\leq b$\n",
        "\n",
        "Como ejemplo, calculemos una integral no soluble por métodos analíticos:\n",
        "\n",
        "$$\n",
        "\\int_0^1 \\sqrt{\\arctan(x)} \\, dx\n",
        "$$\n",
        "\n",
        "Donde:\n",
        "\n",
        "- $ g(x) = \\sqrt{\\arctan(x)} $\n",
        "- $ a = 0 $\n",
        "- $ b = 1 $\n",
        "\n",
        "\n",
        "\n",
        "\n",
        "Primero, definimos y graficamos la función de prueba:"
      ],
      "metadata": {
        "id": "WSsaHGyhHUYs"
      }
    },
    {
      "cell_type": "code",
      "source": [
        "import numpy as np # Se importa la libreria numpy como \"np\"\n",
        "import matplotlib.pyplot as plt # Se importa la libreria matplotlib como \"plt\"\n",
        "import pandas as pd # Se importa la libreria panda como \"pd\"\n",
        "import random as rd # Se importa la libreria random como \"rd\"\n",
        "import time # se importa la libreria time\n",
        "import tabulate as tb\n",
        "\n",
        "def g(x): # Se define la funcion test_function(x) en el parametro  de entrada \"x\", esta funcion es la funcion g(x).\n",
        "\n",
        "# La funcion retorna el valor de np.sqrt(np.arctan(x)), \"sqrt()\" y \"arctan()\" son las funciones raiz cuadrada y arcotangente respectivamente,\n",
        "# sacadas de la libreria numpy\n",
        "\n",
        "    return(np.sqrt(np.arctan(x)))"
      ],
      "metadata": {
        "id": "Q28Stw-8-JZl"
      },
      "execution_count": 3,
      "outputs": []
    },
    {
      "cell_type": "code",
      "source": [
        "def mcc(n, a, b): # se define la funcion mcc(n,a,b) con los parametros a, b, N\n",
        "    Y = []  # Esta lista guardara las muestras de g(x_i) para calcular la media\n",
        "    # Las lista deben estar afuera del ciclos for\n",
        "    for i in range(n): # para i = 0 hasta i = n - 1\n",
        "        x_i = np.random.uniform(a, b) # se genera un numero aleatorio que sigue una distribucion uniforme en [a,b]\n",
        "        y_i = g(x_i) # se evalua el numero aleatorio en la funcion g(x)\n",
        "        Y.append(y_i) # se agrega el valor y_i al arreglo Y\n",
        "    teta_2 = (b - a) * np.mean(Y) # estimacion de la integral I, usando el estimador θ_2\n",
        "    var_theta_2 = (((b-a)**2)/n)*(0.4388245731 - (teta_2)**2) # se calcula la varianza del estimador θ_2\n",
        "    des_theta_2 = np.sqrt(var_theta_2) # se calcula la desviacion estandar del estimador θ_2\n",
        "    return teta_2, des_theta_2 ,var_theta_2 # el valor de salida es el valor del estimador θ_2, la varianza del estimador θ_2 y la desviacion estandar del estimador θ_2\n",
        "\n",
        "\n",
        "r_2 = mcc(10000, 0, 1) # se nombra la varaible \"r\" que guardara el valor que suelta la funcion \"aproximaciones(N,a,b) con N = 1000,a = 0 ,b = 1, que sera una tupla (teta_2, var_theta_2, des_theta_2 )\n",
        "\n",
        "print(\n",
        "    f\"\\nResultado de la integral aproximada: {r_2[0]:.10f}\" # mostrara el primer elemento del objeto \"\"r\" con 10 cifras significativas, con variable de tipo flotante\n",
        "    f\"\\nEl error estándar de aproximación (desviación estándar) es: {r_2[1]:.10f}\"  # mostrara el segundo elemento del objeto \"\"r\" con 10 cifras significativas, con variable de tipo flotante\n",
        "    f\"\\nEl error estándar de aproximación al cuadrado (varianza) es: {r_2[2]:.10f}\" # mostrara el tercer elemento del objeto \"\"r\" con 10 cifras significativas, con variable de tipo flotante\n",
        ")"
      ],
      "metadata": {
        "colab": {
          "base_uri": "https://localhost:8080/"
        },
        "id": "pMc8Na_GAzjA",
        "outputId": "da478ea1-a9e8-435f-a57c-ea0d060ce582"
      },
      "execution_count": 4,
      "outputs": [
        {
          "output_type": "stream",
          "name": "stdout",
          "text": [
            "\n",
            "Resultado de la integral aproximada: 0.6305417678\n",
            "El error estándar de aproximación (desviación estándar) es: 0.0020308041\n",
            "El error estándar de aproximación al cuadrado (varianza) es: 0.0000041242\n"
          ]
        }
      ]
    },
    {
      "cell_type": "markdown",
      "source": [
        "Se define la varianza como:\n",
        "$$\n",
        "\\mathrm{Var}(Y) = \\mathbb{E}[Y^2] - \\big(\\mathbb{E}[Y]\\big)^2\n",
        "$$\n",
        "\n",
        "\n",
        "\n",
        "Se tiene que:\n",
        "$$Y = aX_1 + bX_2 $$\n",
        "Entonces:\n",
        "$$ Y^2 = (aX_1 + bX_2)^2 = a^2X_1^2 + b^2X_2^2 + 2abX_1X_2$$\n",
        "\n",
        "Se calcula $\\mathbb{E}[Y]$  , $\\mathbb{E}[Y^2]$:\n",
        "\n",
        "$$\n",
        "\\mathbb{E}[Y] = \\mathbb{E}[aX_1 + bX_2]\n",
        "= a\\mathbb{E}[X_1] + b\\mathbb{E}[X_2]\n",
        "$$\n",
        "\n",
        "\n",
        "\n",
        "$$\n",
        "\\mathbb{E}[Y^2] = a^2\\mathbb{E}[X_1^2] + b^2\\mathbb{E}[X_2^2] + 2ab\\mathbb{E}[X_1X_2]\n",
        "$$\n",
        "\n",
        "Entonces:\n",
        "\n",
        "$$\n",
        "\\mathrm{Var}(Y) = \\mathbb{E}[Y^2] - \\big(\\mathbb{E}[Y]\\big)^2\n",
        "$$\n",
        "\n",
        "$$\n",
        "= \\Big(a^2\\mathbb{E}[X_1^2] + b^2\\mathbb{E}[X_2^2] + 2ab\\mathbb{E}[X_1X_2]\\Big)\n",
        "- \\Big(a\\mathbb{E}[X_1] + b\\mathbb{E}[X_2]\\Big)^2\n",
        "$$\n",
        "\n",
        "\n",
        "$$\n",
        "\\Big(a\\mathbb{E}[X_1] + b\\mathbb{E}[X_2]\\Big)^2\n",
        "= a^2(\\mathbb{E}[X_1])^2 + b^2(\\mathbb{E}[X_2])^2 + 2ab\\mathbb{E}[X_1]\\mathbb{E}[X_2]\n",
        "$$\n",
        "\n",
        "Reorganizando:\n",
        "\n",
        "$$\n",
        "\\mathrm{Var}(Y)\n",
        "= a^2\\big(\\mathbb{E}[X_1^2]-(\\mathbb{E}[X_1])^2\\big)\n",
        "+ b^2\\big(\\mathbb{E}[X_2^2]-(\\mathbb{E}[X_2])^2\\big)\n",
        "+ 2ab\\big(\\mathbb{E}[X_1X_2]-\\mathbb{E}[X_1]\\mathbb{E}[X_2]\\big)\n",
        "$$\n",
        "\n",
        "\n",
        "Se tiene que:\n",
        "$$\n",
        "\\mathbb{E}[X_1^2]-(\\mathbb{E}[X_1])^2 = \\mathrm{Var}(X_1)\n",
        "$$\n",
        "$$\n",
        "\\mathbb{E}[X_2^2]-(\\mathbb{E}[X_2])^2 = \\mathrm{Var}(X_2)\n",
        "$$\n",
        "$$\n",
        "\\mathbb{E}[X_1X_2]-\\mathbb{E}[X_1]\\mathbb{E}[X_2] = \\mathrm{Cov}(X_1,X_2)\n",
        "$$\n",
        "\n",
        "Entonces:\n",
        "\n",
        "\n",
        "$$\n",
        "\\boxed{\\mathrm{Var}(aX_1 + bX_2) = a^2\\mathrm{Var}(X_1) + b^2\\mathrm{Var}(X_2) + 2ab\\,\\mathrm{Cov}(X_1,X_2)}\n",
        "$$\n"
      ],
      "metadata": {
        "id": "BSKKCj0zPKEO"
      }
    },
    {
      "cell_type": "markdown",
      "source": [
        "Queremos analizar el promedio de las variables aleatorias $X_1, X_2$\n",
        "$$\n",
        "Y = \\frac{X_1 + X_2}{2} = \\frac{X_1}{2} + \\frac{X_2}{2} =  \\frac{1}{2}X_1 + \\frac{1}{2}X_2\n",
        "$$\n",
        "\n",
        "En este caso:\n",
        "$$\n",
        "a = \\tfrac{1}{2} ....(1) , \\quad b = \\tfrac{1}{2}....(2)\n",
        "$$\n",
        "\n",
        "\n",
        "$$\n",
        "\\mathrm{Var}(Y) = a^2 \\mathrm{Var}(X_1) + b^2 \\mathrm{Var}(X_2) + 2ab\\,\\mathrm{Cov}(X_1,X_2).....(3)\n",
        "$$\n",
        "\n",
        "Sustituyendo $(1)$ y $(2)$ en $(3)$:\n",
        "$$\n",
        "\\mathrm{Var}(Y) = \\left(\\tfrac{1}{2}\\right)^2 \\mathrm{Var}(X_1)\n",
        "+ \\left(\\tfrac{1}{2}\\right)^2 \\mathrm{Var}(X_2)\n",
        "+ 2\\left(\\tfrac{1}{2}\\right)\\left(\\tfrac{1}{2}\\right)\\mathrm{Cov}(X_1,X_2).\n",
        "$$\n",
        "\n",
        "\n",
        "\n",
        "$$\n",
        "\\left(\\tfrac{1}{2}\\right)^2 = \\tfrac{1}{4},\n",
        "\\quad\n",
        "2\\left(\\tfrac{1}{2}\\right)\\left(\\tfrac{1}{2}\\right) = \\tfrac{1}{2}.\n",
        "$$\n",
        "\n",
        "Entonces:\n",
        "\n",
        "$$\n",
        "\\mathrm{Var}(Y) = \\tfrac{1}{4}\\mathrm{Var}(X_1)\n",
        "+ \\tfrac{1}{4}\\mathrm{Var}(X_2)\n",
        "+ \\tfrac{1}{2}\\mathrm{Cov}(X_1,X_2).\n",
        "$$\n",
        "\n",
        "Factorizando $\\tfrac{1}{4}$:\n",
        "\n",
        "$$\n",
        "\\boxed{\\mathrm{Var}(Y) = \\tfrac{1}{4}\\left(\\mathrm{Var}(X_1) + \\mathrm{Var}(X_2) + 2\\,\\mathrm{Cov}(X_1,X_2)\\right)}\n",
        "$$\n",
        "\n",
        "\n",
        "- Si $X_1$ y $X_2$ son **independientes**:\n",
        "$$\n",
        "\\mathrm{Cov}(X_1,X_2) = 0 \\quad \\Rightarrow\n",
        "\\mathrm{Var}(Y) = \\tfrac{1}{4}\\big(\\mathrm{Var}(X_1) + \\mathrm{Var}(X_2)).\n",
        "$$\n",
        "\n",
        "- Si $X_1, X_2$ están **positivamente correlacionados**, la varianza aumenta.\n",
        "$$\n",
        "\\mathrm{Cov}(X_1,X_2) > 0  \\Rightarrow \\quad\n",
        "\\mathrm{Var}(Y) = \\tfrac{1}{4}(\\mathrm{Var}(X_1) + \\mathrm{Var}(X_2) + 2\\mathrm{Cov}(X_1,X_2))\n",
        "$$\n",
        "- Si $X_1, X_2$ están **negativamente correlacionados** (como en el método antitético), la varianza disminuye.\n",
        "\n",
        "$$\n",
        "\\mathrm{Cov}(X_1,X_2) < 0  \\Rightarrow \\quad\n",
        "\\mathrm{Var}(Y) = \\tfrac{1}{4}(\\mathrm{Var}(X_1) + \\mathrm{Var}(X_2) - 2\\mathrm{Cov}(X_1,X_2))\n",
        "$$"
      ],
      "metadata": {
        "id": "NSSgkKsPPMfd"
      }
    },
    {
      "cell_type": "markdown",
      "source": [
        "<p align=\"center\">\n",
        "    <font size=\"10\" color=\"lightblue\" >Metodo de Montecarlo Crudo por Variables Antiteticas </font>\n",
        "</p>"
      ],
      "metadata": {
        "id": "sHkt5eVkA4Ux"
      }
    },
    {
      "cell_type": "markdown",
      "source": [
        "Se sabe que si $X_1, X_2$ están **negativamente correlacionados** , la varianza disminuye.\n",
        "\n",
        "$$\n",
        "\\mathrm{Cov}(X_1,X_2) < 0  \\Rightarrow \\quad\n",
        "\\mathrm{Var}(Y) = \\tfrac{1}{4}(\\mathrm{Var}(X_1) + \\mathrm{Var}(X_2) - 2\\mathrm{Cov}(X_1,X_2))\n",
        "$$\n",
        "\n",
        "En el método Monte Carlo casi siempre partes de un generador uniforme\n",
        "$$\n",
        "U \\sim U(a,b).\n",
        "$$\n",
        "\n",
        "Se definen las variables aleatorias:\n",
        "\n",
        "$$\n",
        "X_1 = a + (b-a)U,\n",
        "$$\n",
        "\n",
        "$$\n",
        "X_2 = a + (b-a)(1-U).\n",
        "$$\n",
        "\n",
        "\n",
        "\n",
        "Desarrollando $X_2 = a + (b-a)(1-U)$:\n",
        "\n",
        "Primero expandimos el paréntesis:\n",
        "\n",
        "$$\n",
        "(b-a)(1-U) = (b-a)\\cdot 1 - (b-a)\\cdot U.\n",
        "$$\n",
        "\n",
        "$$\n",
        "= (b-a) - (b-a)U.\n",
        "$$\n",
        "\n",
        "Entonces:\n",
        "\n",
        "$$\n",
        "X_2 = a + (b-a) - (b-a)U.\n",
        "$$\n",
        "\n",
        "Agrupando los terminos $[-(b-a)U]  \\; \\text{y} \\;  [-a] $:\n",
        "\n",
        "$$\n",
        "X_2 = (a + b) -(a + (b-a)U).\n",
        "$$\n",
        "\n",
        "\n",
        "\n",
        "Donde:\n",
        "\n",
        "$\n",
        "X_1 = a + (b-a)U,\n",
        "$\n",
        "\n",
        "Sustituyendo $X_1$, finalmente, se cumple que:\n",
        "\n",
        "$$\n",
        "\\boxed{X_2 = a + b - X_1}\n",
        "$$\n",
        "\n",
        "Esto garantiza que:\n",
        "- $ X_1,X_2 \\; \\sim \\; U(a,b)$.\n",
        "- Si$ \\; X_1 → ∞ \\implies X_2 → 0  $ ( si $X_1 $ aumenta entonces $X_2 $ disminuye). Esto reduce la varianza ya que $ \\; \\mathrm{Cov}(X_1,X_2) < 0 $\n",
        "\n",
        "Se tiene que:\n",
        " $$ g(x) = \\sqrt{\\arctan(x)} $$\n",
        "\n",
        "Entonces se evalua $g(X_1), g(X_2)$\n",
        "\n",
        "Se define la variable $gy_i$ que es el promedio de las evaluaciones  $g(X_1), g(X_2)$, esto hace por que el Metodo de Monte Carlo Crudo requiere solo una variable $y_i$.\n",
        "\n",
        "$$y_i = \\frac {g(X_1) + g(X_2)}{2} \\; i = 1,2, \\dots n$$\n",
        "\n",
        "\n",
        "Entonces el estimador $\\theta_2$ queda definido como:\n",
        "\n",
        "\n",
        "$$\\theta_2 = (b-a)\\frac{1}{n}\\sum_{i=1}^n y_i$$\n",
        "\n",
        "\n",
        "\n",
        "\n",
        "\n",
        "\n",
        "\n",
        "\n",
        "\n",
        "\n"
      ],
      "metadata": {
        "id": "L7Art4XiHk8S"
      }
    },
    {
      "cell_type": "code",
      "source": [
        "def mcc_anti(n, a, b): # se define la funcion mcc_anti(n,a,b) con los parametros a, b, N\n",
        "    Y = []  # Esta lista guardara las muestras de g(x_i) para calcular la media\n",
        "    # Las lista deben estar afuera del ciclos for\n",
        "    for i in range(n): # para i = 0 hasta i = n - 1\n",
        "        u = np.random.uniform(a, b) # se genera un numero aleatorio que sigue una distribucion uniforme en [a,b]\n",
        "        x_1 = a + (b-a)*u # se genera un numero aleatorio que depende del numero aleatorio u que sigue una distribucion uniforme en [a,b]\n",
        "        x_2 = (a + b) - x_1 # se genera un segundo numero aletorio que tambien sigue una distribucion uniforme en [a,b], que depende del primer numero aleatorio x_1\n",
        "        y_i = (g(x_1) + g(x_2))/2 # se calcula el promedio de las evaluaciones de los numeros aleatorios x_1 y x_2 en g(x), esto es el valor y_i\n",
        "        Y.append(y_i) # se agrega el valor y_i al arreglo Y\n",
        "    teta_2 = (b - a) * np.mean(Y) # estimacion de la integral I, usando el estimador θ_2\n",
        "    var_theta_2 = (((b-a)**2)/n)*(0.4388245731 - (teta_2)**2) # se calcula la varianza del estimador θ_2\n",
        "    des_theta_2 = np.sqrt(var_theta_2) # se calcula la desviacion estandar del estimador θ_2\n",
        "    return teta_2, des_theta_2 ,var_theta_2 # el valor de salida es el valor del estimador θ_2, la varianza del estimador θ_2 y la desviacion estandar del estimador θ_2\n",
        "\n",
        "\n",
        "r_2_anti = mcc(10000, 0, 1) # se nombra la varaible \"r\" que guardara el valor que suelta la funcion \"aproximaciones(N,a,b) con N = 1000,a = 0 ,b = 1, que sera una tupla (teta_2, var_theta_2, des_theta_2 )\n",
        "\n",
        "print(\n",
        "    f\"\\nResultado de la integral aproximada: {r_2[0]:.10f}\" # mostrara el primer elemento del objeto \"\"r\" con 10 cifras significativas, con variable de tipo flotante\n",
        "    f\"\\nEl error estándar de aproximación (desviación estándar) es: {r_2[1]:.10f}\"  # mostrara el segundo elemento del objeto \"\"r\" con 10 cifras significativas, con variable de tipo flotante\n",
        "    f\"\\nEl error estándar de aproximación al cuadrado (varianza) es: {r_2[2]:.10f}\" # mostrara el tercer elemento del objeto \"\"r\" con 10 cifras significativas, con variable de tipo flotante\n",
        ")"
      ],
      "metadata": {
        "colab": {
          "base_uri": "https://localhost:8080/"
        },
        "id": "8k2cpel8BBwT",
        "outputId": "f7da1763-4e83-462d-8870-02502513cfe4"
      },
      "execution_count": 5,
      "outputs": [
        {
          "output_type": "stream",
          "name": "stdout",
          "text": [
            "\n",
            "Resultado de la integral aproximada: 0.6305417678\n",
            "El error estándar de aproximación (desviación estándar) es: 0.0020308041\n",
            "El error estándar de aproximación al cuadrado (varianza) es: 0.0000041242\n"
          ]
        }
      ]
    },
    {
      "cell_type": "markdown",
      "source": [
        "<p align=\"center\">\n",
        "    <font size=\"10\" color=\"lightblue\" >Metodo de Montecarlo Crudo vs Metodo de Monte Carlo Crudo con  Variables Antiteticas </font>\n",
        "</p>"
      ],
      "metadata": {
        "id": "WHO6lyqWeZ0j"
      }
    },
    {
      "cell_type": "markdown",
      "source": [
        "Se tiene que la varianza del estimador $\\theta_2$ usando variables antiteticas, se define como:\n",
        "$$\\mathrm{Var_{ant}}(\\theta_2)$$\n",
        "\n",
        "Se tiene que la varianza del estimador $\\theta_2$ estandar del metodo de Monte Carlo Crudo se define como:\n",
        "$$\\mathrm{Var_{crudo}}(\\theta_2)$$\n",
        "\n",
        "\n",
        "El porcentaje de reduccion de varianza ($\\%_{\\text{reduction}}$) del metodo de Monte Carlo Crudo respecto al metodo de Monte Carlo aplicando variables antiteticas se define como:\n",
        "\n",
        "$$ \\%_{\\text{reduction}} = (1 - \\frac {Var_{crudo}}{Var_{ant}})\\cdot 100\\%$$\n"
      ],
      "metadata": {
        "id": "VUxWEPDKbD6E"
      }
    },
    {
      "cell_type": "code",
      "source": [
        "def comp(a, b, n): # se define la funcion comp(a,b,n) con parametros a,b,n, esta funcion va a comparar la varianza del monte carlo crudo con la varianza del monte carlo usando antiteticas\n",
        "  var_anti = r_2_anti[2] # se nombra la variable var_anti, que almacena el segundo parametro de la tupla r_2_anti, que es la varianza usando el metodo de variables antiteticas\n",
        "  var_crudo = r_2[2] # se nombra la variable \"var_crudo\", que almacena el segundo parametro de la tupla r_2, que es la varianza del monte carlo crudo normal\n",
        "  c = np.abs(( 1 - (var_crudo/var_anti) ) * 100) # usando la funcion np.abs (valor absoluto en numpy), calcula la comparacion absoluta del metodo de monte carlos usando antiteticas y el metodo estandar\n",
        "  return c # la funcion retorna el valor de la variable c\n",
        "\n",
        "r_comp = comp(0, 1, 10000)\n",
        "print(f\"Hubo una reduccion del {r_comp:.5f}% en la varianza usando la tecnica de variables antiteticas en Monte Carlo Crudo  \") # se most"
      ],
      "metadata": {
        "colab": {
          "base_uri": "https://localhost:8080/"
        },
        "id": "hwOYzDx1BIVx",
        "outputId": "b2f9752a-4b57-476e-9a27-884c15760656"
      },
      "execution_count": 6,
      "outputs": [
        {
          "output_type": "stream",
          "name": "stdout",
          "text": [
            "Hubo una reduccion del 1.14806% en la varianza usando la tecnica de variables antiteticas en Monte Carlo Crudo  \n"
          ]
        }
      ]
    },
    {
      "cell_type": "markdown",
      "source": [
        "<p align=\"center\">\n",
        "    <font size=\"6\" color=\"lightblue\" >Concluciones </font>\n",
        "</p>\n",
        "\n",
        "\n",
        "- Se podria decir que la tecnica de variables antitetices siempre es conveniente usarla, ya que aunque no siempre reduce un gran porcentaje de la varianza, hay veces donde la varianza se reduce hasta un $10 \\%$ entonces es una buena herramienta.\n",
        "\n",
        "- Si se puede aplicar el metodo de variables antiteticas al metodo de Monte Carlo de acierto y error ya que se generan 2 variables aleatorias que siguen una distribucion uniforme ( $X, Y \\sim \\; {U}(a,b)$ ), entonces se puede aplicar.\n"
      ],
      "metadata": {
        "id": "3twPMsveGKqM"
      }
    },
    {
      "cell_type": "markdown",
      "source": [
        "\n",
        "\n",
        "<p align=\"center\">\n",
        "    <font size=\"10\" color=\"lightblue\" >Metodo de Montecarlo  Acierto y Error </font>\n",
        "</p>\n",
        "\n"
      ],
      "metadata": {
        "id": "IiybAHOOmrS5"
      }
    },
    {
      "cell_type": "code",
      "source": [
        "def mc(a,b,c,n):\n",
        "  aciertos = 0 # la variable \"aciertos\" cuenta la cantidad de puntos que esta debajo de la curva g(x) = arctan (x) (n_A = aciertos)\n",
        "  for i in range (n): # desde i = 0 hasta i = 10000 - 1 se aplicaran las instrucciones:\n",
        "    x = np.random.uniform(a,b)# se generara un numero aleatorio entre a = 0 y b = 1 que sigan una distribucion uniforme\n",
        "    y = np.random.uniform(a,b) # se generara un numero aleatorio entre a = 0 y b = 1 que sigan una distribucion uniforme\n",
        "    if y <= g(x): # Si el punto generado esta debajo o sobre de la grafica g(x) = arctan (x):\n",
        "      aciertos += 1 # se sumara 1 al arreglo \"aciertos\"\n",
        "  theta_1 = c*(b-a)*(aciertos/n) # arpoximacion de la integral I usando el estimador insesgado θ_1\n",
        "  var_theta_1 = (theta_1*((c*(b-a)) - theta_1))/n # varianza del estiamdor θ_1\n",
        "  des_theta_1 = np.sqrt(var_theta_1) # desviacion estandar del estimador\n",
        "  # para hacer una multiplicacion, se debe usar asteriscos en cada termino de la multiplicacion\n",
        "  return theta_1, des_theta_1, var_theta_1\n",
        "r_1 = mc(0,1,1,10000) # se define r_1 como la variable que guardara la tupla del resultado de evaluar la funcion mc(a,b,c,n) con a = 0, b = 1, c = 1, n = 10000\n",
        "# al ser mc(a,b,c,n) una funcion que devuelve 3 valores (theta_1, var_theta_1, des_theta_1) y se le asigna un index a cada valor empezando desde 0 hasta i-valores de salida\n",
        "# En este caso i = 3 ( 3 valore de salida), se usa r[i] para mostrar estos valores de salida\n",
        "print(f\"El valor aproximado de la integral es: {(r_1[0]):.10f}\" # va a mostrar el primer valor de la tupla r_1 con tipo de dato flotante con 6 decimales de signicativos\n",
        "f\"\\n El valor del error de aproximacion (desviacion estandar) es: {(r_1[1]):.10f}\" # va a mostrar el segundo valor de la tupla r_1 con tipo de dato flotante con 6 decimales de signicativos\n",
        "f\"\\n  \\nEl valor del error de aproximacion al cuadrado (Varianza) es: {(r_1[2]):.10f}\")# va a mostrar el tecer valor de la tupla r_1 con tipo de dato flotante con 6 decimales de signicativos"
      ],
      "metadata": {
        "colab": {
          "base_uri": "https://localhost:8080/"
        },
        "id": "st81bRgNmpnG",
        "outputId": "ef53f48b-904f-4fd0-9bba-66fed2a95b19"
      },
      "execution_count": 7,
      "outputs": [
        {
          "output_type": "stream",
          "name": "stdout",
          "text": [
            "El valor aproximado de la integral es: 0.6274000000\n",
            " El valor del error de aproximacion (desviacion estandar) es: 0.0048349689\n",
            "  \n",
            "El valor del error de aproximacion al cuadrado (Varianza) es: 0.0000233769\n"
          ]
        }
      ]
    },
    {
      "cell_type": "markdown",
      "source": [
        "<p align=\"center\">\n",
        "    <font size=\"10\" color=\"lightblue\" >Metodo de Montecarlo  Acierto y Error aplicando Variables Antiteticas </font>\n",
        "</p>"
      ],
      "metadata": {
        "id": "uHGUVdovlG7p"
      }
    },
    {
      "cell_type": "code",
      "source": [
        "def mc(a,b,c,n):\n",
        "  aciertos = 0 # la variable \"aciertos\" cuenta la cantidad de puntos que esta debajo de la curva g(x) = arctan (x) (n_A = aciertos)\n",
        "  for i in range (n): # desde i = 0 hasta i = 10000 - 1 se aplicaran las instrucciones:\n",
        "    u = np.random.uniform(a,b) # se generara un numero aleatorio entre a = 0 y b = 1 que sigan una distribucion uniforme\n",
        "    x = a + (b-a)*u # se genera un numero aleatorio que depende del numero aleatorio u que sigue una distribucion uniforme en [a,b]\n",
        "    y = (a + b) - x # se genera un segundo numero aletorio que tambien sigue una distribucion uniforme en [a,b], que depende del primer numero aleatorio x\n",
        "    if y <= g(x): # Si el punto generado esta debajo o sobre de la grafica g(x) = arctan (x):\n",
        "      aciertos += 1 # se sumara 1 al arreglo \"aciertos\"\n",
        "  theta_1 = c*(b-a)*(aciertos/n) # arpoximacion de la integral I usando el estimador insesgado θ_1\n",
        "  var_theta_1 = (theta_1*((c*(b-a)) - theta_1))/n # varianza del estiamdor θ_1\n",
        "  des_theta_1 = np.sqrt(var_theta_1) # desviacion estandar del estimador\n",
        "  # para hacer una multiplicacion, se debe usar asteriscos en cada termino de la multiplicacion\n",
        "  return theta_1, des_theta_1, var_theta_1\n",
        "r_1_anti = mc(0,1,1,10000) # se define r_1 como la variable que guardara la tupla del resultado de evaluar la funcion mc(a,b,c,n) con a = 0, b = 1, c = 1, n = 10000\n",
        "# al ser mc(a,b,c,n) una funcion que devuelve 3 valores (theta_1, var_theta_1, des_theta_1) y se le asigna un index a cada valor empezando desde 0 hasta i-valores de salida\n",
        "# En este caso i = 3 ( 3 valore de salida), se usa r[i] para mostrar estos valores de salida\n",
        "print(f\"El valor aproximado de la integral es: {float(r_1[0]):.10f}\" # va a mostrar el primer valor de la tupla r_1 con tipo de dato flotante con 10 decimales de signicativos\n",
        " f\"\\n El valor del error de aproximacion (desviacion estandar) es:{float(r_1[1]):.10f}\"# va a mostrar el segundo valor de la tupla r_1 con tipo de dato flotante con 10 decimales de signicativos\n",
        " f\"\\n  \\nEl valor del error de aproximacion al cuadrado (Varianza) es: {float(r_1[2]):.10f}\")# va a mostrar el tecer valor de la tupla r_1 con tipo de dato flotante con 10 decimales de signicativos\n",
        "# Va a mostrara los valores de la tupla r usando r_1[i] donde i es el numero de valores de r_1\n"
      ],
      "metadata": {
        "colab": {
          "base_uri": "https://localhost:8080/"
        },
        "id": "N0Mkcn1dfQzV",
        "outputId": "359b931a-e18c-4dd9-aeb3-06053ab6f67e"
      },
      "execution_count": 8,
      "outputs": [
        {
          "output_type": "stream",
          "name": "stdout",
          "text": [
            "El valor aproximado de la integral es: 0.6274000000\n",
            " El valor del error de aproximacion (desviacion estandar) es:0.0048349689\n",
            "  \n",
            "El valor del error de aproximacion al cuadrado (Varianza) es: 0.0000233769\n"
          ]
        }
      ]
    },
    {
      "cell_type": "markdown",
      "source": [
        "<p align=\"center\">\n",
        "    <font size=\"10\" color=\"lightblue\" >Metodo de Montecarlo Acierto y Error vs Metodo de Monte Acierto y Error con Variables Antiteticas </font>\n",
        "</p>"
      ],
      "metadata": {
        "id": "karBjT3MleEX"
      }
    },
    {
      "cell_type": "markdown",
      "source": [
        "Se tiene que la varianza del estimador $\\theta_1$ usando variables antiteticas, se define como:\n",
        "$$\\mathrm{Var_{ant}}(\\theta_1)$$\n",
        "\n",
        "Se tiene que la varianza del estimador $\\theta_1$ estandar del metodo de Monte Carlo Crudo se define como:\n",
        "$$\\mathrm{Var_{aciertoerror}}(\\theta_1)$$\n",
        "\n",
        "\n",
        "El porcentaje de reduccion de varianza ($\\%_{\\text{reduction}}$) del metodo de Monte Carlo Crudo respecto al metodo de Monte Carlo aplicando variables antiteticas se define como:\n",
        "\n",
        "$$ \\%_{\\text{reduction}} = (1 - \\frac {Var_{\\text {aciertoerror}}}{Var_\\text{ant}})\\cdot 100\\%$$"
      ],
      "metadata": {
        "id": "WWpHLbTHlqEH"
      }
    },
    {
      "cell_type": "code",
      "source": [
        "def comp(a, b, n): # se define la funcion comp(a,b,n) con parametros a,b,n, esta funcion va a comparar la varianza del monte carlo crudo con la varianza del monte carlo usando antiteticas\n",
        "  var_anti = r_1_anti[2] # se nombra la variable var_anti, que almacena el segundo parametro de la tupla r_2_anti, que es la varianza usando el metodo de variables antiteticas\n",
        "  var_acierto = r_1[2] # se nombra la variable \"var_crudo\", que almacena el segundo parametro de la tupla r_2, que es la varianza del monte carlo crudo normal\n",
        "  c = np.abs(( 1 - (var_acierto/var_anti) ) * 100) # usando la funcion np.abs (valor absoluto en numpy), calcula la comparacion absoluta del metodo de monte carlos usando antiteticas y el metodo estandar\n",
        "  return c # la funcion retorna el valor de la variable c\n",
        "\n",
        "r_comp = comp(0, 1, 10000)\n",
        "print(f\"Hubo una reduccion del {r_comp:.5f}% en la varianza usando la tecnica de variables antiteticas en Monte Carlo Crudo  \") # se most"
      ],
      "metadata": {
        "colab": {
          "base_uri": "https://localhost:8080/"
        },
        "id": "spY-UippmSZ2",
        "outputId": "565dbb61-07aa-4055-9fe3-74ae43312fd6"
      },
      "execution_count": 9,
      "outputs": [
        {
          "output_type": "stream",
          "name": "stdout",
          "text": [
            "Hubo una reduccion del 1.81772% en la varianza usando la tecnica de variables antiteticas en Monte Carlo Crudo  \n"
          ]
        }
      ]
    },
    {
      "cell_type": "markdown",
      "source": [
        "<p align=\"center\">\n",
        "    <font size=\"10\" color=\"lightblue\" > Comparacion  </font>\n",
        "</p>"
      ],
      "metadata": {
        "id": "ZekIpffDRdHL"
      }
    },
    {
      "cell_type": "code",
      "source": [
        "comp = [\n",
        " [\"Varianza Monte_Crudo\", r_2[2] ],\n",
        "  [\"Varianza Monte_Crudo_anti\",r_2_anti[2]],\n",
        "  [\"Varianza Monte_Acierto_Error\", r_1[2]],\n",
        " [\"Varianza Monte_Acierto_Error_anti\", r_1_anti[2]]\n",
        "]  # se crea la lista \"comp\" con 4 componentes comp = [[\"Varianza Monte_Crudo\", r_2[2] ],[\"Varianza Monte_Crudo_anti\",r_2_anti[2]],[\"Varianza Monte_Acierto_Error\", r_1[2]], [\"Varianza Monte_Acierto_Error_anti\", r_1_anti[2]]]\n",
        "# la columna 1 es la lista con string como componentes [\"Varianza Monte_Crudo\", \"Varianza Monte_Crudo_anti\", \"Varianza Monte_Acierto_Error\", \"Varianza Monte_Acierto_Error_anti\"]\n",
        "# la columna 2 es la ilsta con flotantes como componentes [r_2[2] ,r_2_anti[2], r_1[2] ,r_1_anti[2] ]\n",
        "# se crea la lista headers que son los titulos de la tabla 2X4\n",
        "headers = [\"Metodo\", \"Varianza\"]\n",
        "\n",
        "\n",
        "table = tb.tabulate(comp, headers = headers , tablefmt=\"grid\", colalign=(\"center\", \"center\"), floatfmt=\".10f\")\n",
        "# se usa la funcion tabulate() con:\n",
        "# data = comp (lista de 4 listas con 2 componentes cada una)\n",
        "# headers = headers ( al ser un tabla de 2 filas, hay 2 titulos)\n",
        "\n",
        "print(table)"
      ],
      "metadata": {
        "colab": {
          "base_uri": "https://localhost:8080/"
        },
        "id": "eso9uCxwOnH-",
        "outputId": "cd0def95-b442-4f6e-f2cb-e7bfd4137aa8"
      },
      "execution_count": 13,
      "outputs": [
        {
          "output_type": "stream",
          "name": "stdout",
          "text": [
            "+-----------------------------------+--------------+\n",
            "|              Metodo               |   Varianza   |\n",
            "+===================================+==============+\n",
            "|       Varianza Monte_Crudo        | 0.0000041242 |\n",
            "+-----------------------------------+--------------+\n",
            "|     Varianza Monte_Crudo_anti     | 0.0000040774 |\n",
            "+-----------------------------------+--------------+\n",
            "|   Varianza Monte_Acierto_Error    | 0.0000233769 |\n",
            "+-----------------------------------+--------------+\n",
            "| Varianza Monte_Acierto_Error_anti | 0.0000238097 |\n",
            "+-----------------------------------+--------------+\n"
          ]
        }
      ]
    }
  ]
}