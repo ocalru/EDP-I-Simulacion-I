{
  "cells": [
    {
      "cell_type": "markdown",
      "metadata": {
        "id": "view-in-github",
        "colab_type": "text"
      },
      "source": [
        "<a href=\"https://colab.research.google.com/github/ocalru/EDP-I-Simulacion-I/blob/main/Numpy.ipynb\" target=\"_parent\"><img src=\"https://colab.research.google.com/assets/colab-badge.svg\" alt=\"Open In Colab\"/></a>"
      ]
    },
    {
      "cell_type": "markdown",
      "metadata": {
        "id": "2urqUbsUtFrr"
      },
      "source": [
        "Note: numpy is specified for arrange and matrix"
      ]
    },
    {
      "cell_type": "code",
      "execution_count": 7,
      "metadata": {
        "id": "-Mf6fsKgwFgg",
        "colab": {
          "base_uri": "https://localhost:8080/"
        },
        "outputId": "d0b92b8f-a48a-4afe-9f0f-ad736bcaac3a"
      },
      "outputs": [
        {
          "output_type": "stream",
          "name": "stdout",
          "text": [
            "Matrix 1x3: \n",
            " [1 2 3]\n",
            "matrix 2x3: \n",
            " [[1 2 3]\n",
            " [4 5 6]]\n",
            "\n",
            "Array created using passed tuple:\n",
            " [1 3 2]\n"
          ]
        }
      ],
      "source": [
        "\n",
        "import numpy as np\n",
        "\n",
        "# Creating a 1x3 matrix\n",
        "arr = np.array([1, 2, 3])#to create a matrix, always put \".array\"\n",
        "print(\"Matrix 1x3: \\n\",arr)\n",
        "\n",
        "# Creating a matrix 2x3\n",
        "arr = np.array([[1, 2, 3], # usa comas to separate the rows\n",
        "                [4, 5, 6]])\n",
        "print(\"matrix 2x3: \\n\", arr)\n",
        "\n",
        "# Creating an array from tuple\n",
        "arr = np.array((1, 3, 2))\n",
        "print(\"\\nArray created using \"\n",
        "      \"passed tuple:\\n\", arr)"
      ]
    },
    {
      "cell_type": "code",
      "execution_count": 8,
      "metadata": {
        "id": "ZhXFDNpK1Woc",
        "colab": {
          "base_uri": "https://localhost:8080/"
        },
        "outputId": "e5398449-f8dd-4bf5-9231-a0ae87aeff3f"
      },
      "outputs": [
        {
          "output_type": "stream",
          "name": "stdout",
          "text": [
            "the component (3,3) of the matrix arr : \n",
            " 7.0\n"
          ]
        }
      ],
      "source": [
        "import numpy as np\n",
        "\n",
        "# Initial matrix\n",
        "arr = np.array([[-1, 2, 0, 4],\n",
        "                [4, -0.5, 6, 0],\n",
        "                [2.6, 0, 7, 8],\n",
        "                [3, -7, 4, 2.0]])\n",
        "sliced_arr = arr[2, 2] # [i = 2, j = 2] i,j = 0, 1, 2..., n\n",
        "print (\"the component (3,3) of the matrix arr : \\n\" , sliced_arr)"
      ]
    },
    {
      "cell_type": "markdown",
      "metadata": {
        "id": "_elhUG5H4s2d"
      },
      "source": [
        "MATRIX OPERATIONS"
      ]
    },
    {
      "cell_type": "code",
      "execution_count": 9,
      "metadata": {
        "id": "OpGicc7i4lK-",
        "colab": {
          "base_uri": "https://localhost:8080/"
        },
        "outputId": "b4cd0542-d562-461b-dee0-35abf6050329"
      },
      "outputs": [
        {
          "output_type": "stream",
          "name": "stdout",
          "text": [
            "Adding 1 to every element: [[2 3]\n",
            " [4 5]]\n",
            "\n",
            "Subtracting 2 from each element: [[ 2  1]\n",
            " [ 0 -1]]\n",
            "\n",
            "Sum of all array elements:  10\n",
            "\n",
            "Array sum:\n",
            " [[5 5]\n",
            " [5 5]]\n"
          ]
        }
      ],
      "source": [
        "\n",
        "\n",
        "import numpy as np\n",
        "\n",
        "# Defining Array 1\n",
        "a = np.array([[1, 2],\n",
        "              [3, 4]])\n",
        "\n",
        "# Defining Array 2\n",
        "b = np.array([[4, 3],\n",
        "              [2, 1]])\n",
        "\n",
        "# Adding 1 to every element\n",
        "print (\"Adding 1 to every element:\", a + 1)\n",
        "\n",
        "# Subtracting 2 from each element\n",
        "print (\"\\nSubtracting 2 from each element:\", b - 2)\n",
        "\n",
        "print (\"\\nSum of all array \"\n",
        "       \"elements: \", a.sum()) # \"sum()\" is used to sum each element of one single matrix\n",
        "\n",
        "# Adding two matrix\n",
        "print (\"\\nArray sum:\\n\", a + b)"
      ]
    },
    {
      "cell_type": "code",
      "execution_count": 10,
      "metadata": {
        "id": "aY8d7RWUp4vA",
        "colab": {
          "base_uri": "https://localhost:8080/"
        },
        "outputId": "e5e15dbe-6214-455e-dc09-02cb95516c7d"
      },
      "outputs": [
        {
          "output_type": "stream",
          "name": "stdout",
          "text": [
            "Integer Datatype: \n",
            "int64\n",
            "\n",
            "Float Datatype: \n",
            "float64\n",
            "\n",
            "Forcing a Datatype: \n",
            "int64\n"
          ]
        }
      ],
      "source": [
        "\n",
        "import numpy as np\n",
        "\n",
        "\n",
        "x = np.array([1, 2])#all the componentes of the matrix x are integers\n",
        "print(\"Integer Datatype: \")\n",
        "print(x.dtype) #use \".dtype\" to show a type of value of a variable\n",
        "# in this case is the variable \"x\"\n",
        "\n",
        "# Float datatype\n",
        "x = np.array([1.0, 2.0]) #all the components of the matrix are floats\n",
        "print(\"\\nFloat Datatype: \")\n",
        "print(x.dtype)\n",
        "\n",
        "# Forced Datatype\n",
        "x = np.array([1, 2], dtype = np.int64) # to define the type of value of a value\n",
        "print(\"\\nForcing a Datatype: \")\n",
        "print(x.dtype)"
      ]
    },
    {
      "cell_type": "code",
      "execution_count": 11,
      "metadata": {
        "id": "j2X-npZBsu9q",
        "colab": {
          "base_uri": "https://localhost:8080/"
        },
        "outputId": "9f482014-66c5-44e2-d51d-4e44f764d28c"
      },
      "outputs": [
        {
          "output_type": "stream",
          "name": "stdout",
          "text": [
            "Addition of Two Arrays: \n",
            "[[ 7. 13.]\n",
            " [ 4. 14.]]\n",
            "\n",
            "Transpose of Array: \n",
            "[[4. 2.]\n",
            " [7. 6.]]\n",
            "Main Diagonal elements : \n",
            " [  1 434  56] \n",
            "\n",
            "Diagonal above main diagonal : \n",
            " [21  3] \n",
            "\n",
            "Diagonal below main diagonal : \n",
            " [63 54]\n"
          ]
        }
      ],
      "source": [
        "\n",
        "import numpy as np\n",
        "\n",
        "# First matrix\n",
        "arr1 = np.array([[4, 7], [2, 6]], dtype = np.float64)\n",
        "\n",
        "# Second matrix\n",
        "arr2 = np.array([[3, 6], [2, 8]], dtype = np.float64)\n",
        "\n",
        "# Addition of two matrix\n",
        "\n",
        "Sum = np.add(arr1, arr2) # using the function \"add()\" from numpy\n",
        "print(\"Addition of Two Arrays: \")\n",
        "print(Sum)\n",
        "\n",
        "# Transpose of matrix\n",
        "\n",
        "Trans_arr = arr1.T\n",
        "print(\"\\nTranspose of Array: \")\n",
        "print(Trans_arr)\n",
        "\n",
        "\n",
        "\n",
        "a = np.matrix([[1, 21, 30],  # use the function \".matrix()\" from numpy\n",
        "# to generate a matrix\n",
        "                 [63 ,434, 3],\n",
        "                 [54, 54, 56]])\n",
        "\n",
        "print(\"Main Diagonal elements : \\n\", np.diag(a), \"\\n\") # use \".diag()\" from numpy to\n",
        "# generate the main diagonal\n",
        "\n",
        "print(\"Diagonal above main diagonal : \\n\", np.diag(a, 1), \"\\n\")\n",
        "\n",
        "print(\"Diagonal below main diagonal : \\n\", np.diag(a, -1))"
      ]
    },
    {
      "cell_type": "markdown",
      "metadata": {
        "id": "DBD808mg010W"
      },
      "source": [
        "RANDOM MATRIX"
      ]
    },
    {
      "cell_type": "code",
      "execution_count": 12,
      "metadata": {
        "id": "HOwce2i0HmYN",
        "colab": {
          "base_uri": "https://localhost:8080/"
        },
        "outputId": "274d2af2-3b17-4b6e-8c23-b703972bdac5"
      },
      "outputs": [
        {
          "output_type": "stream",
          "name": "stdout",
          "text": [
            "matrix 3x4 filled with random values : \n",
            "  [[0.28569001 0.04641045 0.9486325  0.01752111]\n",
            " [0.81854984 0.60325809 0.00174473 0.87766683]\n",
            " [0.11247883 0.33279945 0.42512436 0.744418  ]]\n"
          ]
        }
      ],
      "source": [
        "import numpy as np\n",
        "\n",
        "# 3x4 random matrix\n",
        "array = np.random.rand(3, 4) # rand() generates random float values in the intervale [0,1]\n",
        "# will generate a matrix of 3x4\n",
        "print(\"matrix 3x4 filled with random values : \\n \", array);"
      ]
    },
    {
      "cell_type": "code",
      "execution_count": 13,
      "metadata": {
        "id": "OJy73jjlSNGu",
        "colab": {
          "base_uri": "https://localhost:8080/"
        },
        "outputId": "13fc06ed-566b-4d9d-bd82-cec80b18486f"
      },
      "outputs": [
        {
          "output_type": "stream",
          "name": "stdout",
          "text": [
            "2x2 matrix filled with rational numbers : \n",
            " [[-0.88249424  0.99847725]\n",
            " [-0.47444509  0.97427105]]\n",
            "\n",
            " 2x2 matrix * 3 : \n",
            " [[-2.64748272  2.99543174]\n",
            " [-1.42333526  2.92281314]]\n"
          ]
        }
      ],
      "source": [
        "import numpy as np\n",
        "\n",
        "\n",
        "array = np.random.randn(2, 2) #.randn() will generate a matrix filled with\n",
        "# rational numbers (ℚ)\n",
        "print(\"2x2 matrix filled with rational numbers : \\n\", array);\n",
        "\n",
        "print(\"\\n 2x2 matrix * 3 : \\n\", array *3) # multiplicate each component of the matrix by 3"
      ]
    },
    {
      "cell_type": "markdown",
      "metadata": {
        "id": "GDlkfp-iNgGG"
      },
      "source": [
        "LINSPACE()"
      ]
    },
    {
      "cell_type": "code",
      "execution_count": 14,
      "metadata": {
        "colab": {
          "base_uri": "https://localhost:8080/"
        },
        "id": "lxbeZLJHNAs1",
        "outputId": "3338c191-254e-4403-fe2e-7577c983982d"
      },
      "outputs": [
        {
          "output_type": "stream",
          "name": "stdout",
          "text": [
            "[0.         0.22222222 0.44444444 0.66666667 0.88888889 1.11111111\n",
            " 1.33333333 1.55555556 1.77777778 2.        ]\n"
          ]
        }
      ],
      "source": [
        "import numpy as np\n",
        "\n",
        "# in the intervale [X0,Xn],( with n = 0, 1....+ℤ , n = # of division points )\n",
        "# will be divided in n-1 different subintervals.\n",
        "# with a space between subintervals: ∆x = (Xn - Xo)/n\n",
        "\n",
        "\n",
        "#In this example: X0 = 0, Xn = 2, n = 10\n",
        "x = np.linspace(0, 2, 10)\n",
        "print(x)"
      ]
    },
    {
      "cell_type": "markdown",
      "metadata": {
        "id": "7z4sN-Q2grw8"
      },
      "source": [
        "RANDOM NORMAL"
      ]
    },
    {
      "cell_type": "code",
      "execution_count": 15,
      "metadata": {
        "colab": {
          "base_uri": "https://localhost:8080/",
          "height": 624
        },
        "id": "IJO9iUytgtcT",
        "outputId": "76cdfb3b-058a-465a-b42f-15dc88f3d8f8"
      },
      "outputs": [
        {
          "output_type": "error",
          "ename": "NameError",
          "evalue": "name 'bins' is not defined",
          "traceback": [
            "\u001b[0;31m---------------------------------------------------------------------------\u001b[0m",
            "\u001b[0;31mNameError\u001b[0m                                 Traceback (most recent call last)",
            "\u001b[0;32m<ipython-input-15-5d4755ac6050>\u001b[0m in \u001b[0;36m<cell line: 0>\u001b[0;34m()\u001b[0m\n\u001b[1;32m     10\u001b[0m \u001b[0mplt\u001b[0m\u001b[0;34m.\u001b[0m\u001b[0mhist\u001b[0m\u001b[0;34m(\u001b[0m\u001b[0ms\u001b[0m\u001b[0;34m,\u001b[0m \u001b[0;36m30\u001b[0m\u001b[0;34m,\u001b[0m \u001b[0mdensity\u001b[0m\u001b[0;34m=\u001b[0m\u001b[0;32mTrue\u001b[0m\u001b[0;34m)\u001b[0m\u001b[0;34m\u001b[0m\u001b[0;34m\u001b[0m\u001b[0m\n\u001b[1;32m     11\u001b[0m \u001b[0;31m# to show the normal distribution overhead the histogram\u001b[0m\u001b[0;34m\u001b[0m\u001b[0;34m\u001b[0m\u001b[0m\n\u001b[0;32m---> 12\u001b[0;31m \u001b[0mplt\u001b[0m\u001b[0;34m.\u001b[0m\u001b[0mplot\u001b[0m\u001b[0;34m(\u001b[0m\u001b[0mbins\u001b[0m\u001b[0;34m,\u001b[0m \u001b[0;36m1\u001b[0m\u001b[0;34m/\u001b[0m\u001b[0;34m(\u001b[0m\u001b[0msigma\u001b[0m \u001b[0;34m*\u001b[0m \u001b[0mnp\u001b[0m\u001b[0;34m.\u001b[0m\u001b[0msqrt\u001b[0m\u001b[0;34m(\u001b[0m\u001b[0;36m2\u001b[0m \u001b[0;34m*\u001b[0m \u001b[0mnp\u001b[0m\u001b[0;34m.\u001b[0m\u001b[0mpi\u001b[0m\u001b[0;34m)\u001b[0m\u001b[0;34m)\u001b[0m \u001b[0;34m*\u001b[0m\u001b[0mnp\u001b[0m\u001b[0;34m.\u001b[0m\u001b[0mexp\u001b[0m\u001b[0;34m(\u001b[0m \u001b[0;34m-\u001b[0m \u001b[0;34m(\u001b[0m\u001b[0mbins\u001b[0m \u001b[0;34m-\u001b[0m \u001b[0mmu\u001b[0m\u001b[0;34m)\u001b[0m\u001b[0;34m**\u001b[0m\u001b[0;36m2\u001b[0m \u001b[0;34m/\u001b[0m \u001b[0;34m(\u001b[0m\u001b[0;36m2\u001b[0m \u001b[0;34m*\u001b[0m \u001b[0msigma\u001b[0m\u001b[0;34m**\u001b[0m\u001b[0;36m2\u001b[0m\u001b[0;34m)\u001b[0m \u001b[0;34m)\u001b[0m\u001b[0;34m,\u001b[0m\u001b[0mlinewidth\u001b[0m\u001b[0;34m=\u001b[0m\u001b[0;36m2\u001b[0m\u001b[0;34m,\u001b[0m \u001b[0mcolor\u001b[0m\u001b[0;34m=\u001b[0m\u001b[0;34m'red'\u001b[0m\u001b[0;34m)\u001b[0m\u001b[0;34m\u001b[0m\u001b[0;34m\u001b[0m\u001b[0m\n\u001b[0m\u001b[1;32m     13\u001b[0m \u001b[0;31m# linewidht = the witdth of the line´s graphic distribution, \"color\" = is the color of the line\u001b[0m\u001b[0;34m\u001b[0m\u001b[0;34m\u001b[0m\u001b[0m\n\u001b[1;32m     14\u001b[0m \u001b[0;34m\u001b[0m\u001b[0m\n",
            "\u001b[0;31mNameError\u001b[0m: name 'bins' is not defined"
          ]
        },
        {
          "output_type": "display_data",
          "data": {
            "text/plain": [
              "<Figure size 640x480 with 1 Axes>"
            ],
            "image/png": "[encoded data removed]"
          },
          "metadata": {}
        }
      ],
      "source": [
        "import numpy as np\n",
        "import matplotlib.pyplot as plt\n",
        "\n",
        "mu = 0 # μ = 0\n",
        "sigma = 0.1 # standard deviation σ = 0.1\n",
        "n = 1000 # sample of 1000 values\n",
        "s = np.random.normal(mu, sigma, n)\n",
        "\n",
        "\n",
        "plt.hist(s, 30, density=True)\n",
        "# to show the normal distribution overhead the histogram\n",
        "plt.plot(bins, 1/(sigma * np.sqrt(2 * np.pi)) *np.exp( - (bins - mu)**2 / (2 * sigma**2) ),linewidth=2, color='red')\n",
        "# linewidht = the witdth of the line´s graphic distribution, \"color\" = is the color of the line\n",
        "\n",
        "plt.title(\"Random sample from a normal distribution \")\n",
        "plt.xlabel(\"Random Numbers\")\n",
        "plt.ylabel(\"Frequency\")\n",
        "plt.show()"
      ]
    },
    {
      "cell_type": "code",
      "source": [],
      "metadata": {
        "id": "4alRM4uUV4ph"
      },
      "execution_count": null,
      "outputs": []
    },
    {
      "cell_type": "code",
      "source": [
        "numpy.linspace(start, stop, num=50, endpoint=True, retstep=False, dtype=None, axis=0, *, device=None) codigos documentados # Documentar esto bien , no se que e s\n"
      ],
      "metadata": {
        "id": "HkpQlJZiZrJZ"
      },
      "execution_count": null,
      "outputs": []
    },
    {
      "cell_type": "code",
      "source": [
        "import numpy as np\n",
        "\n",
        "n = 3\n",
        "\n",
        "# Genera una  matriz U de tamaño (n, 12) (n filas y 12 columnas) llenada con numeros aleatorios en el intervalo (0, 1)\n",
        "\n",
        "U = np.random.uniform(0, 1, size=(n, 12))\n",
        "\n",
        "# La funcion np.sum de la libreria numpy, tiene la siguiente estructura:\n",
        "\n",
        "# np.sum(a, axis=None, dtype=None, keepdims=False)\n",
        "\n",
        "# a:El arreglo de entrada. Puede ser 1D, 2D, etc.\n",
        "\n",
        "# axis (opcional): Especifica el eje a lo largo del cual se realiza la suma:\n",
        "\n",
        "#   axis=None (por defecto): suma todos los elementos del arreglo, sin importar la dimensión.\n",
        "\n",
        "#   axis=0: suma por columnas (de arriba hacia abajo).\n",
        "\n",
        "#   axis=1: suma por filas (de izquierda a derecha).\n",
        "\n",
        "# dtype (opcional):Especifica el tipo de datos para el resultado. Por ejemplo, dtype=np.float64.\n",
        "\n",
        "# keepdims (opcional): Si es True, mantiene las dimensiones originales del resultado (útil para broadcasting).\n",
        "\n",
        "S_12 = np.sum(U, axis=1) # Para este caso, a = U , axis = 1 (se hacen las sumas por filas), el vector de salida es un vector de tamaño 3x1,\n",
        "# donde cada entrada es la suma de una fila\n",
        "\n",
        "Z = S_12 - 6\n",
        "\n",
        "print(S_12)\n",
        "\n",
        "print(Z)\n"
      ],
      "metadata": {
        "colab": {
          "base_uri": "https://localhost:8080/"
        },
        "id": "jCBChFLsUR3c",
        "outputId": "60c2628e-5106-46b8-9046-f53af583e190"
      },
      "execution_count": 16,
      "outputs": [
        {
          "output_type": "stream",
          "name": "stdout",
          "text": [
            "[6.92926317 5.84979879 9.18132383]\n",
            "[ 0.92926317 -0.15020121  3.18132383]\n"
          ]
        }
      ]
    }
  ],
  "metadata": {
    "colab": {
      "provenance": [],
      "authorship_tag": "ABX9TyM0z4URBzQPJulBUcwzPXu6",
      "include_colab_link": true
    },
    "kernelspec": {
      "display_name": "Python 3",
      "name": "python3"
    },
    "language_info": {
      "name": "python"
    }
  },
  "nbformat": 4,
  "nbformat_minor": 0
}