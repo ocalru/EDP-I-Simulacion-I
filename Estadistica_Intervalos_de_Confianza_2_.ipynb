{
  "nbformat": 4,
  "nbformat_minor": 0,
  "metadata": {
    "colab": {
      "provenance": [],
      "authorship_tag": "ABX9TyNwDSWo93iHHw4kiEQF4kh4",
      "include_colab_link": true
    },
    "kernelspec": {
      "name": "python3",
      "display_name": "Python 3"
    },
    "language_info": {
      "name": "python"
    }
  },
  "cells": [
    {
      "cell_type": "markdown",
      "metadata": {
        "id": "view-in-github",
        "colab_type": "text"
      },
      "source": [
        "<a href=\"https://colab.research.google.com/github/ocalru/EDP-I-Simulacion-I/blob/main/Estadistica_Intervalos_de_Confianza_2_.ipynb\" target=\"_parent\"><img src=\"https://colab.research.google.com/assets/colab-badge.svg\" alt=\"Open In Colab\"/></a>"
      ]
    },
    {
      "cell_type": "markdown",
      "source": [
        "<p align=\"center\">\n",
        "    <font size=\"20\" color=\"red\"> Muestra 1: </font>\n",
        "</p>"
      ],
      "metadata": {
        "id": "q1mI_QpsQaHE"
      }
    },
    {
      "cell_type": "code",
      "execution_count": 2,
      "metadata": {
        "colab": {
          "base_uri": "https://localhost:8080/"
        },
        "id": "MQcDlOxZPWAW",
        "outputId": "f093f958-c5b4-43da-93b3-f5e708bb20e9"
      },
      "outputs": [
        {
          "output_type": "stream",
          "name": "stdout",
          "text": [
            "Proporción muestral (p̂): 0.4300\n",
            "Intervalo de confianza al 95%: (0.3330, 0.5270)\n"
          ]
        }
      ],
      "source": [
        "import math\n",
        "\n",
        "# Lista de datos\n",
        "datos = [\n",
        "    2, 3, 1, 2, 1, 1, 3, 3, 3, 2, 2, 2, 2, 2, 1, 2, 1, 2, 1, 1, 1, 1, 1, 2, 2, 3, 3, 2, 3, 3,\n",
        "    2, 2, 2, 3, 2, 4, 1, 1, 2, 3, 1, 1, 1, 2, 1, 3, 2, 2, 2, 3, 1, 2, 1, 2, 2, 1, 2, 2, 1, 1,\n",
        "    3, 2, 2, 1, 3, 1, 1, 1, 2, 1, 3, 4, 3, 3, 2, 1, 1, 1, 1, 1, 3, 2, 2, 1, 2, 2, 2, 1, 1, 1,\n",
        "    1, 2, 1, 1, 1, 1, 1, 1, 2, 1\n",
        "]\n",
        "\n",
        "# Contar número de unos\n",
        "contador_unos = sum(1 for x in datos if x == 1)\n",
        "\n",
        "# Tamaño de la muestra (lo fijamos a 100)\n",
        "n = 100\n",
        "\n",
        "# Proporción muestral\n",
        "p_hat = contador_unos / n\n",
        "\n",
        "# Z_α/2 para 95% de confianza\n",
        "z = 1.96\n",
        "\n",
        "# Cálculo del margen de error\n",
        "margen_error = z * math.sqrt((p_hat * (1 - p_hat)) / n)\n",
        "\n",
        "# Intervalo de confianza\n",
        "limite_inferior = p_hat - margen_error\n",
        "limite_superior = p_hat + margen_error\n",
        "\n",
        "# Imprimir resultados\n",
        "print(f\"Proporción muestral (p̂): {p_hat:.4f}\")\n",
        "print(f\"Intervalo de confianza al 95%: ({limite_inferior:.4f}, {limite_superior:.4f})\")\n",
        "\n"
      ]
    },
    {
      "cell_type": "markdown",
      "source": [
        "<p align=\"center\">\n",
        "    <font size=\"20\" color=\"red\"> Diferencia de proporciones: </font>\n",
        "</p>"
      ],
      "metadata": {
        "id": "8GORI6IFQzOR"
      }
    },
    {
      "cell_type": "code",
      "source": [
        "import math\n",
        "\n",
        "# Muestra 1\n",
        "muestra1 = [\n",
        "    2, 3, 1, 2, 1, 1, 3, 3, 3, 2, 2, 2, 2, 2, 1, 2, 1, 2, 1, 1, 1, 1, 1, 2, 2, 3, 3, 2, 3, 3,\n",
        "    2, 2, 2, 3, 2, 4, 1, 1, 2, 3, 1, 1, 1, 2, 1, 3, 2, 2, 2, 3, 1, 2, 1, 2, 2, 1, 2, 2, 1, 1,\n",
        "    3, 2, 2, 1, 3, 1, 1, 1, 2, 1, 3, 4, 3, 3, 2, 1, 1, 1, 1, 1, 3, 2, 2, 1, 2, 2, 2, 1, 1, 1,\n",
        "    1, 2, 1, 1, 1, 1, 1, 1, 2, 1\n",
        "]\n",
        "\n",
        "# Muestra 2 (la que me diste)\n",
        "muestra2 = [\n",
        "    2, 2, 2, 4, 3, 4, 1, 2, 1, 2, 2, 4, 2, 3, 2, 4, 1, 4, 2, 2, 4, 1, 3, 2, 1, 1, 3, 1, 2, 2,\n",
        "    1, 2, 4, 4, 2, 2, 3, 1, 2, 2, 3, 2, 2, 3, 2, 1, 4, 2, 4, 4, 2, 2, 1, 1, 2, 2, 3, 1, 1, 3,\n",
        "    1, 3, 4, 1, 4, 4, 3, 1, 1, 3, 4, 2, 1, 3, 2, 4, 1, 1, 2, 2, 1, 4, 1, 4, 4, 1, 4, 1, 4, 2,\n",
        "    2, 2, 2, 4, 1, 2, 1, 4, 2, 2, 2, 1, 4, 2, 2, 4, 2, 1, 2, 2, 2, 2, 2, 1, 2, 2, 4, 2, 2, 1,\n",
        "    2, 2, 2, 1, 2, 1, 2, 1, 4, 1, 2, 2, 2, 2, 2, 2, 4, 2, 1, 2, 3, 1, 4, 2, 2, 1, 2, 2, 2\n",
        "]\n",
        "\n",
        "# Tamaños de las muestras\n",
        "n1 = len(muestra1)\n",
        "n2 = len(muestra2)\n",
        "\n",
        "# Proporciones de \"1\"\n",
        "p1_hat = sum(1 for x in muestra1 if x == 1) / n1\n",
        "p2_hat = sum(1 for x in muestra2 if x == 1) / n2\n",
        "\n",
        "# Z para 95% de confianza\n",
        "z = 1.96\n",
        "\n",
        "# Error estándar para diferencia de proporciones\n",
        "error_estandar = math.sqrt(\n",
        "    (p1_hat * (1 - p1_hat)) / n1 + (p2_hat * (1 - p2_hat)) / n2\n",
        ")\n",
        "\n",
        "# Margen de error\n",
        "margen_error = z * error_estandar\n",
        "\n",
        "# Diferencia de proporciones\n",
        "diferencia = p1_hat - p2_hat\n",
        "\n",
        "# Intervalo de confianza\n",
        "limite_inferior = diferencia - margen_error\n",
        "limite_superior = diferencia + margen_error\n",
        "\n",
        "# Resultados\n",
        "print(f\"Proporción muestra 1 (p̂1): {p1_hat:.4f}\")\n",
        "print(f\"Proporción muestra 2 (p̂2): {p2_hat:.4f}\")\n",
        "print(f\"Diferencia de proporciones: {diferencia:.4f}\")\n",
        "print(f\"Intervalo de confianza al 95%: ({limite_inferior:.4f}, {limite_superior:.4f})\")\n"
      ],
      "metadata": {
        "colab": {
          "base_uri": "https://localhost:8080/"
        },
        "id": "x5Sye9hbRJJ7",
        "outputId": "c4807310-da38-48c0-8b4c-28ef8aaaa0b9"
      },
      "execution_count": 4,
      "outputs": [
        {
          "output_type": "stream",
          "name": "stdout",
          "text": [
            "Proporción muestra 1 (p̂1): 0.4300\n",
            "Proporción muestra 2 (p̂2): 0.2550\n",
            "Diferencia de proporciones: 0.1750\n",
            "Intervalo de confianza al 95%: (0.0553, 0.2946)\n"
          ]
        }
      ]
    }
  ]
}