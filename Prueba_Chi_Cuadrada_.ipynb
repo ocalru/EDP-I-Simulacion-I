{
  "nbformat": 4,
  "nbformat_minor": 0,
  "metadata": {
    "colab": {
      "provenance": [],
      "authorship_tag": "ABX9TyPBKbUpkpECjw+PRCFdtvrZ",
      "include_colab_link": true
    },
    "kernelspec": {
      "name": "python3",
      "display_name": "Python 3"
    },
    "language_info": {
      "name": "python"
    }
  },
  "cells": [
    {
      "cell_type": "markdown",
      "metadata": {
        "id": "view-in-github",
        "colab_type": "text"
      },
      "source": [
        "<a href=\"https://colab.research.google.com/github/ocalru/EDP-I-Simulacion-I/blob/main/Prueba_Chi_Cuadrada_.ipynb\" target=\"_parent\"><img src=\"https://colab.research.google.com/assets/colab-badge.svg\" alt=\"Open In Colab\"/></a>"
      ]
    },
    {
      "cell_type": "code",
      "execution_count": 3,
      "metadata": {
        "id": "wH6bY2KiflIg"
      },
      "outputs": [],
      "source": [
        "import numpy as np # se importa la libreria numpy, renombranda como \"np\"\n",
        "import scipy.stats as stats # se importa la libreria spicy.stats, renombrada como \"stats\"\n",
        "\n",
        "\n",
        "n = 1000  # Cantidad de números aleatorios\n",
        "k = 10     # Número de intervalos\n",
        "\n",
        "\n",
        "# Se generan \"n\" numeros aleatorios en el intervalo [0,1]\n",
        "\n",
        "data = np.random.uniform(0, 1, n) # Se crea el arreglo \"data\" insertando los \"n\" numeros aleatorios generados\n",
        "\n",
        "# Se calcula la media (μ) y la desvaicion estandar (σ) del conjunto \"data\"\n",
        "\n",
        "mu = np.mean(data)\n",
        "sigma = np.std(data)\n",
        "\n",
        "\n"
      ]
    },
    {
      "cell_type": "markdown",
      "source": [
        "**Por ejemplo**, para $n = 10$ ( se generan 10 numeros aleatorios en el intervalo $[0,1]$):\n",
        "\n",
        "$$  data = [0.732,  0.125,  0.567,  0.891 , 0.342 ,0.109 , 0.654.  0.778 , 0.234 , 0.456]$$\n",
        "\n",
        "Se tien que:\n",
        "\n",
        "$$data ∈ [0,1]$$\n",
        "\n",
        "Calculando la media $(μ)$ y la desvaicion estandar $(σ)$ del conjunto \"data\":\n",
        "\n",
        "$$ μ = 0.48880000000000007 , σ = 0.26497199852059844 $$\n",
        "\n",
        "\n"
      ],
      "metadata": {
        "id": "mUms5H8aheKM"
      }
    },
    {
      "cell_type": "code",
      "source": [
        "# se divide el intervalo [0,1] en k + 1 intervalos igualmente espaciados\n",
        "\n",
        "percentiles = np.linspace(0, 1, k + 1) # Se crea el arreglo vacio \"percentiles\" y se agregan los k + 1 valores\n",
        "# en el que se dividio el intervalo [0,1]\n"
      ],
      "metadata": {
        "id": "_AMNFHgTh3DJ"
      },
      "execution_count": null,
      "outputs": []
    },
    {
      "cell_type": "markdown",
      "source": [
        "Por ejemplo, para $k = 10$:\n",
        "\n",
        "$$ percentiles = [0.0, 0.1, 0.2, 0.3 , 0.4 , 0.5, 0.6, 0.7, 0.8, 0.9, 1.0]$$\n"
      ],
      "metadata": {
        "id": "_Msp1akgwpU4"
      }
    },
    {
      "cell_type": "code",
      "source": [
        "\n",
        "bins = stats.norm.ppf(percentiles, loc=mu, scale=sigma)\n",
        "\n",
        "bins[0], bins[-1] = 0, 1  # Asegurar que los extremos coincidan con [0,1]\n",
        "\n",
        "\n",
        "\n",
        "\n",
        "\n",
        "# Contar frecuencias observadas\n",
        "o_freq, _ = np.histogram(data, bins)\n",
        "\n",
        "# Calcular frecuencias esperadas usando la distribución normal\n",
        "expected_freq = n * np.diff(stats.norm.cdf(bins, loc=mu, scale=sigma))\n",
        "expected_freq[expected_freq == 0] = 1e-10  # Evitar divisiones por cero\n",
        "\n",
        "# Calcular el estadístico chi-cuadrado\n",
        "chi2_stat = np.sum((o_freq - expected_freq) ** 2 / expected_freq)\n",
        "\n",
        "# Valor crítico y p-valor\n",
        "alpha = 0.05\n",
        "critical_value = stats.chi2.ppf(1 - alpha, df=k-1)\n",
        "p_value = 1 - stats.chi2.cdf(chi2_stat, df=k-1)\n",
        "\n",
        "# Mostrar resultados\n",
        "print(f\"Chi-cuadrado: {chi2_stat:.4f}\")\n",
        "print(f\"Valor crítico: {critical_value:.4f}\")\n",
        "print(f\"Valor p: {p_value:.4f}\")\n",
        "\n",
        "# Interpretación del resultado\n",
        "if chi2_stat < critical_value:\n",
        "    print(\"No se rechaza la hipótesis nula: Los datos pueden seguir una normal.\")\n",
        "else:\n",
        "    print(\"Se rechaza la hipótesis nula: Los datos NO siguen una normal.\")\n"
      ],
      "metadata": {
        "id": "OZ-MqkCnwh0K"
      },
      "execution_count": null,
      "outputs": []
    }
  ]
}