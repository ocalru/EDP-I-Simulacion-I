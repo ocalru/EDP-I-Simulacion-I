{
  "nbformat": 4,
  "nbformat_minor": 0,
  "metadata": {
    "colab": {
      "provenance": [],
      "authorship_tag": "ABX9TyNybhJI6Ket5jVC5Qaqk4EB",
      "include_colab_link": true
    },
    "kernelspec": {
      "name": "python3",
      "display_name": "Python 3"
    },
    "language_info": {
      "name": "python"
    }
  },
  "cells": [
    {
      "cell_type": "markdown",
      "metadata": {
        "id": "view-in-github",
        "colab_type": "text"
      },
      "source": [
        "<a href=\"https://colab.research.google.com/github/ocalru/EDP-I-Simulacion-I/blob/main/Prueba_Chi_Cuadrada_.ipynb\" target=\"_parent\"><img src=\"https://colab.research.google.com/assets/colab-badge.svg\" alt=\"Open In Colab\"/></a>"
      ]
    },
    {
      "cell_type": "code",
      "execution_count": 14,
      "metadata": {
        "id": "wH6bY2KiflIg",
        "outputId": "7cc137cd-7434-41be-cef7-722494dd87f7",
        "colab": {
          "base_uri": "https://localhost:8080/"
        }
      },
      "outputs": [
        {
          "output_type": "stream",
          "name": "stdout",
          "text": [
            "La media muestral es: 0.456\n",
            "La varianza muestral es: 0.273\n",
            "La media teorica es: 0.500\n",
            "La varianza teorica es: 0.289\n"
          ]
        }
      ],
      "source": [
        "import numpy as np # se importa la libreria numpy, renombranda como \"np\"\n",
        "import scipy.stats as stats # se importa la libreria spicy.stats, renombrada como \"stats\"\n",
        "import math as math # se importa la libreria math, renombranda como \"math\"\n",
        "\n",
        "\n",
        "n = 25     # Tamaño de la muestra\n",
        "\n",
        "k = 10     # Número de intervalos\n",
        "\n",
        "\n",
        "# Se define la muestra de datos, se busca comprobar si \"data\" ∽ U(0,1):\n",
        "\n",
        "data = [0.048, 0.926,0.368,0.787,0.298,0.591,0.007,0.437,0.594,0.199,0.478,0.551,0.178,0.086,0.157,0.166,0.362,0.411,0.951,0.401,\n",
        "        0.932,0.533,0.545,0.772,0.631]\n",
        "\n",
        "# Se define el arreglo \"data\" com sus correspondientes valores\n",
        "\n",
        "\n",
        "# Se calcula la media (μ) y la desvaicion estandar (σ) teoricas:\n",
        "\n",
        "mu_teorico = 0.5 # se define la variable \"mu_teorico\" con el valor de 0.5\n",
        "des_teorico = 1/math.sqrt(12) # se define la variaable \"des_teorico\"  usando la funcion \"sqrt\" que calcula la raiz cuadrada de un numero\n",
        "\n",
        "# Se calcula la media y desviacion estandar muestral:\n",
        "\n",
        "mu_muestral = np.mean(data) # Se usa la funcion \"mean\" de la libreria numpy, que calcula media muestral de un arreglo de datos\n",
        "des_muestral = np.std(data) # Se usa la funcion \"std\" de la libreria numpy, que calcula varianza muestral de un arreglo de datos\n",
        "\n",
        "\n",
        "\n",
        "\n",
        "print(f\"La media muestral es: {mu_muestral:.3f}\")\n",
        "print(f\"La varianza muestral es: {des_muestral:.3f}\")\n",
        "print(f\"La media teorica es: {mu_teorico:.3f}\")\n",
        "print(f\"La varianza teorica es: {des_teorico:.3f}\")\n",
        "\n",
        "# Se usa \"f\" antes de una string, para depues poner entre los simbolos \"{}\" el valor que se mostrara despues de la string, las comillas \"\"\n",
        "# se cierran al final del valor a mostrar, despues de cerrar las llaves\n",
        "\n",
        "# El \".n\" indica que van a mostrar n cantidad de decimales, en este caso n = 3\n",
        "\n",
        "# La f significa \"formato flotante\" (es decir, un número con decimales).\n",
        "\n",
        "# En este caso se mostraran las valores mu_teorico, des_teorico, mu_muestral ,des_muestral, como numeros flotantes y con 3 decimales"
      ]
    },
    {
      "cell_type": "markdown",
      "source": [
        "Se calcula la media $( μ )$  teorica para $U [0,1]$):\n",
        "\n",
        "$$\\mu = \\frac{a + b}{2}$$\n",
        "\n",
        "\n",
        "Donde:\n",
        "\n",
        "$a = 0$\n",
        "\n",
        "$b = 1$\n",
        "\n",
        "Sustituyendo $a$ y $b$:\n",
        "\n",
        "\n",
        "$$ \\mu = \\frac{0 + 1}{2}= \\frac{1}{2}= 0.5$$\n",
        "\n",
        "\n",
        "y la desviacion estandar teorica $(σ)$ en $U [0,1]$:\n",
        "\n",
        "$$\\sigma = \\frac{b - a}{\\sqrt{12}}$$\n",
        "\n",
        "\n",
        "Sustituyendo $a = 0$ y $b = 1$:\n",
        "\n",
        "$$\\sigma = \\frac{1 - 0}{\\sqrt{12}} = \\frac{1}{\\sqrt{12}} $$\n",
        "\n",
        "La **media** (promedio) de una muestra $( x_1, x_2, \\dots, x_n )$ se calcula como:\n",
        "$$\n",
        "\\bar{x} = \\frac{1}{n} \\sum_{i=1}^{n} x_i\n",
        "$$\n",
        "\n",
        "Donde:\n",
        "\n",
        "$n = $es el número de elementos en la muestra.\n",
        "\n",
        "$ x_i = $ es el $i-esimo$ valor en la muestra\n",
        "\n",
        "$ i = {1,2,.....n}$\n",
        "\n",
        "\n",
        "\n",
        "\n",
        "\n",
        "La **desviación estándar** de una muestra se calcula como:\n",
        "\n",
        "$$\n",
        "\\sigma = \\sqrt{\\frac{1}{n-1} \\sum_{i=1}^{n} (x_i - \\bar{x})^2}\n",
        "$$\n",
        "\n",
        "Donde:\n",
        "\n",
        "$n = $es el número de elementos en la muestra.\n",
        "\n",
        "$ \\bar{x} $ es la media de la muestra.\n",
        "\n",
        "$ x_i = $ es el $i-esimo$ valor en la muestra\n",
        "\n",
        "\n",
        "\n",
        "$ i = {1,2,.....n}$\n",
        "\n",
        "\n",
        "En este caso la muestra es el cojunto:\n",
        "\n",
        "$$ data = [0.048, 0.926.......,0.631]$$\n",
        "\n",
        "con $n = 25 $\n",
        "\n"
      ],
      "metadata": {
        "id": "mUms5H8aheKM"
      }
    },
    {
      "cell_type": "code",
      "source": [
        "# Definir los intervalos (bins) para la prueba de Chi-cuadrado, se generan k intervalos\n",
        "\n",
        "\n",
        "# Se divide el intervalo [0,1] en k intervalos igualmente espaciados, con k +1 puntos igualmente espaciados\n",
        "bins = np.linspace(0, 1, k + 1) # Se nombra al arreglo \"bins\" que almacena los k +1 puntos generados\n"
      ],
      "metadata": {
        "id": "_AMNFHgTh3DJ"
      },
      "execution_count": 8,
      "outputs": []
    },
    {
      "cell_type": "markdown",
      "source": [
        "Por ejemplo, para $k = 10$:\n",
        "\n",
        "$$ bins = [0.0, 0.1, 0.2, 0.3 , 0.4 , 0.5, 0.6, 0.7, 0.8, 0.9, 1.0]$$\n",
        "\n",
        "Por ejemplo, se tiene el sub-intervalo:\n",
        "\n",
        "$$A = [0.0,0.1]$$\n",
        "\n",
        "El cual esta contenido en $bin$:\n",
        "\n",
        "$$A ⊂ bins$$\n"
      ],
      "metadata": {
        "id": "_Msp1akgwpU4"
      }
    },
    {
      "cell_type": "code",
      "source": [
        "# Obtener las frecuencias observadas en cada intervalo\n",
        "\n",
        "observed_frequencies,_ = np.histogram(data, bins=bins) # Se nombra al arreglo \"observed_frequencies\" que almacenara las frecuencias en cada sub-intervalo de \"bins\"\n",
        "# Se usa la funcion \"histogram(array, bins = array_1)\" de la libreria numpy, esta funcion devuelve como primer parametro las frecuencias observadas\n",
        "# basadas en los sub-intervalos definidos en el arreglo \"array_1\", despues como segundo parametro devuelve \"array_1\"\n",
        "\n",
        " # Al poner \",_\", la funcion solo devuelve el primer parametro (array)\n",
        "\n",
        "\n",
        "print(\"Frecuencias observadas:\", observed_frequencies) # Mostrara el valor \"obseverd_frequencies\" al este ser un arreglo, solo se pone una coma\n",
        "# despues de la string encerrada con el simbolos \"\"\n",
        "\n",
        "print(\"Límites de los intervalos:\", bins) # Mostrara el valor \"bins\" al este ser un arreglo, solo se pone una coma\n",
        "# despues de la string encerrada con el simbolos \"\""
      ],
      "metadata": {
        "id": "H-iVAyiQAGHK",
        "outputId": "d77601fa-f550-4650-d7b5-8e91e9f0ab73",
        "colab": {
          "base_uri": "https://localhost:8080/"
        }
      },
      "execution_count": 17,
      "outputs": [
        {
          "output_type": "stream",
          "name": "stdout",
          "text": [
            "Frecuencias observadas: [3 4 1 2 4 5 1 2 0 3]\n",
            "Límites de los intervalos: [0.  0.1 0.2 0.3 0.4 0.5 0.6 0.7 0.8 0.9 1. ]\n"
          ]
        }
      ]
    },
    {
      "cell_type": "markdown",
      "source": [
        "Para el conjunto de datos:\n",
        "\n",
        "$$\n",
        "\\text{data} = \\{ 0.048, 0.926, 0.368, 0.787, 0.298, 0.591, 0.007, 0.437, 0.594, 0.199, 0.478, 0.551, 0.178, 0.086, 0.157, 0.166, 0.362, 0.411, 0.951, 0.401, 0.932, 0.533, 0.545, 0.772, 0.631 \\}\n",
        "$$\n",
        "\n",
        "\n",
        "Se tiene que para el intervalo $ k = 1$, definido como:\n",
        "$$A = \\{0.0,0.1\\}$$\n",
        "\n",
        "Hay $3$ datos que pertenecen a $A$, los cuales son:\n",
        "$$\\{(0.048,0.007,0.086\\}$$\n",
        "\n",
        "Entonces:\n",
        "\n",
        "$$\\{0.048,0.007,0.086\\} ∈ A$$\n",
        "\n",
        "Por lo tanto la frecuencia observada en $A$ es  $3$, que es el primer valor en el arreglo de **frecuencias observadas**:\n",
        "\n",
        " $$[3, 4 ,1 ,2 ,4 ,5 ,1 ,2 ,0 ,3]$$"
      ],
      "metadata": {
        "id": "81zHORSBA85l"
      }
    },
    {
      "cell_type": "code",
      "source": [
        "# Calcular las frecuencias esperadas suponiendo una distribución uniforme #ver las notas de bondad de ajuste\n",
        "expected_frequencies = np.full(k, n / k)  # Todas las frecuencias esperadas son iguales"
      ],
      "metadata": {
        "id": "_rEeQziUFOfV"
      },
      "execution_count": 10,
      "outputs": []
    },
    {
      "cell_type": "code",
      "source": [
        "\n",
        "\n",
        "# Realizar la prueba de Chi-cuadrado\n",
        "chi2_stat, p_value = stats.chisquare(observed_frequencies, expected_frequencies)\n",
        "\n",
        "# Mostrar resultados\n",
        "print(f\"Media muestral: {mu_muestral:.4f}\")\n",
        "print(f\"Varianza muestral: {des_muestral:.4f}\")\n",
        "print(f\"Media teórica: {mu_teorico}\")\n",
        "print(f\"Varianza teórica: {des_teorico:.4f}\\n\")\n",
        "\n",
        "print(f\"Estadístico Chi-cuadrado: {chi2_stat:.4f}\")\n",
        "print(f\"Valor p: {p_value:.4f}\")\n",
        "\n",
        "# Interpretación\n",
        "alpha = 0.05  # Nivel de significancia del 5%\n",
        "if p_value > alpha:\n",
        "    print(\"No se rechaza la hipótesis nula: los datos podrían provenir de una distribución uniforme.\")\n",
        "else:\n",
        "    print(\"Se rechaza la hipótesis nula: los datos no siguen una distribución uniforme.\")"
      ],
      "metadata": {
        "id": "OZ-MqkCnwh0K",
        "colab": {
          "base_uri": "https://localhost:8080/"
        },
        "outputId": "c5624cda-811b-4d8a-d088-df9163db6070"
      },
      "execution_count": 12,
      "outputs": [
        {
          "output_type": "stream",
          "name": "stdout",
          "text": [
            "Media muestral: 0.4564\n",
            "Varianza muestral: 0.2729\n",
            "Media teórica: 0.5\n",
            "Varianza teórica: 0.2887\n",
            "\n",
            "Estadístico Chi-cuadrado: 9.0000\n",
            "Valor p: 0.4373\n",
            "No se rechaza la hipótesis nula: los datos podrían provenir de una distribución uniforme.\n"
          ]
        }
      ]
    }
  ]
}