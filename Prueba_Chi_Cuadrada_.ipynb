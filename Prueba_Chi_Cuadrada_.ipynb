{
  "nbformat": 4,
  "nbformat_minor": 0,
  "metadata": {
    "colab": {
      "provenance": [],
      "authorship_tag": "ABX9TyNbPnhHLPElkP33hYFzVMhq",
      "include_colab_link": true
    },
    "kernelspec": {
      "name": "python3",
      "display_name": "Python 3"
    },
    "language_info": {
      "name": "python"
    }
  },
  "cells": [
    {
      "cell_type": "markdown",
      "metadata": {
        "id": "view-in-github",
        "colab_type": "text"
      },
      "source": [
        "<a href=\"https://colab.research.google.com/github/ocalru/EDP-I-Simulacion-I/blob/main/Prueba_Chi_Cuadrada_.ipynb\" target=\"_parent\"><img src=\"https://colab.research.google.com/assets/colab-badge.svg\" alt=\"Open In Colab\"/></a>"
      ]
    },
    {
      "cell_type": "code",
      "execution_count": null,
      "metadata": {
        "id": "wH6bY2KiflIg",
        "outputId": "007dc451-c447-45b9-a03f-dd33088d5b54",
        "colab": {
          "base_uri": "https://localhost:8080/"
        }
      },
      "outputs": [
        {
          "output_type": "stream",
          "name": "stdout",
          "text": [
            "La media muestral es: 0.456\n",
            "La varianza muestral es: 0.273\n",
            "La media teorica es: 0.500\n",
            "La varianza teorica es: 0.289\n"
          ]
        }
      ],
      "source": [
        "import numpy as np # se importa la libreria numpy, renombranda como \"np\"\n",
        "import scipy.stats as stats # se importa la libreria spicy.stats, renombrada como \"stats\"\n",
        "import math as math # se importa la libreria math, renombranda como \"math\"\n",
        "\n",
        "\n",
        "n = 25     # Tamaño de la muestra\n",
        "\n",
        "k = 10     # Número de intervalos\n",
        "\n",
        "\n",
        "# Se define la muestra de datos, se busca comprobar si \"data\" ∽ U(0,1):\n",
        "\n",
        "data = [0.048, 0.926,0.368,0.787,0.298,0.591,0.007,0.437,0.594,0.199,0.478,0.551,0.178,0.086,0.157,0.166,0.362,0.411,0.951,0.401,\n",
        "        0.932,0.533,0.545,0.772,0.631]\n",
        "\n",
        "# Se define el arreglo \"data\" com sus correspondientes valores\n",
        "\n",
        "\n",
        "# Se calcula la media (μ) y la desvaicion estandar (σ) teoricas:\n",
        "\n",
        "mu_teorico = 0.5 # se define la variable \"mu_teorico\" con el valor de 0.5\n",
        "des_teorico = 1/math.sqrt(12) # se define la variaable \"des_teorico\"  usando la funcion \"sqrt\" que calcula la raiz cuadrada de un numero\n",
        "\n",
        "# Se calcula la media y desviacion estandar muestral:\n",
        "\n",
        "mu_muestral = np.mean(data) # Se usa la funcion \"mean\" de la libreria numpy, que calcula media muestral de un arreglo de datos\n",
        "des_muestral = np.std(data) # Se usa la funcion \"std\" de la libreria numpy, que calcula varianza muestral de un arreglo de datos\n",
        "\n",
        "\n",
        "\n",
        "\n",
        "print(f\"La media muestral es: {mu_muestral:.3f}\")\n",
        "print(f\"La varianza muestral es: {des_muestral:.3f}\")\n",
        "print(f\"La media teorica es: {mu_teorico:.3f}\")\n",
        "print(f\"La varianza teorica es: {des_teorico:.3f}\")\n",
        "\n",
        "# Se usa \"f\" antes de una string, para depues poner entre los simbolos \"{}\" el valor que se mostrara despues de la string, las comillas \"\"\n",
        "# se cierran al final del valor a mostrar, despues de cerrar las llaves\n",
        "\n",
        "# El \".n\" indica que van a mostrar n cantidad de decimales, en este caso n = 3\n",
        "\n",
        "# La f significa \"formato flotante\" (es decir, un número con decimales).\n",
        "\n",
        "# En este caso se mostraran las valores mu_teorico, des_teorico, mu_muestral ,des_muestral, como numeros flotantes y con 3 decimales"
      ]
    },
    {
      "cell_type": "markdown",
      "source": [
        "Se define la media $( μ )$  teorica para una distribucion uniforme $:\n",
        "\n",
        "$$\\mu = \\frac{a + b}{2}$$\n",
        "\n",
        "Para $a = 0$ y $b = 1$:\n",
        "\n",
        "\n",
        "\n",
        "$$ \\mu = \\frac{0 + 1}{2}= \\frac{1}{2}= 0.5$$\n",
        "\n",
        "\n",
        "y se define la desviacion estandar teorica $(σ)$ para una distribucion uniforme:\n",
        "\n",
        "$$\\sigma = \\frac{b - a}{\\sqrt{12}}$$\n",
        "\n",
        "Para $a = 0$ y $b = 1$:\n",
        "\n",
        "$$\\sigma = \\frac{1 - 0}{\\sqrt{12}} = \\frac{1}{\\sqrt{12}} $$\n",
        "\n",
        "La **media** (promedio) de una muestra $( x_1, x_2, \\dots, x_n )$ se calcula como:\n",
        "$$\n",
        "\\bar{x} = \\frac{1}{n} \\sum_{i=1}^{n} x_i\n",
        "$$\n",
        "\n",
        "Donde:\n",
        "\n",
        "$n = $es el número de elementos en la muestra.\n",
        "\n",
        "$ x_i = $ es el $i-esimo$ valor en la muestra\n",
        "\n",
        "$ i = {1,2,.....n}$\n",
        "\n",
        "\n",
        "\n",
        "\n",
        "\n",
        "La **desviación estándar** de una muestra se calcula como:\n",
        "\n",
        "$$\n",
        "\\sigma = \\sqrt{\\frac{1}{n-1} \\sum_{i=1}^{n} (x_i - \\bar{x})^2}\n",
        "$$\n",
        "\n",
        "Donde:\n",
        "\n",
        "$n = $es el número de elementos en la muestra.\n",
        "\n",
        "$ \\bar{x} $ es la media de la muestra.\n",
        "\n",
        "$ x_i = $ es el $i-esimo$ valor en la muestra\n",
        "\n",
        "\n",
        "\n",
        "$ i = {1,2,.....n}$\n",
        "\n",
        "\n",
        "En este caso la muestra es el cojunto:\n",
        "\n",
        "$$ data = [0.048, 0.926.......,0.631]$$\n",
        "\n",
        "con $n = 25 $\n",
        "\n"
      ],
      "metadata": {
        "id": "mUms5H8aheKM"
      }
    },
    {
      "cell_type": "code",
      "source": [
        "# Definir los intervalos (bins) para la prueba de Chi-cuadrado, se generan k intervalos\n",
        "\n",
        "\n",
        "# Se divide el intervalo [0,1] en k intervalos igualmente espaciados, con k +1 puntos igualmente espaciados\n",
        "bins = np.linspace(0, 1, k + 1) # Se nombra al arreglo \"bins\" que almacena los k +1 puntos generados\n"
      ],
      "metadata": {
        "id": "_AMNFHgTh3DJ"
      },
      "execution_count": null,
      "outputs": []
    },
    {
      "cell_type": "markdown",
      "source": [
        "Por ejemplo, para $k = 10$:\n",
        "\n",
        "$$ bins = [0.0, 0.1, 0.2, 0.3 , 0.4 , 0.5, 0.6, 0.7, 0.8, 0.9, 1.0]$$\n",
        "\n",
        "Por ejemplo, se tiene el sub-intervalo:\n",
        "\n",
        "$$A = [0.0,0.1]$$\n",
        "\n",
        "El cual esta contenido en $bin$:\n",
        "\n",
        "$$A ⊂ bins$$\n"
      ],
      "metadata": {
        "id": "_Msp1akgwpU4"
      }
    },
    {
      "cell_type": "code",
      "source": [
        "# Obtener las frecuencias observadas en cada intervalo\n",
        "\n",
        "observed_frequencies,_ = np.histogram(data, bins=bins) # Se nombra al arreglo \"observed_frequencies\" que almacenara las frecuencias en cada sub-intervalo de \"bins\"\n",
        "# Se usa la funcion \"histogram(array, bins = array_1)\" de la libreria numpy, esta funcion devuelve como primer parametro las frecuencias observadas\n",
        "# basadas en los sub-intervalos definidos en el arreglo \"array_1\", despues como segundo parametro devuelve \"array_1\"\n",
        "\n",
        " # Al poner \",_\", la funcion solo devuelve el primer parametro (array)\n",
        "\n",
        "\n",
        "print(\"Frecuencias observadas:\", observed_frequencies) # Mostrara el valor \"obseverd_frequencies\" al este ser un arreglo, solo se pone una coma\n",
        "# despues de la string encerrada con el simbolos \"\"\n",
        "\n",
        "print(\"Límites de los intervalos:\", bins) # Mostrara el valor \"bins\" al este ser un arreglo, solo se pone una coma\n",
        "# despues de la string encerrada con el simbolos \"\""
      ],
      "metadata": {
        "id": "H-iVAyiQAGHK",
        "outputId": "308dfbf9-91e9-4b9c-8b55-9ec3eba73182",
        "colab": {
          "base_uri": "https://localhost:8080/"
        }
      },
      "execution_count": null,
      "outputs": [
        {
          "output_type": "stream",
          "name": "stdout",
          "text": [
            "Frecuencias observadas: [3 4 1 2 4 5 1 2 0 3]\n",
            "Límites de los intervalos: [0.  0.1 0.2 0.3 0.4 0.5 0.6 0.7 0.8 0.9 1. ]\n"
          ]
        }
      ]
    },
    {
      "cell_type": "markdown",
      "source": [
        "La **frecuencia observada** en el $ j-esimo$ intervalo $ I_j $ se define como:\n",
        "\n",
        "$$\n",
        "O_j = \\{ X_i \\mid X_i \\in I_k \\} , \\quad j = 1, \\, 2, \\, \\dots, \\, k + 1\n",
        "$$\n",
        "\n",
        "Donde:  \n",
        "- $ I_j = [a_j, a_{j+1}] $ es el  $ j -esimo$ intervalo con límites $ a_j $ y $ a_{j+1} $.  \n",
        "- $ O_j $ representa el conjunto de observaciones que pertenecen a $ I_j $.\n",
        "\n",
        "\n",
        "Tomando el conjunto de datos $\\text{data}$:\n",
        "\n",
        "$$\n",
        "\\text{data} = \\{ 0.048, 0.926, 0.368, 0.787, 0.298, 0.591, 0.007, 0.437, 0.594, 0.199, 0.478, 0.551, 0.178, 0.086, 0.157, 0.166, 0.362, 0.411, 0.951, 0.401, 0.932, 0.533, 0.545, 0.772, 0.631 \\}\n",
        "$$\n",
        "\n",
        "Para  $ j = 1 $:\n",
        "\n",
        "$$\n",
        "I_1 = [a_1, a_2] = [0.0, 0.1]\n",
        "$$\n",
        "\n",
        "Esto significa que $ O_1 $ es el conjunto de observaciones $ X_i $ que pertenecen al intervalo:\n",
        "$$ I_1 = [0.0, 0.1] $$\n",
        "\n",
        "\n",
        "\n",
        "Hay $3$ datos que pertenecen a $I_1$, los cuales son:\n",
        "$$\\{(0.048,0.007,0.086\\}$$\n",
        "\n",
        "Entonces:\n",
        "\n",
        "$$\\{0.048,0.007,0.086\\} ∈ I_1$$\n",
        "\n",
        "Por lo tanto la frecuencia observada en $I_1$ es  $3$ $( O_1 = 3$), que es el primer valor en el arreglo de **frecuencias observadas**:\n",
        "\n",
        " $$[3, 4 ,1 ,2 ,4 ,5 ,1 ,2 ,0 ,3]$$"
      ],
      "metadata": {
        "id": "81zHORSBA85l"
      }
    },
    {
      "cell_type": "code",
      "source": [
        "# Calcular las frecuencias esperadas suponiendo una distribución uniforme #ver las notas de bondad de ajuste\n",
        "\n",
        "expected_frequencies = np.full(k, n / k)  # la funcion full(n, fill_value, dtype=None) de numpy, crea un arreglo de n datos iguales al valor \"fill_value\"\n",
        "\n",
        "#n: Entero o tupla, define el tamaño del arreglo (ej. 5 para un vector de 5 elementos o (3, 3) para una matriz 3x3).\n",
        "\n",
        "# fill_value: Número o valor con el que se llenará el arreglo.\n",
        "\n",
        "# dtype (opcional): Tipo de dato del arreglo (ej. int, float, etc.).\n",
        "\n",
        "# Para este caso se generara un arreglo de tamaño k llenado con el valor n/k\n",
        "\n",
        "print(\"Frecuencias esperadas:\",expected_frequencies)"
      ],
      "metadata": {
        "id": "_rEeQziUFOfV",
        "colab": {
          "base_uri": "https://localhost:8080/"
        },
        "outputId": "1045306a-439d-4b93-fad2-a579ecdc349c"
      },
      "execution_count": null,
      "outputs": [
        {
          "output_type": "stream",
          "name": "stdout",
          "text": [
            "Frecuencias esperadas: [2.5 2.5 2.5 2.5 2.5 2.5 2.5 2.5 2.5 2.5]\n"
          ]
        }
      ]
    },
    {
      "cell_type": "markdown",
      "source": [
        "Si asumimos que los datos siguen una **distribución uniforme**, la probabilidad de que una observación pertenezca a una de las $ k $ categorías es:\n",
        "\n",
        "$$\n",
        "P(X = i) = \\frac{1}{k}, \\quad i = 1, 2, \\dots, n, \\quad j = 1, 2, \\dots, k\n",
        "$$\n",
        "\n",
        "Si tenemos un total de $ n $ observaciones, la **frecuencia esperada** en el  $\n",
        " i-esimo$ subintervalo está dada por:\n",
        "\n",
        "$$\n",
        "E_i = n \\cdot P(X = i)\n",
        "$$\n",
        "\n",
        "Sustituyendo la probabilidad de la distribución uniforme:\n",
        "\n",
        "$$\n",
        "E_i = n \\cdot \\frac{1}{k} = \\frac{n}{k}\n",
        "$$\n",
        "\n",
        "Este resultado significa que, bajo la hipótesis de distribución uniforme, se deberia esperar que haya $ \\frac{n}{k} $ observaciones en promedio.\n",
        "\n",
        "\n",
        "\n",
        "Para este ejemplo se tiene:\n",
        "\n",
        "•$ n = 25 $ observaciones\n",
        "\n",
        "•$ k = 10 $ subintervalos\n",
        "\n",
        "Sustituyendo $n$ y $k$:\n",
        "\n",
        "$$\n",
        "E_i = \\frac{25}{10} = 2.5\n",
        "$$\n",
        "\n",
        "Esto significa que, si los datos siguen una distribución uniforme, esperamos que cada una de las $ k = 10$ subintervalos tenga aproximadamente **$2.5$ observaciones** en promedio."
      ],
      "metadata": {
        "id": "skUl0lxDiNrX"
      }
    },
    {
      "cell_type": "markdown",
      "source": [],
      "metadata": {
        "id": "OBD8FzvufuyW"
      }
    },
    {
      "cell_type": "markdown",
      "source": [
        "<p align=\"center\">\n",
        "    <font size=\"10\" color=\"red\">Prueba Chi Cuadrada</font>\n",
        "</p>"
      ],
      "metadata": {
        "id": "2ioJ7bKBf4Fj"
      }
    },
    {
      "cell_type": "markdown",
      "source": [
        "\n",
        "- **Frecuencia observada $ O_i $**: Número de datos en el $ i-esimo$ subintervalo.\n",
        "- **Frecuencia esperada $ E_i $**: Cantidad esperada bajo $ H_0 $.\n",
        "\n",
        "El  **estadístico de prueba** es:\n",
        "\n",
        "$$\n",
        "\\chi^2 = \\sum_{i=1}^{k} \\frac{(O_i - E_i)^2}{E_i}\n",
        "$$\n",
        "\n",
        "Donde:\n",
        "\n",
        "$ i = 1, 2, ......, k$\n",
        "\n",
        "Si la muestra sigue la distribución teórica, las diferencias entre $ O_i $ y $ E_i $ deberían ser pequeñas.\n",
        "\n"
      ],
      "metadata": {
        "id": "_Ch5YuBm627M"
      }
    },
    {
      "cell_type": "code",
      "source": [
        "\n",
        "\n",
        "chi2_stat, p_value = stats.chisquare(observed_frequencies, expected_frequencies)\n",
        "\n",
        "# la funcion chisquare(f_obs, f_exp=None, ddof=0, axis=0) se define con los parametros:\n",
        "\n",
        "# f_obs (obligatorio): Una lista, array o serie de valores que representan las frecuencias observadas.\n",
        "\n",
        "# f_exp (opcional, por defecto None):Una lista o array de frecuencias esperadas. Si no se proporciona, se asume que todas las categorías tienen la\n",
        "# misma frecuencia esperada.\n",
        "\n",
        "# ddof (opcional, por defecto 0): Grados de libertad adicionales que se restan al cálculo de la prueba.\n",
        "\n",
        "# axis (opcional, por defecto 0): Especifica la dimensión sobre la cual se calcula el test si los datos son multidimensionales.\n",
        "\n",
        "\n",
        "# En este caso:\n",
        "# f_obs = observed_frequencies ,  f_exp = expected_frequencies , ddof = 0 , axis = 0\n",
        "\n",
        "\n",
        "print(f\"Estadístico Chi-cuadrado: {chi2_stat:.4f}\")\n",
        "print(f\"Valor p: {p_value:.4f}\")\n"
      ],
      "metadata": {
        "id": "OZ-MqkCnwh0K",
        "colab": {
          "base_uri": "https://localhost:8080/"
        },
        "outputId": "43eee500-9958-4d68-d2ff-fa8e99b39adc"
      },
      "execution_count": null,
      "outputs": [
        {
          "output_type": "stream",
          "name": "stdout",
          "text": [
            "Estadístico Chi-cuadrado: 9.0000\n",
            "Valor p: 0.4373\n"
          ]
        }
      ]
    },
    {
      "cell_type": "markdown",
      "source": [
        "Se plantea la hipotesis nula $H_0$ y la hipotesis alternativa $ H_a$:\n",
        "\n",
        "$$\n",
        "H_0: \\text{Los datos provienen de una distribución uniforme.}\n",
        "$$\n",
        "\n",
        "\n",
        "\n",
        "$$\n",
        "H_1: \\text{Los datos NO  provienen de una distribución uniforme.}\n",
        "$$\n",
        "\n",
        "El valor p calculado se compara con el nivel de significancia $ \\alpha $ para tomar una decisión:\n",
        "\n",
        "- Si $ p\\text{-value} \\geq  \\alpha $, no rechazamos la hipótesis nula.\n",
        "- Si $ p\\text{-value} < \\alpha $,  rechazamos la hipótesis nula."
      ],
      "metadata": {
        "id": "FH6dcCwDsZZ6"
      }
    },
    {
      "cell_type": "markdown",
      "source": [
        "<p align=\"center\">\n",
        "    <font size=\"10\" color=\"red\">P-value</font>\n",
        "</p>"
      ],
      "metadata": {
        "id": "o1vy638tyZAx"
      }
    },
    {
      "cell_type": "markdown",
      "source": [
        "El **p-value** en una prueba de bondad de ajuste usando la distribución **Chi-cuadrado** ($\\chi^2$) se define como la probabilidad de que el estadístico de prueba tome un valor mayor o igual al valor observado bajo la hipótesis nula:\n",
        "\n",
        "$$\n",
        "p\\text{-value}  = P(\\chi^2 \\geq \\chi^2_{obs} \\mid H_0)\n",
        "$$\n",
        "\n",
        "Se tiene la integral indefinida:\n",
        "\n",
        "$$\n",
        "p\\text{-value} = \\int_{\\chi^2_{obs}}^{\\infty} f_{\\chi^2}(x; k) \\, dx\n",
        "$$\n",
        "\n",
        "Donde:\n",
        "\n",
        "• $f_{\\chi^2}(x; k)$ es la función de densidad de probabilidad (PDF) de la distribución Chi-cuadrado con $k$ grados de libertad, dada por:\n",
        "\n",
        "$$\n",
        "f_{\\chi^2}(x; k) = \\frac{x^{(k/2 - 1)} e^{-x/2}}{2^{k/2} \\Gamma(k/2)}, \\quad x > 0\n",
        "$$\n",
        "\n",
        "\n",
        "• $\\Gamma(k/2)$ es la función gamma, que generaliza el factorial para valores no enteros.\n",
        "\n",
        "También se puede expresar en términos de la función de distribución acumulativa (CDF) de la distribución Chi-cuadrado, denotada por $F_{\\chi^2}(x; k)$:\n",
        "\n",
        "$$\n",
        "p\\text{-value} = 1 - F_{\\chi^2}(\\chi^2_{obs}, k)\n",
        "$$\n",
        "\n",
        "Donde:\n",
        "\n",
        "$$\n",
        "F_{\\chi^2}(\\chi^2_{obs}, k) = \\int_{0}^{\\chi^2_{obs}} f_{\\chi^2}(x; k) \\, dx\n",
        "$$\n",
        "\n",
        "El $ p\\text{-value} $ representa la probabilidad de obtener un estadístico $\\chi^2$ tan extremo como el observado (o más) bajo la hipótesis nula.\n",
        "\n",
        "- Si $p\\text{-value}  \\leq \\alpha$ (nivel de significancia), se rechaza la hipótesis nula $H_0$.\n",
        "\n",
        "- Si $p\\text{-value} > \\alpha$ (nivel de significancia), se acepta la hipótesis nula $H_0$."
      ],
      "metadata": {
        "id": "4gUks7ImnZP_"
      }
    },
    {
      "cell_type": "code",
      "source": [
        "# Interpretación\n",
        "alpha = 0.05  # Nivel de significancia de 0.05\n",
        "if p_value > alpha:\n",
        "    print(\"No se rechaza la hipótesis nula: los datos podrían provenir de una distribución uniforme.\")\n",
        "else:\n",
        "    print(\"Se rechaza la hipótesis nula: los datos no siguen una distribución uniforme.\")"
      ],
      "metadata": {
        "colab": {
          "base_uri": "https://localhost:8080/"
        },
        "id": "LksLLTKWqijq",
        "outputId": "152f286d-be6c-4ad9-9c5d-b8168dba0e4a"
      },
      "execution_count": null,
      "outputs": [
        {
          "output_type": "stream",
          "name": "stdout",
          "text": [
            "No se rechaza la hipótesis nula: los datos podrían provenir de una distribución uniforme.\n"
          ]
        }
      ]
    }
  ]
}